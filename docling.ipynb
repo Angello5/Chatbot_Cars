{
 "cells": [
  {
   "cell_type": "code",
   "id": "initial_id",
   "metadata": {
    "collapsed": true,
    "ExecuteTime": {
     "end_time": "2025-08-09T22:23:07.031808Z",
     "start_time": "2025-08-09T22:23:07.025896Z"
    }
   },
   "source": [
    "from pathlib import Path\n",
    "\n",
    "BASE = Path.cwd()\n",
    "PDF_DIR = BASE / \"data\" / \"pdfs\"\n",
    "PROCESSED_DIR = BASE / \"data\" / \"processed\"\n",
    "INDEX_DIR = BASE / \"index\" / \"chroma_autos\"\n",
    "\n",
    "for p in [PDF_DIR, PROCESSED_DIR, INDEX_DIR]:\n",
    "    p.mkdir(parents=True, exist_ok=True)\n",
    "\n",
    "PDF_DIR  # Coloca aquí tus fichas PDF (por marca/modelo)\n"
   ],
   "outputs": [
    {
     "data": {
      "text/plain": [
       "PosixPath('/home/pibezx/Documents/Proyectos/data/pdfs')"
      ]
     },
     "execution_count": 11,
     "metadata": {},
     "output_type": "execute_result"
    }
   ],
   "execution_count": 11
  },
  {
   "metadata": {},
   "cell_type": "code",
   "outputs": [],
   "execution_count": null,
   "source": "",
   "id": "607970b413e548db"
  }
 ],
 "metadata": {
  "kernelspec": {
   "display_name": "Kernel RAG",
   "language": "python",
   "name": "rag"
  },
  "language_info": {
   "codemirror_mode": {
    "name": "ipython",
    "version": 2
   },
   "file_extension": ".py",
   "mimetype": "text/x-python",
   "name": "python",
   "nbconvert_exporter": "python",
   "pygments_lexer": "ipython2",
   "version": "2.7.6"
  }
 },
 "nbformat": 4,
 "nbformat_minor": 5
}

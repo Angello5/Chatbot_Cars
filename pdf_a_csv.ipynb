{
 "cells": [
  {
   "cell_type": "code",
   "execution_count": 1,
   "metadata": {},
   "outputs": [],
   "source": [
    "import os \n",
    "from pdf2image import convert_from_path\n",
    "import pytesseract"
   ]
  },
  {
   "cell_type": "code",
   "execution_count": 2,
   "metadata": {},
   "outputs": [],
   "source": [
    "def convertirpdf_imagene(pdf_path, output_dir):\n",
    "    \"\"\"\n",
    "    Convierte un PDF a imágenes y las guarda en un directorio.\n",
    "    \"\"\"\n",
    "    os.makedirs(output_dir, exist_ok=True)  # Crear el directorio si no existe\n",
    "    paginas = convert_from_path(pdf_path)\n",
    "    imagenes_paths = []\n",
    "\n",
    "    for i, pagina in enumerate(paginas):\n",
    "        img_path = os.path.join(output_dir, f\"pagina_{i + 1}.png\")\n",
    "        pagina.save(img_path, \"PNG\")\n",
    "        imagenes_paths.append(img_path)\n",
    "\n",
    "    return imagenes_paths"
   ]
  },
  {
   "cell_type": "code",
   "execution_count": 3,
   "metadata": {},
   "outputs": [],
   "source": [
    "def extraer_texto_con_ocr(imagenes_paths, output_txt):\n",
    "    \"\"\"\n",
    "    Extrae texto de imágenes utilizando OCR (Tesseract) y lo guarda en un archivo de texto.\n",
    "    \"\"\"\n",
    "    ocr_results = []\n",
    "    for img_path in imagenes_paths:\n",
    "        texto = pytesseract.image_to_string(img_path, lang=\"spa\")  # OCR en español\n",
    "        ocr_results.append(texto)\n",
    "\n",
    "    # Guardar el texto extraído en un archivo\n",
    "    with open(output_txt, \"w\", encoding=\"utf-8\") as f:\n",
    "        f.writelines(\"\\n\\n\".join(ocr_results))\n",
    "\n",
    "    print(f\"Texto extraído guardado en: {output_txt}\")"
   ]
  },
  {
   "cell_type": "code",
   "execution_count": 5,
   "metadata": {},
   "outputs": [
    {
     "name": "stdout",
     "output_type": "stream",
     "text": [
      "Convirtiendo PDF a imágenes...\n",
      "Extrayendo texto con OCR...\n",
      "Texto extraído guardado en: especificaciones_ocr.txt\n"
     ]
    }
   ],
   "source": [
    "# Ruta del PDF (en una carpeta dentro del proyecto)\n",
    "pdf_path = \"Toyota/CATALOGO_4RUNNER_PERU_0.pdf\"\n",
    "# Directorio donde se guardarán las imágenes\n",
    "output_dir = \"carpeta_con_imagenes\"\n",
    "# Archivo donde se guardará el texto extraído\n",
    "output_txt = \"especificaciones_ocr.txt\"\n",
    "\n",
    "# Ejecutar el proceso\n",
    "print(\"Convirtiendo PDF a imágenes...\")\n",
    "imagenes_paths = convertirpdf_imagene(pdf_path, output_dir)\n",
    "\n",
    "print(\"Extrayendo texto con OCR...\")\n",
    "extraer_texto_con_ocr(imagenes_paths, output_txt)"
   ]
  },
  {
   "cell_type": "code",
   "execution_count": null,
   "metadata": {},
   "outputs": [],
   "source": []
  }
 ],
 "metadata": {
  "kernelspec": {
   "display_name": "paginaweb_automoviles",
   "language": "python",
   "name": "python3"
  },
  "language_info": {
   "codemirror_mode": {
    "name": "ipython",
    "version": 3
   },
   "file_extension": ".py",
   "mimetype": "text/x-python",
   "name": "python",
   "nbconvert_exporter": "python",
   "pygments_lexer": "ipython3",
   "version": "3.11.11"
  }
 },
 "nbformat": 4,
 "nbformat_minor": 2
}

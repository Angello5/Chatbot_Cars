{
 "cells": [
  {
   "cell_type": "code",
   "execution_count": null,
   "metadata": {},
   "outputs": [],
   "source": [
    "import os \n",
    "from pdf2image import convert_from_path\n",
    "import cv2\n",
    "import pytesseract\n",
    "from concurrent.futures import ProcessPoolExecutor, as_completed"
   ]
  },
  {
   "cell_type": "code",
   "execution_count": null,
   "metadata": {},
   "outputs": [],
   "source": [
    "def procesar_pdf(pdf_path):\n",
    "    #Se encarga de convertir todo el pdf en imagenes, procesa cada imagen y extrae el texto \n",
    "    try:\n",
    "        pages = convert_from_path(pdf_path, dpi = 400)\n",
    "        texts = []\n",
    "\n",
    "        for i, page in enumerate(pages):\n",
    "            #guarda imagen como temporal\n",
    "            temp_img_path = pdf_path.replace('.pdf', f'_page_{i}.jpg')\n",
    "            page.save(temp_img_path, 'JPG')\n",
    "\n",
    "            #carga imagen y procesa con cv2\n",
    "            img = cv2.imread(temp_img_path)\n",
    "            gray = cv2.cvtColor(img, cv2.COLOR_BAYER_BG2GRAY)\n",
    "            thresh = cv2.threshold(gray,0,255, cv2.THRESH_BINARY + cv2.THRESH_OTSU)[1]\n",
    "\n",
    "            #extrae con tesseract\n",
    "            custom_config = r'--oem 3 --psm 6'\n",
    "            text = pytesseract.image_to_string(thresh, config=custom_config, lang='eng')\n",
    "            texts.append(text)\n",
    "\n",
    "            #eliminar imagen temporal\n",
    "            os.remove(temp_img_path)\n",
    "\n",
    "        return \"\\n\".join(texts)\n",
    "    except Exception as e:\n",
    "        return f\"Error procesando {pdf_path} : {e}\""
   ]
  }
 ],
 "metadata": {
  "kernelspec": {
   "display_name": "chatbot_ml",
   "language": "python",
   "name": "python3"
  },
  "language_info": {
   "codemirror_mode": {
    "name": "ipython",
    "version": 3
   },
   "file_extension": ".py",
   "mimetype": "text/x-python",
   "name": "python",
   "nbconvert_exporter": "python",
   "pygments_lexer": "ipython3",
   "version": "3.13.2"
  }
 },
 "nbformat": 4,
 "nbformat_minor": 2
}

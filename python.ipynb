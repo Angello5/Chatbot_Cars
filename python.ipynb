{
 "cells": [
  {
   "cell_type": "code",
   "execution_count": 24,
   "metadata": {},
   "outputs": [],
   "source": [
    "import os \n",
    "from pdf2image import convert_from_path\n",
    "import cv2\n",
    "import pytesseract\n",
    "from concurrent.futures import ProcessPoolExecutor, as_completed"
   ]
  },
  {
   "cell_type": "code",
   "execution_count": 25,
   "metadata": {},
   "outputs": [],
   "source": [
    "def extraer_texto_pdf(pdf_path):\n",
    "    #Extrae el texto \n",
    "    try:\n",
    "        pages = convert_from_path(pdf_path, dpi = 500)\n",
    "        texts = []\n",
    "\n",
    "        for i, page in enumerate(pages):\n",
    "            #guarda imagen como temporal\n",
    "            temp_img_path = pdf_path.replace('.pdf', f'_page_{i}.jpg')\n",
    "            page.save(temp_img_path, 'JPEG')\n",
    "\n",
    "            #carga imagen y procesa con cv2\n",
    "            img = cv2.imread(temp_img_path)\n",
    "            if img is None:\n",
    "                print(f\"No se puede leer la imagen {temp_img_path}\")\n",
    "                continue\n",
    "\n",
    "             # Verificar el número de canales\n",
    "            if len(img.shape) == 2:\n",
    "                # Ya está en escala de grises\n",
    "                gray = img\n",
    "            elif img.shape[2] == 4:\n",
    "                # Imagen con canal alfa (BGRA)\n",
    "                gray = cv2.cvtColor(img, cv2.COLOR_BGRA2GRAY)\n",
    "            elif img.shape[2] == 3:\n",
    "                gray = cv2.cvtColor(img, cv2.COLOR_BGR2GRAY)\n",
    "            else:\n",
    "                gray = img  # Si no coincide, se deja tal cual\n",
    "\n",
    "            thresh = cv2.threshold(gray,0,255, cv2.THRESH_BINARY + cv2.THRESH_OTSU)[1]\n",
    "\n",
    "            #extrae con tesseract\n",
    "            custom_config = r'--oem 3 --psm 6'\n",
    "            text = pytesseract.image_to_string(thresh, config=custom_config, lang='eng')\n",
    "            texts.append(text)\n",
    "\n",
    "            #eliminar imagen temporal\n",
    "            os.remove(temp_img_path)\n",
    "\n",
    "        return \"\\n\".join(texts)\n",
    "    except Exception as e:\n",
    "        return f\"Error procesando {pdf_path} : {e}\""
   ]
  },
  {
   "cell_type": "code",
   "execution_count": 26,
   "metadata": {},
   "outputs": [],
   "source": [
    "def procesar_pdfs(root_dir):\n",
    "    pdf_texts = {}\n",
    "    for dirpath, _, filenames in os.walk(root_dir):\n",
    "        for file in filenames:\n",
    "            if file.lower().endswith('.pdf'):\n",
    "                pdf_path = os.path.join(dirpath,file)\n",
    "                print(f\"Procesando {pdf_path}\")\n",
    "                text = extraer_texto_pdf(pdf_path)\n",
    "                pdf_texts[pdf_path] = text\n",
    "    return pdf_texts"
   ]
  },
  {
   "cell_type": "code",
   "execution_count": 31,
   "metadata": {},
   "outputs": [
    {
     "name": "stdout",
     "output_type": "stream",
     "text": [
      "Procesando /home/pibezx/Documents/Proyectos/PaginaWeb_Automoviles/Chatbot_Cars/Ford/fpe-ficha-tecnica-Nuevo-Bronco.pdf\n",
      "Procesando /home/pibezx/Documents/Proyectos/PaginaWeb_Automoviles/Chatbot_Cars/Ford/fpe-ficha-tecnica-F-150-hev.pdf\n",
      "Procesando /home/pibezx/Documents/Proyectos/PaginaWeb_Automoviles/Chatbot_Cars/Ford/fpe-ficha-tecnica-Nueva-Explorer.pdf\n",
      "Procesando /home/pibezx/Documents/Proyectos/PaginaWeb_Automoviles/Chatbot_Cars/Ford/fpe-ficha-tecnica-Maverick-hibrida.pdf\n",
      "Procesando /home/pibezx/Documents/Proyectos/PaginaWeb_Automoviles/Chatbot_Cars/Ford/fpe-ficha-tecnica-Ranger-Raptor.pdf\n",
      "Procesando /home/pibezx/Documents/Proyectos/PaginaWeb_Automoviles/Chatbot_Cars/Ford/fpe-ficha-tecnica-nueva-ranger.pdf\n",
      "Procesando /home/pibezx/Documents/Proyectos/PaginaWeb_Automoviles/Chatbot_Cars/Ford/fpe-ficha-tecnica-Escape-hibrida.pdf\n",
      "Procesando /home/pibezx/Documents/Proyectos/PaginaWeb_Automoviles/Chatbot_Cars/Ford/fpe-ficha-tecnica-Nuevo-Mustang.pdf\n",
      "Procesando /home/pibezx/Documents/Proyectos/PaginaWeb_Automoviles/Chatbot_Cars/Ford/fpe-ficha-tecnica-Explorer-ST.pdf\n",
      "Procesando /home/pibezx/Documents/Proyectos/PaginaWeb_Automoviles/Chatbot_Cars/Ford/fpe-ficha-tecnica-F-150-raptor.pdf\n",
      "Procesando /home/pibezx/Documents/Proyectos/PaginaWeb_Automoviles/Chatbot_Cars/Ford/fpe-ficha-tecnica-F150.pdf\n",
      "Procesando /home/pibezx/Documents/Proyectos/PaginaWeb_Automoviles/Chatbot_Cars/Ford/fpe-ficha-tecnica-Bronco-sport.pdf\n",
      "Procesando /home/pibezx/Documents/Proyectos/PaginaWeb_Automoviles/Chatbot_Cars/Ford/fpe-ficha-tecnica-Maverick.pdf\n",
      "Procesando /home/pibezx/Documents/Proyectos/PaginaWeb_Automoviles/Chatbot_Cars/Ford/fpe-ficha-tecnica-Expedition.pdf\n",
      "Procesando /home/pibezx/Documents/Proyectos/PaginaWeb_Automoviles/Chatbot_Cars/Ford/fpe-ficha-tecnica-Territory.pdf\n",
      "Guardando el texto extraido en /home/pibezx/Documents/Proyectos/PaginaWeb_Automoviles/Chatbot_Cars/Ford/fpe-ficha-tecnica-Nuevo-Bronco.txt\n",
      "Guardando el texto extraido en /home/pibezx/Documents/Proyectos/PaginaWeb_Automoviles/Chatbot_Cars/Ford/fpe-ficha-tecnica-F-150-hev.txt\n",
      "Guardando el texto extraido en /home/pibezx/Documents/Proyectos/PaginaWeb_Automoviles/Chatbot_Cars/Ford/fpe-ficha-tecnica-Nueva-Explorer.txt\n",
      "Guardando el texto extraido en /home/pibezx/Documents/Proyectos/PaginaWeb_Automoviles/Chatbot_Cars/Ford/fpe-ficha-tecnica-Maverick-hibrida.txt\n",
      "Guardando el texto extraido en /home/pibezx/Documents/Proyectos/PaginaWeb_Automoviles/Chatbot_Cars/Ford/fpe-ficha-tecnica-Ranger-Raptor.txt\n",
      "Guardando el texto extraido en /home/pibezx/Documents/Proyectos/PaginaWeb_Automoviles/Chatbot_Cars/Ford/fpe-ficha-tecnica-nueva-ranger.txt\n",
      "Guardando el texto extraido en /home/pibezx/Documents/Proyectos/PaginaWeb_Automoviles/Chatbot_Cars/Ford/fpe-ficha-tecnica-Escape-hibrida.txt\n",
      "Guardando el texto extraido en /home/pibezx/Documents/Proyectos/PaginaWeb_Automoviles/Chatbot_Cars/Ford/fpe-ficha-tecnica-Nuevo-Mustang.txt\n",
      "Guardando el texto extraido en /home/pibezx/Documents/Proyectos/PaginaWeb_Automoviles/Chatbot_Cars/Ford/fpe-ficha-tecnica-Explorer-ST.txt\n",
      "Guardando el texto extraido en /home/pibezx/Documents/Proyectos/PaginaWeb_Automoviles/Chatbot_Cars/Ford/fpe-ficha-tecnica-F-150-raptor.txt\n",
      "Guardando el texto extraido en /home/pibezx/Documents/Proyectos/PaginaWeb_Automoviles/Chatbot_Cars/Ford/fpe-ficha-tecnica-F150.txt\n",
      "Guardando el texto extraido en /home/pibezx/Documents/Proyectos/PaginaWeb_Automoviles/Chatbot_Cars/Ford/fpe-ficha-tecnica-Bronco-sport.txt\n",
      "Guardando el texto extraido en /home/pibezx/Documents/Proyectos/PaginaWeb_Automoviles/Chatbot_Cars/Ford/fpe-ficha-tecnica-Maverick.txt\n",
      "Guardando el texto extraido en /home/pibezx/Documents/Proyectos/PaginaWeb_Automoviles/Chatbot_Cars/Ford/fpe-ficha-tecnica-Expedition.txt\n",
      "Guardando el texto extraido en /home/pibezx/Documents/Proyectos/PaginaWeb_Automoviles/Chatbot_Cars/Ford/fpe-ficha-tecnica-Territory.txt\n"
     ]
    }
   ],
   "source": [
    "if __name__ == '__main__':\n",
    "    #se define carpeta raiz donde se encuentran todos los pdfs\n",
    "    root_directory = '/home/pibezx/Documents/Proyectos/PaginaWeb_Automoviles/Chatbot_Cars/Ford' \n",
    "    extracted_data = procesar_pdfs(root_directory)\n",
    "\n",
    "    for pdf_path, text in extracted_data.items():\n",
    "        txt_path = pdf_path.replace('.pdf', '.txt')\n",
    "        with open(txt_path, 'w', encoding='utf-8') as f:\n",
    "            f.write(text)\n",
    "        print(f\"Guardando el texto extraido en {txt_path}\")"
   ]
  },
  {
   "cell_type": "code",
   "execution_count": null,
   "metadata": {},
   "outputs": [],
   "source": []
  }
 ],
 "metadata": {
  "kernelspec": {
   "display_name": "chatbot_ml",
   "language": "python",
   "name": "python3"
  },
  "language_info": {
   "codemirror_mode": {
    "name": "ipython",
    "version": 3
   },
   "file_extension": ".py",
   "mimetype": "text/x-python",
   "name": "python",
   "nbconvert_exporter": "python",
   "pygments_lexer": "ipython3",
   "version": "3.13.2"
  }
 },
 "nbformat": 4,
 "nbformat_minor": 2
}

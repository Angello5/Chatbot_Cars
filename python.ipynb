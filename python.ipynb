{
 "cells": [
  {
   "cell_type": "code",
   "execution_count": 25,
   "metadata": {},
   "outputs": [],
   "source": [
    "import requests\n",
    "import time\n",
    "from bs4 import BeautifulSoup\n",
    "from urllib.parse import urljoin\n",
    "from selenium import webdriver\n",
    "from selenium.webdriver.common.by import By\n",
    "from selenium.webdriver.firefox.options import Options\n",
    "from selenium.webdriver.firefox.service import Service\n"
   ]
  },
  {
   "cell_type": "code",
   "execution_count": 26,
   "metadata": {},
   "outputs": [],
   "source": [
    "#Defini una url base y la pagina que contiene los modelos \n",
    "\n",
    "BASE_URL = \"https://www.ford.pe\"\n",
    "MODELOS_URL = \"https://www.ford.pe/todos/\""
   ]
  },
  {
   "cell_type": "code",
   "execution_count": 27,
   "metadata": {},
   "outputs": [],
   "source": [
    "def init_driver():\n",
    "    \"\"\"\n",
    "    Inicializa el driver de Selenium para Firefox utilizando un perfil existente.\n",
    "    \"\"\"\n",
    "    options = Options()\n",
    "    options.headless = True  # Modo headless para evitar abrir ventanas visibles\n",
    "\n",
    "    driver = webdriver.Firefox(options=options)\n",
    "    return driver"
   ]
  },
  {
   "cell_type": "code",
   "execution_count": 28,
   "metadata": {},
   "outputs": [],
   "source": [
    "def obtener_categorias(driver):\n",
    "    \"\"\"\n",
    "    Accede a la página principal de modelos y extrae las categorías principales: SUV's, Pick-ups y Autos.\n",
    "    \"\"\"\n",
    "    print(\"Accediendo a la página de modelos:\", MODELOS_URL)\n",
    "    driver.get(MODELOS_URL)\n",
    "    time.sleep(10)  # Espera para que la página cargue completamente\n",
    "\n",
    "    # Buscar las categorías por encabezados\n",
    "    categorias = driver.find_elements(By.XPATH, \"//div[@class='splitter section']\")\n",
    "    \n",
    "    if not categorias:\n",
    "        print(\"No se encontraron categorías en la página.\")\n",
    "        return []\n",
    "\n",
    "    modelos = []  # Lista para almacenar los enlaces a las páginas de modelos\n",
    "\n",
    "    for categoria_div in categorias:\n",
    "        try:\n",
    "            # Encuentra el nombre de la categoría (por ejemplo, SUV's)\n",
    "            categoria_titulo = categoria_div.find_element(By.XPATH, \".//h2\").text\n",
    "            print(f\"Categoría encontrada: {categoria_titulo}\")\n",
    "\n",
    "            # Encuentra los enlaces \"Conoce más\" dentro de la categoría\n",
    "            enlaces_modelos = categoria_div.find_elements(By.XPATH, \".//a[contains(text(), 'Conoce más')]\")\n",
    "            for enlace in enlaces_modelos:\n",
    "                url_modelo = enlace.get_attribute(\"href\")\n",
    "                modelos.append({\"categoria\": categoria_titulo, \"url\": url_modelo})\n",
    "        except Exception as e:\n",
    "            print(f\"Error al procesar una categoría: {e}\")\n",
    "\n",
    "    return modelos\n"
   ]
  },
  {
   "cell_type": "code",
   "execution_count": 29,
   "metadata": {},
   "outputs": [],
   "source": [
    "def extraer_ficha_tecnica(driver, url_modelo):\n",
    "    \"\"\"\n",
    "    Navega a la página del modelo y extrae el enlace de la ficha técnica (PDF).\n",
    "    \"\"\"\n",
    "    print(f\"Accediendo a la página del modelo: {url_modelo}\")\n",
    "    driver.get(url_modelo)\n",
    "    time.sleep(10)  # Esperar para que la página cargue completamente\n",
    "\n",
    "    try:\n",
    "        # Buscar el enlace al PDF de la ficha técnica\n",
    "        ficha_element = driver.find_element(By.XPATH, \"//a[contains(text(), 'Ficha técnica')]\")\n",
    "        ficha_url = ficha_element.get_attribute(\"href\")\n",
    "        print(f\"Ficha técnica encontrada: {ficha_url}\")\n",
    "        return ficha_url\n",
    "    except Exception as e:\n",
    "        print(f\"No se encontró ficha técnica en {url_modelo}: {e}\")\n",
    "        return None"
   ]
  },
  {
   "cell_type": "code",
   "execution_count": 30,
   "metadata": {},
   "outputs": [
    {
     "name": "stdout",
     "output_type": "stream",
     "text": [
      "Accediendo a la página de modelos: https://www.ford.pe/todos/\n",
      "Error al procesar una categoría: Message: Unable to locate element: .//h2; For documentation on this error, please visit: https://www.selenium.dev/documentation/webdriver/troubleshooting/errors#no-such-element-exception\n",
      "Stacktrace:\n",
      "RemoteError@chrome://remote/content/shared/RemoteError.sys.mjs:8:8\n",
      "WebDriverError@chrome://remote/content/shared/webdriver/Errors.sys.mjs:193:5\n",
      "NoSuchElementError@chrome://remote/content/shared/webdriver/Errors.sys.mjs:511:5\n",
      "dom.find/</<@chrome://remote/content/shared/DOM.sys.mjs:136:16\n",
      "\n",
      "Error al procesar una categoría: Message: Unable to locate element: .//h2; For documentation on this error, please visit: https://www.selenium.dev/documentation/webdriver/troubleshooting/errors#no-such-element-exception\n",
      "Stacktrace:\n",
      "RemoteError@chrome://remote/content/shared/RemoteError.sys.mjs:8:8\n",
      "WebDriverError@chrome://remote/content/shared/webdriver/Errors.sys.mjs:193:5\n",
      "NoSuchElementError@chrome://remote/content/shared/webdriver/Errors.sys.mjs:511:5\n",
      "dom.find/</<@chrome://remote/content/shared/DOM.sys.mjs:136:16\n",
      "\n",
      "Error al procesar una categoría: Message: Unable to locate element: .//h2; For documentation on this error, please visit: https://www.selenium.dev/documentation/webdriver/troubleshooting/errors#no-such-element-exception\n",
      "Stacktrace:\n",
      "RemoteError@chrome://remote/content/shared/RemoteError.sys.mjs:8:8\n",
      "WebDriverError@chrome://remote/content/shared/webdriver/Errors.sys.mjs:193:5\n",
      "NoSuchElementError@chrome://remote/content/shared/webdriver/Errors.sys.mjs:511:5\n",
      "dom.find/</<@chrome://remote/content/shared/DOM.sys.mjs:136:16\n",
      "\n",
      "Error al procesar una categoría: Message: Unable to locate element: .//h2; For documentation on this error, please visit: https://www.selenium.dev/documentation/webdriver/troubleshooting/errors#no-such-element-exception\n",
      "Stacktrace:\n",
      "RemoteError@chrome://remote/content/shared/RemoteError.sys.mjs:8:8\n",
      "WebDriverError@chrome://remote/content/shared/webdriver/Errors.sys.mjs:193:5\n",
      "NoSuchElementError@chrome://remote/content/shared/webdriver/Errors.sys.mjs:511:5\n",
      "dom.find/</<@chrome://remote/content/shared/DOM.sys.mjs:136:16\n",
      "\n",
      "No se encontraron modelos.\n"
     ]
    }
   ],
   "source": [
    "def main():\n",
    "    driver = init_driver()\n",
    "\n",
    "    # Paso 1: Obtener los modelos desde la página principal\n",
    "    modelos = obtener_categorias(driver)\n",
    "    if not modelos:\n",
    "        print(\"No se encontraron modelos.\")\n",
    "        driver.quit()\n",
    "        return\n",
    "\n",
    "    # Paso 2: Extraer las fichas técnicas de cada modelo\n",
    "    resultados = []\n",
    "    for modelo in modelos:\n",
    "        ficha_tecnica = extraer_ficha_tecnica(driver, modelo[\"url\"])\n",
    "        resultados.append({\n",
    "            \"categoria\": modelo[\"categoria\"],\n",
    "            \"url_modelo\": modelo[\"url\"],\n",
    "            \"ficha_tecnica\": ficha_tecnica\n",
    "        })\n",
    "\n",
    "    driver.quit()\n",
    "\n",
    "\n",
    "if __name__ == \"__main__\":\n",
    "    main()"
   ]
  },
  {
   "cell_type": "code",
   "execution_count": null,
   "metadata": {},
   "outputs": [],
   "source": []
  }
 ],
 "metadata": {
  "kernelspec": {
   "display_name": "paginaweb_automoviles",
   "language": "python",
   "name": "python3"
  },
  "language_info": {
   "codemirror_mode": {
    "name": "ipython",
    "version": 3
   },
   "file_extension": ".py",
   "mimetype": "text/x-python",
   "name": "python",
   "nbconvert_exporter": "python",
   "pygments_lexer": "ipython3",
   "version": "3.11.11"
  }
 },
 "nbformat": 4,
 "nbformat_minor": 2
}

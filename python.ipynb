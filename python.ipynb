{
 "cells": [
  {
   "cell_type": "code",
   "metadata": {
    "ExecuteTime": {
     "end_time": "2025-08-09T18:22:45.256081Z",
     "start_time": "2025-08-09T18:22:45.241945Z"
    }
   },
   "source": [
    "import os \n",
    "from pdf2image import convert_from_path\n",
    "import cv2\n",
    "import pytesseract\n",
    "from concurrent.futures import ProcessPoolExecutor, as_completed"
   ],
   "outputs": [
    {
     "ename": "ModuleNotFoundError",
     "evalue": "No module named 'pdf2image'",
     "output_type": "error",
     "traceback": [
      "\u001B[0;31m---------------------------------------------------------------------------\u001B[0m",
      "\u001B[0;31mModuleNotFoundError\u001B[0m                       Traceback (most recent call last)",
      "Cell \u001B[0;32mIn[2], line 2\u001B[0m\n\u001B[1;32m      1\u001B[0m \u001B[38;5;28;01mimport\u001B[39;00m\u001B[38;5;250m \u001B[39m\u001B[38;5;21;01mos\u001B[39;00m \n\u001B[0;32m----> 2\u001B[0m \u001B[38;5;28;01mfrom\u001B[39;00m\u001B[38;5;250m \u001B[39m\u001B[38;5;21;01mpdf2image\u001B[39;00m\u001B[38;5;250m \u001B[39m\u001B[38;5;28;01mimport\u001B[39;00m convert_from_path\n\u001B[1;32m      3\u001B[0m \u001B[38;5;28;01mimport\u001B[39;00m\u001B[38;5;250m \u001B[39m\u001B[38;5;21;01mcv2\u001B[39;00m\n\u001B[1;32m      4\u001B[0m \u001B[38;5;28;01mimport\u001B[39;00m\u001B[38;5;250m \u001B[39m\u001B[38;5;21;01mpytesseract\u001B[39;00m\n",
      "\u001B[0;31mModuleNotFoundError\u001B[0m: No module named 'pdf2image'"
     ]
    }
   ],
   "execution_count": 2
  },
  {
   "cell_type": "code",
   "execution_count": 5,
   "metadata": {},
   "outputs": [],
   "source": [
    "def extraer_texto_pdf(pdf_path):\n",
    "    #Extrae el texto \n",
    "    try:\n",
    "        pages = convert_from_path(pdf_path, dpi = 400)\n",
    "        texts = []\n",
    "\n",
    "        for i, page in enumerate(pages):\n",
    "            #guarda imagen como temporal\n",
    "            temp_img_path = pdf_path.replace('.pdf', f'_page_{i}.jpg')\n",
    "            page.save(temp_img_path, 'JPEG')\n",
    "\n",
    "            #carga imagen y procesa con cv2\n",
    "            img = cv2.imread(temp_img_path)\n",
    "            if img is None:\n",
    "                print(f\"No se puede leer la imagen {temp_img_path}\")\n",
    "                continue\n",
    "\n",
    "             # Verificar el número de canales\n",
    "            if len(img.shape) == 2:\n",
    "                # Ya está en escala de grises\n",
    "                gray = img\n",
    "            elif img.shape[2] == 4:\n",
    "                # Imagen con canal alfa (BGRA)\n",
    "                gray = cv2.cvtColor(img, cv2.COLOR_BGRA2GRAY)\n",
    "            elif img.shape[2] == 3:\n",
    "                gray = cv2.cvtColor(img, cv2.COLOR_BGR2GRAY)\n",
    "            else:\n",
    "                gray = img  # Si no coincide, se deja tal cual\n",
    "\n",
    "            thresh = cv2.threshold(gray,0,255, cv2.THRESH_BINARY + cv2.THRESH_OTSU)[1]\n",
    "\n",
    "            #extrae con tesseract\n",
    "            custom_config = r'--oem 3 --psm 6'\n",
    "            text = pytesseract.image_to_string(thresh, config=custom_config, lang='eng')\n",
    "            texts.append(text)\n",
    "\n",
    "            #eliminar imagen temporal\n",
    "            os.remove(temp_img_path)\n",
    "\n",
    "        return \"\\n\".join(texts)\n",
    "    except Exception as e:\n",
    "        return f\"Error procesando {pdf_path} : {e}\""
   ]
  },
  {
   "cell_type": "code",
   "execution_count": 6,
   "metadata": {},
   "outputs": [],
   "source": [
    "def procesar_pdfs(root_dir):\n",
    "    pdf_texts = {}\n",
    "    for dirpath, _, filenames in os.walk(root_dir):\n",
    "        for file in filenames:\n",
    "            if file.lower().endswith('.pdf'):\n",
    "                pdf_path = os.path.join(dirpath,file)\n",
    "                print(f\"Procesando {pdf_path}\")\n",
    "                text = extraer_texto_pdf(pdf_path)\n",
    "                pdf_texts[pdf_path] = text\n",
    "    return pdf_texts"
   ]
  },
  {
   "cell_type": "code",
   "execution_count": 10,
   "metadata": {},
   "outputs": [
    {
     "name": "stdout",
     "output_type": "stream",
     "text": [
      "Procesando /home/pibezx/Documents/Proyectos/PaginaWeb_Automoviles/Chatbot_Cars/Mitsubishi/fichatecnica-outlander-sport.pdf\n",
      "Procesando /home/pibezx/Documents/Proyectos/PaginaWeb_Automoviles/Chatbot_Cars/Mitsubishi/specs-new-montero-sport.pdf\n",
      "Procesando /home/pibezx/Documents/Proyectos/PaginaWeb_Automoviles/Chatbot_Cars/Mitsubishi/fichatecnica-newl200.pdf\n",
      "Procesando /home/pibezx/Documents/Proyectos/PaginaWeb_Automoviles/Chatbot_Cars/Mitsubishi/specs-new-outlander.pdf\n",
      "Procesando /home/pibezx/Documents/Proyectos/PaginaWeb_Automoviles/Chatbot_Cars/Mitsubishi/specs-new-asx.pdf\n",
      "Procesando /home/pibezx/Documents/Proyectos/PaginaWeb_Automoviles/Chatbot_Cars/Mitsubishi/specs-xpander.pdf\n",
      "Procesando /home/pibezx/Documents/Proyectos/PaginaWeb_Automoviles/Chatbot_Cars/Mitsubishi/specs-eclipse-cross.pdf\n",
      "Procesando /home/pibezx/Documents/Proyectos/PaginaWeb_Automoviles/Chatbot_Cars/Mitsubishi/specs-xpander-cross.pdf\n",
      "Guardando el texto extraido en /home/pibezx/Documents/Proyectos/PaginaWeb_Automoviles/Chatbot_Cars/Mitsubishi/fichatecnica-outlander-sport.txt\n",
      "Guardando el texto extraido en /home/pibezx/Documents/Proyectos/PaginaWeb_Automoviles/Chatbot_Cars/Mitsubishi/specs-new-montero-sport.txt\n",
      "Guardando el texto extraido en /home/pibezx/Documents/Proyectos/PaginaWeb_Automoviles/Chatbot_Cars/Mitsubishi/fichatecnica-newl200.txt\n",
      "Guardando el texto extraido en /home/pibezx/Documents/Proyectos/PaginaWeb_Automoviles/Chatbot_Cars/Mitsubishi/specs-new-outlander.txt\n",
      "Guardando el texto extraido en /home/pibezx/Documents/Proyectos/PaginaWeb_Automoviles/Chatbot_Cars/Mitsubishi/specs-new-asx.txt\n",
      "Guardando el texto extraido en /home/pibezx/Documents/Proyectos/PaginaWeb_Automoviles/Chatbot_Cars/Mitsubishi/specs-xpander.txt\n",
      "Guardando el texto extraido en /home/pibezx/Documents/Proyectos/PaginaWeb_Automoviles/Chatbot_Cars/Mitsubishi/specs-eclipse-cross.txt\n",
      "Guardando el texto extraido en /home/pibezx/Documents/Proyectos/PaginaWeb_Automoviles/Chatbot_Cars/Mitsubishi/specs-xpander-cross.txt\n"
     ]
    }
   ],
   "source": [
    "if __name__ == '__main__':\n",
    "    #se define carpeta raiz donde se encuentran todos los pdfs\n",
    "    root_directory = '/home/pibezx/Documents/Proyectos/PaginaWeb_Automoviles/Chatbot_Cars/Mitsubishi' \n",
    "    extracted_data = procesar_pdfs(root_directory)\n",
    "\n",
    "    for pdf_path, text in extracted_data.items():\n",
    "        txt_path = pdf_path.replace('.pdf', '.txt')\n",
    "        with open(txt_path, 'w', encoding='utf-8') as f:\n",
    "            f.write(text)\n",
    "        print(f\"Guardando el texto extraido en {txt_path}\")"
   ]
  },
  {
   "cell_type": "code",
   "execution_count": null,
   "metadata": {},
   "outputs": [],
   "source": []
  }
 ],
 "metadata": {
  "kernelspec": {
   "display_name": "Kernel RAG",
   "language": "python",
   "name": "rag"
  },
  "language_info": {
   "codemirror_mode": {
    "name": "ipython",
    "version": 3
   },
   "file_extension": ".py",
   "mimetype": "text/x-python",
   "name": "python",
   "nbconvert_exporter": "python",
   "pygments_lexer": "ipython3",
   "version": "3.10.16"
  }
 },
 "nbformat": 4,
 "nbformat_minor": 2
}

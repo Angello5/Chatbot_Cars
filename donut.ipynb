{
 "cells": [
  {
   "cell_type": "markdown",
   "metadata": {},
   "source": [
    "Conversion de PDF a imagenes \n",
    "    "
   ]
  },
  {
   "cell_type": "code",
   "execution_count": 6,
   "metadata": {},
   "outputs": [],
   "source": [
    "import os\n",
    "from pdf2image import convert_from_path\n",
    "\n",
    "def convert_pdf_to_images(pdf_path, output_dir, dpi=400):\n",
    "    \"\"\"\n",
    "    Convierte todas las páginas de un PDF a imágenes PNG.\n",
    "    Args:\n",
    "        pdf_path (str): Ruta al archivo PDF.\n",
    "        output_dir (str): Carpeta donde se guardarán las imágenes.\n",
    "        dpi (int): Resolución para la conversión. 300 suele ser un buen valor.\n",
    "    Returns:\n",
    "        List[str]: Lista de rutas a las imágenes generadas.\n",
    "    \"\"\"\n",
    "    if not os.path.exists(output_dir):\n",
    "        os.makedirs(output_dir)\n",
    "\n",
    "    # pages será una lista de PIL Images\n",
    "    pages = convert_from_path(pdf_path, dpi=dpi)\n",
    "\n",
    "    image_paths = []\n",
    "    for i, page in enumerate(pages):\n",
    "        image_name = f\"page_{i+1}.png\"\n",
    "        out_path = os.path.join(output_dir, image_name)\n",
    "        # Guardar la imagen en PNG\n",
    "        page.save(out_path, \"PNG\")\n",
    "        image_paths.append(out_path)\n",
    "\n",
    "    return image_paths\n"
   ]
  },
  {
   "cell_type": "markdown",
   "metadata": {},
   "source": [
    "Carga el modelo de TATR de Hugging Face"
   ]
  },
  {
   "cell_type": "code",
   "execution_count": 7,
   "metadata": {},
   "outputs": [
    {
     "data": {
      "text/plain": [
       "TableTransformerForObjectDetection(\n",
       "  (model): TableTransformerModel(\n",
       "    (backbone): TableTransformerConvModel(\n",
       "      (conv_encoder): TableTransformerConvEncoder(\n",
       "        (model): ResNetBackbone(\n",
       "          (embedder): ResNetEmbeddings(\n",
       "            (embedder): ResNetConvLayer(\n",
       "              (convolution): Conv2d(3, 64, kernel_size=(7, 7), stride=(2, 2), padding=(3, 3), bias=False)\n",
       "              (normalization): TableTransformerFrozenBatchNorm2d()\n",
       "              (activation): ReLU()\n",
       "            )\n",
       "            (pooler): MaxPool2d(kernel_size=3, stride=2, padding=1, dilation=1, ceil_mode=False)\n",
       "          )\n",
       "          (encoder): ResNetEncoder(\n",
       "            (stages): ModuleList(\n",
       "              (0): ResNetStage(\n",
       "                (layers): Sequential(\n",
       "                  (0): ResNetBasicLayer(\n",
       "                    (shortcut): Identity()\n",
       "                    (layer): Sequential(\n",
       "                      (0): ResNetConvLayer(\n",
       "                        (convolution): Conv2d(64, 64, kernel_size=(3, 3), stride=(1, 1), padding=(1, 1), bias=False)\n",
       "                        (normalization): TableTransformerFrozenBatchNorm2d()\n",
       "                        (activation): ReLU()\n",
       "                      )\n",
       "                      (1): ResNetConvLayer(\n",
       "                        (convolution): Conv2d(64, 64, kernel_size=(3, 3), stride=(1, 1), padding=(1, 1), bias=False)\n",
       "                        (normalization): TableTransformerFrozenBatchNorm2d()\n",
       "                        (activation): Identity()\n",
       "                      )\n",
       "                    )\n",
       "                    (activation): ReLU()\n",
       "                  )\n",
       "                  (1): ResNetBasicLayer(\n",
       "                    (shortcut): Identity()\n",
       "                    (layer): Sequential(\n",
       "                      (0): ResNetConvLayer(\n",
       "                        (convolution): Conv2d(64, 64, kernel_size=(3, 3), stride=(1, 1), padding=(1, 1), bias=False)\n",
       "                        (normalization): TableTransformerFrozenBatchNorm2d()\n",
       "                        (activation): ReLU()\n",
       "                      )\n",
       "                      (1): ResNetConvLayer(\n",
       "                        (convolution): Conv2d(64, 64, kernel_size=(3, 3), stride=(1, 1), padding=(1, 1), bias=False)\n",
       "                        (normalization): TableTransformerFrozenBatchNorm2d()\n",
       "                        (activation): Identity()\n",
       "                      )\n",
       "                    )\n",
       "                    (activation): ReLU()\n",
       "                  )\n",
       "                )\n",
       "              )\n",
       "              (1): ResNetStage(\n",
       "                (layers): Sequential(\n",
       "                  (0): ResNetBasicLayer(\n",
       "                    (shortcut): ResNetShortCut(\n",
       "                      (convolution): Conv2d(64, 128, kernel_size=(1, 1), stride=(2, 2), bias=False)\n",
       "                      (normalization): TableTransformerFrozenBatchNorm2d()\n",
       "                    )\n",
       "                    (layer): Sequential(\n",
       "                      (0): ResNetConvLayer(\n",
       "                        (convolution): Conv2d(64, 128, kernel_size=(3, 3), stride=(2, 2), padding=(1, 1), bias=False)\n",
       "                        (normalization): TableTransformerFrozenBatchNorm2d()\n",
       "                        (activation): ReLU()\n",
       "                      )\n",
       "                      (1): ResNetConvLayer(\n",
       "                        (convolution): Conv2d(128, 128, kernel_size=(3, 3), stride=(1, 1), padding=(1, 1), bias=False)\n",
       "                        (normalization): TableTransformerFrozenBatchNorm2d()\n",
       "                        (activation): Identity()\n",
       "                      )\n",
       "                    )\n",
       "                    (activation): ReLU()\n",
       "                  )\n",
       "                  (1): ResNetBasicLayer(\n",
       "                    (shortcut): Identity()\n",
       "                    (layer): Sequential(\n",
       "                      (0): ResNetConvLayer(\n",
       "                        (convolution): Conv2d(128, 128, kernel_size=(3, 3), stride=(1, 1), padding=(1, 1), bias=False)\n",
       "                        (normalization): TableTransformerFrozenBatchNorm2d()\n",
       "                        (activation): ReLU()\n",
       "                      )\n",
       "                      (1): ResNetConvLayer(\n",
       "                        (convolution): Conv2d(128, 128, kernel_size=(3, 3), stride=(1, 1), padding=(1, 1), bias=False)\n",
       "                        (normalization): TableTransformerFrozenBatchNorm2d()\n",
       "                        (activation): Identity()\n",
       "                      )\n",
       "                    )\n",
       "                    (activation): ReLU()\n",
       "                  )\n",
       "                )\n",
       "              )\n",
       "              (2): ResNetStage(\n",
       "                (layers): Sequential(\n",
       "                  (0): ResNetBasicLayer(\n",
       "                    (shortcut): ResNetShortCut(\n",
       "                      (convolution): Conv2d(128, 256, kernel_size=(1, 1), stride=(2, 2), bias=False)\n",
       "                      (normalization): TableTransformerFrozenBatchNorm2d()\n",
       "                    )\n",
       "                    (layer): Sequential(\n",
       "                      (0): ResNetConvLayer(\n",
       "                        (convolution): Conv2d(128, 256, kernel_size=(3, 3), stride=(2, 2), padding=(1, 1), bias=False)\n",
       "                        (normalization): TableTransformerFrozenBatchNorm2d()\n",
       "                        (activation): ReLU()\n",
       "                      )\n",
       "                      (1): ResNetConvLayer(\n",
       "                        (convolution): Conv2d(256, 256, kernel_size=(3, 3), stride=(1, 1), padding=(1, 1), bias=False)\n",
       "                        (normalization): TableTransformerFrozenBatchNorm2d()\n",
       "                        (activation): Identity()\n",
       "                      )\n",
       "                    )\n",
       "                    (activation): ReLU()\n",
       "                  )\n",
       "                  (1): ResNetBasicLayer(\n",
       "                    (shortcut): Identity()\n",
       "                    (layer): Sequential(\n",
       "                      (0): ResNetConvLayer(\n",
       "                        (convolution): Conv2d(256, 256, kernel_size=(3, 3), stride=(1, 1), padding=(1, 1), bias=False)\n",
       "                        (normalization): TableTransformerFrozenBatchNorm2d()\n",
       "                        (activation): ReLU()\n",
       "                      )\n",
       "                      (1): ResNetConvLayer(\n",
       "                        (convolution): Conv2d(256, 256, kernel_size=(3, 3), stride=(1, 1), padding=(1, 1), bias=False)\n",
       "                        (normalization): TableTransformerFrozenBatchNorm2d()\n",
       "                        (activation): Identity()\n",
       "                      )\n",
       "                    )\n",
       "                    (activation): ReLU()\n",
       "                  )\n",
       "                )\n",
       "              )\n",
       "              (3): ResNetStage(\n",
       "                (layers): Sequential(\n",
       "                  (0): ResNetBasicLayer(\n",
       "                    (shortcut): ResNetShortCut(\n",
       "                      (convolution): Conv2d(256, 512, kernel_size=(1, 1), stride=(2, 2), bias=False)\n",
       "                      (normalization): TableTransformerFrozenBatchNorm2d()\n",
       "                    )\n",
       "                    (layer): Sequential(\n",
       "                      (0): ResNetConvLayer(\n",
       "                        (convolution): Conv2d(256, 512, kernel_size=(3, 3), stride=(2, 2), padding=(1, 1), bias=False)\n",
       "                        (normalization): TableTransformerFrozenBatchNorm2d()\n",
       "                        (activation): ReLU()\n",
       "                      )\n",
       "                      (1): ResNetConvLayer(\n",
       "                        (convolution): Conv2d(512, 512, kernel_size=(3, 3), stride=(1, 1), padding=(1, 1), bias=False)\n",
       "                        (normalization): TableTransformerFrozenBatchNorm2d()\n",
       "                        (activation): Identity()\n",
       "                      )\n",
       "                    )\n",
       "                    (activation): ReLU()\n",
       "                  )\n",
       "                  (1): ResNetBasicLayer(\n",
       "                    (shortcut): Identity()\n",
       "                    (layer): Sequential(\n",
       "                      (0): ResNetConvLayer(\n",
       "                        (convolution): Conv2d(512, 512, kernel_size=(3, 3), stride=(1, 1), padding=(1, 1), bias=False)\n",
       "                        (normalization): TableTransformerFrozenBatchNorm2d()\n",
       "                        (activation): ReLU()\n",
       "                      )\n",
       "                      (1): ResNetConvLayer(\n",
       "                        (convolution): Conv2d(512, 512, kernel_size=(3, 3), stride=(1, 1), padding=(1, 1), bias=False)\n",
       "                        (normalization): TableTransformerFrozenBatchNorm2d()\n",
       "                        (activation): Identity()\n",
       "                      )\n",
       "                    )\n",
       "                    (activation): ReLU()\n",
       "                  )\n",
       "                )\n",
       "              )\n",
       "            )\n",
       "          )\n",
       "        )\n",
       "      )\n",
       "      (position_embedding): TableTransformerSinePositionEmbedding()\n",
       "    )\n",
       "    (input_projection): Conv2d(512, 256, kernel_size=(1, 1), stride=(1, 1))\n",
       "    (query_position_embeddings): Embedding(15, 256)\n",
       "    (encoder): TableTransformerEncoder(\n",
       "      (layers): ModuleList(\n",
       "        (0-5): 6 x TableTransformerEncoderLayer(\n",
       "          (self_attn): TableTransformerAttention(\n",
       "            (k_proj): Linear(in_features=256, out_features=256, bias=True)\n",
       "            (v_proj): Linear(in_features=256, out_features=256, bias=True)\n",
       "            (q_proj): Linear(in_features=256, out_features=256, bias=True)\n",
       "            (out_proj): Linear(in_features=256, out_features=256, bias=True)\n",
       "          )\n",
       "          (self_attn_layer_norm): LayerNorm((256,), eps=1e-05, elementwise_affine=True)\n",
       "          (activation_fn): ReLU()\n",
       "          (fc1): Linear(in_features=256, out_features=2048, bias=True)\n",
       "          (fc2): Linear(in_features=2048, out_features=256, bias=True)\n",
       "          (final_layer_norm): LayerNorm((256,), eps=1e-05, elementwise_affine=True)\n",
       "        )\n",
       "      )\n",
       "      (layernorm): LayerNorm((256,), eps=1e-05, elementwise_affine=True)\n",
       "    )\n",
       "    (decoder): TableTransformerDecoder(\n",
       "      (layers): ModuleList(\n",
       "        (0-5): 6 x TableTransformerDecoderLayer(\n",
       "          (self_attn): TableTransformerAttention(\n",
       "            (k_proj): Linear(in_features=256, out_features=256, bias=True)\n",
       "            (v_proj): Linear(in_features=256, out_features=256, bias=True)\n",
       "            (q_proj): Linear(in_features=256, out_features=256, bias=True)\n",
       "            (out_proj): Linear(in_features=256, out_features=256, bias=True)\n",
       "          )\n",
       "          (activation_fn): ReLU()\n",
       "          (self_attn_layer_norm): LayerNorm((256,), eps=1e-05, elementwise_affine=True)\n",
       "          (encoder_attn): TableTransformerAttention(\n",
       "            (k_proj): Linear(in_features=256, out_features=256, bias=True)\n",
       "            (v_proj): Linear(in_features=256, out_features=256, bias=True)\n",
       "            (q_proj): Linear(in_features=256, out_features=256, bias=True)\n",
       "            (out_proj): Linear(in_features=256, out_features=256, bias=True)\n",
       "          )\n",
       "          (encoder_attn_layer_norm): LayerNorm((256,), eps=1e-05, elementwise_affine=True)\n",
       "          (fc1): Linear(in_features=256, out_features=2048, bias=True)\n",
       "          (fc2): Linear(in_features=2048, out_features=256, bias=True)\n",
       "          (final_layer_norm): LayerNorm((256,), eps=1e-05, elementwise_affine=True)\n",
       "        )\n",
       "      )\n",
       "      (layernorm): LayerNorm((256,), eps=1e-05, elementwise_affine=True)\n",
       "    )\n",
       "  )\n",
       "  (class_labels_classifier): Linear(in_features=256, out_features=3, bias=True)\n",
       "  (bbox_predictor): TableTransformerMLPPredictionHead(\n",
       "    (layers): ModuleList(\n",
       "      (0-1): 2 x Linear(in_features=256, out_features=256, bias=True)\n",
       "      (2): Linear(in_features=256, out_features=4, bias=True)\n",
       "    )\n",
       "  )\n",
       ")"
      ]
     },
     "execution_count": 7,
     "metadata": {},
     "output_type": "execute_result"
    }
   ],
   "source": [
    "import torch\n",
    "from PIL import Image\n",
    "from transformers import AutoImageProcessor, AutoModelForObjectDetection\n",
    "\n",
    "model_name = \"microsoft/table-transformer-detection\"\n",
    "processor = AutoImageProcessor.from_pretrained(model_name, revision = \"no_timm\")  #no_timm se usa para evitar problemas \n",
    "model = AutoModelForObjectDetection.from_pretrained(model_name, revision = \"no_timm\")\n",
    "\n",
    "device = \"cuda\" if torch.cuda.is_available() else \"cpu\"\n",
    "model.to(device)\n",
    "model.eval()"
   ]
  },
  {
   "cell_type": "markdown",
   "metadata": {},
   "source": [
    "Deteccion de tablas en cada imagen"
   ]
  },
  {
   "cell_type": "code",
   "execution_count": 8,
   "metadata": {},
   "outputs": [],
   "source": [
    "import numpy as np\n",
    "\n",
    "def detect_tables_in_image(image_path, confidence_threshold=0.3):\n",
    "    \"\"\"\n",
    "    Detecta tablas en una imagen usando Table Transformer (detección).\n",
    "    Args:\n",
    "        image_path (str): Ruta a la imagen PNG/JPG.\n",
    "        confidence_threshold (float): Umbral de confianza para filtrar predicciones.\n",
    "    Returns:\n",
    "        List[dict]: Lista de tablas detectadas, cada dict contiene 'score' y 'box' con coords (xmin, ymin, xmax, ymax).\n",
    "    \"\"\"\n",
    "    image = Image.open(image_path).convert(\"RGB\")\n",
    "    # Preprocesar la imagen\n",
    "    inputs = processor(images=image, return_tensors=\"pt\").to(device)\n",
    "\n",
    "    with torch.no_grad():\n",
    "        outputs = model(**inputs)\n",
    "    # Postprocesar\n",
    "    result = processor.post_process_object_detection(outputs, threshold=confidence_threshold)[0]\n",
    "\n",
    "    detections = []\n",
    "    for score, label, box in zip(result[\"scores\"], result[\"labels\"], result[\"boxes\"]):\n",
    "        if label == 1:  # 1 es la clase 'table' en este modelo\n",
    "            # box es [xmin, ymin, xmax, ymax]\n",
    "            det = {\n",
    "                \"score\": float(score.cpu().numpy()),\n",
    "                \"box\": [float(x) for x in box.cpu().numpy()]\n",
    "            }\n",
    "            detections.append(det)\n",
    "    return detections\n"
   ]
  },
  {
   "cell_type": "code",
   "execution_count": 9,
   "metadata": {},
   "outputs": [],
   "source": [
    "def crop_table_images(image_path, detections, output_dir):\n",
    "    \"\"\"\n",
    "    Recorta y guarda las regiones de tabla detectadas en 'detections'.\n",
    "    Args:\n",
    "        image_path (str): Ruta a la imagen original.\n",
    "        detections (List[dict]): Lista de tablas con su 'box'.\n",
    "        output_dir (str): Carpeta donde guardar los recortes.\n",
    "    Returns:\n",
    "        List[str]: Rutas de las imágenes recortadas de cada tabla.\n",
    "    \"\"\"\n",
    "    if not os.path.exists(output_dir):\n",
    "        os.makedirs(output_dir)\n",
    "\n",
    "    image = Image.open(image_path).convert(\"RGB\")\n",
    "    table_paths = []\n",
    "    for i, det in enumerate(detections):\n",
    "        box = det[\"box\"]  # [xmin, ymin, xmax, ymax]\n",
    "        xmin, ymin, xmax, ymax = box\n",
    "        # Recortar\n",
    "        cropped = image.crop((xmin, ymin, xmax, ymax))\n",
    "        table_path = os.path.join(output_dir, f\"table_{i+1}.png\")\n",
    "        cropped.save(table_path, \"PNG\")\n",
    "        table_paths.append(table_path)\n",
    "    return table_paths\n"
   ]
  },
  {
   "cell_type": "code",
   "execution_count": 10,
   "metadata": {},
   "outputs": [
    {
     "ename": "PDFPageCountError",
     "evalue": "Unable to get page count.\nSyntax Warning: May not be a PDF file (continuing anyway)\nSyntax Error: Couldn't find trailer dictionary\nSyntax Error: Couldn't find trailer dictionary\nSyntax Error: Couldn't read xref table\n",
     "output_type": "error",
     "traceback": [
      "\u001b[0;31m---------------------------------------------------------------------------\u001b[0m",
      "\u001b[0;31mValueError\u001b[0m                                Traceback (most recent call last)",
      "File \u001b[0;32m~/miniconda3/envs/chatbot_ml/lib/python3.10/site-packages/pdf2image/pdf2image.py:602\u001b[0m, in \u001b[0;36mpdfinfo_from_path\u001b[0;34m(pdf_path, userpw, ownerpw, poppler_path, rawdates, timeout, first_page, last_page)\u001b[0m\n\u001b[1;32m    601\u001b[0m \u001b[38;5;28;01mif\u001b[39;00m \u001b[38;5;124m\"\u001b[39m\u001b[38;5;124mPages\u001b[39m\u001b[38;5;124m\"\u001b[39m \u001b[38;5;129;01mnot\u001b[39;00m \u001b[38;5;129;01min\u001b[39;00m d:\n\u001b[0;32m--> 602\u001b[0m     \u001b[38;5;28;01mraise\u001b[39;00m \u001b[38;5;167;01mValueError\u001b[39;00m\n\u001b[1;32m    604\u001b[0m \u001b[38;5;28;01mreturn\u001b[39;00m d\n",
      "\u001b[0;31mValueError\u001b[0m: ",
      "\nDuring handling of the above exception, another exception occurred:\n",
      "\u001b[0;31mPDFPageCountError\u001b[0m                         Traceback (most recent call last)",
      "Cell \u001b[0;32mIn[10], line 36\u001b[0m\n\u001b[1;32m     34\u001b[0m \u001b[38;5;28;01mif\u001b[39;00m \u001b[38;5;18m__name__\u001b[39m \u001b[38;5;241m==\u001b[39m \u001b[38;5;124m\"\u001b[39m\u001b[38;5;124m__main__\u001b[39m\u001b[38;5;124m\"\u001b[39m:\n\u001b[1;32m     35\u001b[0m     pdf_file \u001b[38;5;241m=\u001b[39m \u001b[38;5;124m\"\u001b[39m\u001b[38;5;124m/home/pibezx/Documents/Proyectos/PaginaWeb_Automoviles/Chatbot_Cars/Mazda\u001b[39m\u001b[38;5;124m\"\u001b[39m \n\u001b[0;32m---> 36\u001b[0m     result_tables \u001b[38;5;241m=\u001b[39m \u001b[43mprocess_pdf_for_tables\u001b[49m\u001b[43m(\u001b[49m\u001b[43mpdf_file\u001b[49m\u001b[43m,\u001b[49m\u001b[43m \u001b[49m\u001b[43mbase_output_dir\u001b[49m\u001b[38;5;241;43m=\u001b[39;49m\u001b[38;5;124;43m\"\u001b[39;49m\u001b[38;5;124;43ml200_output\u001b[39;49m\u001b[38;5;124;43m\"\u001b[39;49m\u001b[43m,\u001b[49m\u001b[43m \u001b[49m\u001b[43mdpi\u001b[49m\u001b[38;5;241;43m=\u001b[39;49m\u001b[38;5;241;43m400\u001b[39;49m\u001b[43m)\u001b[49m\n\u001b[1;32m     37\u001b[0m     \u001b[38;5;28mprint\u001b[39m(\u001b[38;5;124m\"\u001b[39m\u001b[38;5;124mTablas detectadas:\u001b[39m\u001b[38;5;124m\"\u001b[39m, result_tables)\n",
      "Cell \u001b[0;32mIn[10], line 10\u001b[0m, in \u001b[0;36mprocess_pdf_for_tables\u001b[0;34m(pdf_path, base_output_dir, dpi)\u001b[0m\n\u001b[1;32m      7\u001b[0m pages_dir \u001b[38;5;241m=\u001b[39m os\u001b[38;5;241m.\u001b[39mpath\u001b[38;5;241m.\u001b[39mjoin(base_output_dir, pdf_name, \u001b[38;5;124m\"\u001b[39m\u001b[38;5;124mpages\u001b[39m\u001b[38;5;124m\"\u001b[39m)\n\u001b[1;32m      8\u001b[0m tables_dir \u001b[38;5;241m=\u001b[39m os\u001b[38;5;241m.\u001b[39mpath\u001b[38;5;241m.\u001b[39mjoin(base_output_dir, pdf_name, \u001b[38;5;124m\"\u001b[39m\u001b[38;5;124mtables\u001b[39m\u001b[38;5;124m\"\u001b[39m)\n\u001b[0;32m---> 10\u001b[0m page_images \u001b[38;5;241m=\u001b[39m \u001b[43mconvert_pdf_to_images\u001b[49m\u001b[43m(\u001b[49m\u001b[43mpdf_path\u001b[49m\u001b[43m,\u001b[49m\u001b[43m \u001b[49m\u001b[43mpages_dir\u001b[49m\u001b[43m,\u001b[49m\u001b[43m \u001b[49m\u001b[43mdpi\u001b[49m\u001b[38;5;241;43m=\u001b[39;49m\u001b[43mdpi\u001b[49m\u001b[43m)\u001b[49m\n\u001b[1;32m     12\u001b[0m all_tables \u001b[38;5;241m=\u001b[39m []  \u001b[38;5;66;03m# Para almacenar info de cada tabla\u001b[39;00m\n\u001b[1;32m     13\u001b[0m \u001b[38;5;28;01mfor\u001b[39;00m page_image \u001b[38;5;129;01min\u001b[39;00m page_images:\n\u001b[1;32m     14\u001b[0m     \u001b[38;5;66;03m# 2) Detectar tablas\u001b[39;00m\n",
      "Cell \u001b[0;32mIn[6], line 18\u001b[0m, in \u001b[0;36mconvert_pdf_to_images\u001b[0;34m(pdf_path, output_dir, dpi)\u001b[0m\n\u001b[1;32m     15\u001b[0m     os\u001b[38;5;241m.\u001b[39mmakedirs(output_dir)\n\u001b[1;32m     17\u001b[0m \u001b[38;5;66;03m# pages será una lista de PIL Images\u001b[39;00m\n\u001b[0;32m---> 18\u001b[0m pages \u001b[38;5;241m=\u001b[39m \u001b[43mconvert_from_path\u001b[49m\u001b[43m(\u001b[49m\u001b[43mpdf_path\u001b[49m\u001b[43m,\u001b[49m\u001b[43m \u001b[49m\u001b[43mdpi\u001b[49m\u001b[38;5;241;43m=\u001b[39;49m\u001b[43mdpi\u001b[49m\u001b[43m)\u001b[49m\n\u001b[1;32m     20\u001b[0m image_paths \u001b[38;5;241m=\u001b[39m []\n\u001b[1;32m     21\u001b[0m \u001b[38;5;28;01mfor\u001b[39;00m i, page \u001b[38;5;129;01min\u001b[39;00m \u001b[38;5;28menumerate\u001b[39m(pages):\n",
      "File \u001b[0;32m~/miniconda3/envs/chatbot_ml/lib/python3.10/site-packages/pdf2image/pdf2image.py:127\u001b[0m, in \u001b[0;36mconvert_from_path\u001b[0;34m(pdf_path, dpi, output_folder, first_page, last_page, fmt, jpegopt, thread_count, userpw, ownerpw, use_cropbox, strict, transparent, single_file, output_file, poppler_path, grayscale, size, paths_only, use_pdftocairo, timeout, hide_annotations)\u001b[0m\n\u001b[1;32m    124\u001b[0m \u001b[38;5;28;01mif\u001b[39;00m \u001b[38;5;28misinstance\u001b[39m(poppler_path, PurePath):\n\u001b[1;32m    125\u001b[0m     poppler_path \u001b[38;5;241m=\u001b[39m poppler_path\u001b[38;5;241m.\u001b[39mas_posix()\n\u001b[0;32m--> 127\u001b[0m page_count \u001b[38;5;241m=\u001b[39m \u001b[43mpdfinfo_from_path\u001b[49m\u001b[43m(\u001b[49m\n\u001b[1;32m    128\u001b[0m \u001b[43m    \u001b[49m\u001b[43mpdf_path\u001b[49m\u001b[43m,\u001b[49m\u001b[43m \u001b[49m\u001b[43muserpw\u001b[49m\u001b[43m,\u001b[49m\u001b[43m \u001b[49m\u001b[43mownerpw\u001b[49m\u001b[43m,\u001b[49m\u001b[43m \u001b[49m\u001b[43mpoppler_path\u001b[49m\u001b[38;5;241;43m=\u001b[39;49m\u001b[43mpoppler_path\u001b[49m\n\u001b[1;32m    129\u001b[0m \u001b[43m\u001b[49m\u001b[43m)\u001b[49m[\u001b[38;5;124m\"\u001b[39m\u001b[38;5;124mPages\u001b[39m\u001b[38;5;124m\"\u001b[39m]\n\u001b[1;32m    131\u001b[0m \u001b[38;5;66;03m# We start by getting the output format, the buffer processing function and if we need pdftocairo\u001b[39;00m\n\u001b[1;32m    132\u001b[0m parsed_fmt, final_extension, parse_buffer_func, use_pdfcairo_format \u001b[38;5;241m=\u001b[39m _parse_format(\n\u001b[1;32m    133\u001b[0m     fmt, grayscale\n\u001b[1;32m    134\u001b[0m )\n",
      "File \u001b[0;32m~/miniconda3/envs/chatbot_ml/lib/python3.10/site-packages/pdf2image/pdf2image.py:611\u001b[0m, in \u001b[0;36mpdfinfo_from_path\u001b[0;34m(pdf_path, userpw, ownerpw, poppler_path, rawdates, timeout, first_page, last_page)\u001b[0m\n\u001b[1;32m    607\u001b[0m     \u001b[38;5;28;01mraise\u001b[39;00m PDFInfoNotInstalledError(\n\u001b[1;32m    608\u001b[0m         \u001b[38;5;124m\"\u001b[39m\u001b[38;5;124mUnable to get page count. Is poppler installed and in PATH?\u001b[39m\u001b[38;5;124m\"\u001b[39m\n\u001b[1;32m    609\u001b[0m     )\n\u001b[1;32m    610\u001b[0m \u001b[38;5;28;01mexcept\u001b[39;00m \u001b[38;5;167;01mValueError\u001b[39;00m:\n\u001b[0;32m--> 611\u001b[0m     \u001b[38;5;28;01mraise\u001b[39;00m PDFPageCountError(\n\u001b[1;32m    612\u001b[0m         \u001b[38;5;124mf\u001b[39m\u001b[38;5;124m\"\u001b[39m\u001b[38;5;124mUnable to get page count.\u001b[39m\u001b[38;5;130;01m\\n\u001b[39;00m\u001b[38;5;132;01m{\u001b[39;00merr\u001b[38;5;241m.\u001b[39mdecode(\u001b[38;5;124m'\u001b[39m\u001b[38;5;124mutf8\u001b[39m\u001b[38;5;124m'\u001b[39m,\u001b[38;5;250m \u001b[39m\u001b[38;5;124m'\u001b[39m\u001b[38;5;124mignore\u001b[39m\u001b[38;5;124m'\u001b[39m)\u001b[38;5;132;01m}\u001b[39;00m\u001b[38;5;124m\"\u001b[39m\n\u001b[1;32m    613\u001b[0m     )\n",
      "\u001b[0;31mPDFPageCountError\u001b[0m: Unable to get page count.\nSyntax Warning: May not be a PDF file (continuing anyway)\nSyntax Error: Couldn't find trailer dictionary\nSyntax Error: Couldn't find trailer dictionary\nSyntax Error: Couldn't read xref table\n"
     ]
    }
   ],
   "source": [
    "def process_pdf_for_tables(pdf_path, base_output_dir=\"output_tables\", dpi=400):\n",
    "    \"\"\"\n",
    "    Convierte PDF a imágenes, detecta tablas en cada página y recorta.\n",
    "    \"\"\"\n",
    "    # 1) Convertir a imágenes\n",
    "    pdf_name = os.path.splitext(os.path.basename(pdf_path))[0]\n",
    "    pages_dir = os.path.join(base_output_dir, pdf_name, \"pages\")\n",
    "    tables_dir = os.path.join(base_output_dir, pdf_name, \"tables\")\n",
    "\n",
    "    page_images = convert_pdf_to_images(pdf_path, pages_dir, dpi=dpi)\n",
    "\n",
    "    all_tables = []  # Para almacenar info de cada tabla\n",
    "    for page_image in page_images:\n",
    "        # 2) Detectar tablas\n",
    "        detections = detect_tables_in_image(page_image, confidence_threshold=0.3)\n",
    "        # 3) Recortar cada tabla detectada\n",
    "        page_id = os.path.splitext(os.path.basename(page_image))[0]  # \"page_1\"\n",
    "        page_tables_dir = os.path.join(tables_dir, page_id)\n",
    "        table_paths = crop_table_images(page_image, detections, page_tables_dir)\n",
    "\n",
    "        # Podrías almacenar metadatos (por ejemplo, la bounding box, etc.)\n",
    "        for tpath, det in zip(table_paths, detections):\n",
    "            all_tables.append({\n",
    "                \"pdf_name\": pdf_name,\n",
    "                \"page\": page_id,\n",
    "                \"score\": det[\"score\"],\n",
    "                \"box\": det[\"box\"],\n",
    "                \"table_image\": tpath\n",
    "            })\n",
    "\n",
    "    return all_tables\n",
    "\n",
    "# Ejemplo de ejecución\n",
    "if __name__ == \"__main__\":\n",
    "    pdf_file = \"/home/pibezx/Documents/Proyectos/PaginaWeb_Automoviles/Chatbot_Cars/Mazda\" \n",
    "    result_tables = process_pdf_for_tables(pdf_file, base_output_dir=\"l200_output\", dpi=400)\n",
    "    print(\"Tablas detectadas:\", result_tables)\n"
   ]
  },
  {
   "cell_type": "code",
   "execution_count": 12,
   "metadata": {},
   "outputs": [
    {
     "name": "stdout",
     "output_type": "stream",
     "text": [
      "🔍 Procesando: /home/pibezx/Documents/Proyectos/PaginaWeb_Automoviles/Chatbot_Cars/Cherry/17717-arrizo5pro_02012024.pdf\n",
      "🔍 Procesando: /home/pibezx/Documents/Proyectos/PaginaWeb_Automoviles/Chatbot_Cars/Cherry/93159-tiggo8promax_16072024.pdf\n",
      "🔍 Procesando: /home/pibezx/Documents/Proyectos/PaginaWeb_Automoviles/Chatbot_Cars/Cherry/67227-tiggo7pro_16072024.pdf\n",
      "🔍 Procesando: /home/pibezx/Documents/Proyectos/PaginaWeb_Automoviles/Chatbot_Cars/Cherry/35617-new_tiggo8pro_02012024.pdf\n",
      "🔍 Procesando: /home/pibezx/Documents/Proyectos/PaginaWeb_Automoviles/Chatbot_Cars/Cherry/29068-ficha_tiggo2pro_23012025.pdf\n",
      "🔍 Procesando: /home/pibezx/Documents/Proyectos/PaginaWeb_Automoviles/Chatbot_Cars/Cherry/42299-tiggo4pro_16072024.pdf\n",
      "🔍 Procesando: /home/pibezx/Documents/Proyectos/PaginaWeb_Automoviles/Chatbot_Cars/Cherry/80544-tiggo8pro_hybrid.pdf\n",
      "🔍 Procesando: /home/pibezx/Documents/Proyectos/PaginaWeb_Automoviles/Chatbot_Cars/Cherry/24270-tiggo7prohybrid_26112024.pdf\n",
      "🔍 Procesando: /home/pibezx/Documents/Proyectos/PaginaWeb_Automoviles/Chatbot_Cars/Suzuki/ft_xl7_opc2_cv_comprimido.pdf\n",
      "🔍 Procesando: /home/pibezx/Documents/Proyectos/PaginaWeb_Automoviles/Chatbot_Cars/Suzuki/ficha-tecnica_suzuki-pe_fronx-smart-hybrid.pdf\n",
      "🔍 Procesando: /home/pibezx/Documents/Proyectos/PaginaWeb_Automoviles/Chatbot_Cars/Suzuki/ficha-te-cnica_new-vitara.pdf\n",
      "🔍 Procesando: /home/pibezx/Documents/Proyectos/PaginaWeb_Automoviles/Chatbot_Cars/Suzuki/ficha-tecnica_suzuki-pe_apv-furgon.pdf\n",
      "🔍 Procesando: /home/pibezx/Documents/Proyectos/PaginaWeb_Automoviles/Chatbot_Cars/Suzuki/ficha-tecnica_suzuki-pe_dzire.pdf\n",
      "🔍 Procesando: /home/pibezx/Documents/Proyectos/PaginaWeb_Automoviles/Chatbot_Cars/Suzuki/af-ficha-te-cnica-celerio-agosto-2024-peso-ajustado.pdf\n",
      "🔍 Procesando: /home/pibezx/Documents/Proyectos/PaginaWeb_Automoviles/Chatbot_Cars/Suzuki/ft_alto_comprimido.pdf\n",
      "🔍 Procesando: /home/pibezx/Documents/Proyectos/PaginaWeb_Automoviles/Chatbot_Cars/Suzuki/ficha-tecnica_suzuki-pe_all-new-grand-vitara-smart-hybrid.pdf\n",
      "🔍 Procesando: /home/pibezx/Documents/Proyectos/PaginaWeb_Automoviles/Chatbot_Cars/Suzuki/ficha-tecnica_suzuki-pe_swift.pdf\n",
      "🔍 Procesando: /home/pibezx/Documents/Proyectos/PaginaWeb_Automoviles/Chatbot_Cars/Suzuki/ficha-tecnica_suzuki-pe_s-presso.pdf\n",
      "🔍 Procesando: /home/pibezx/Documents/Proyectos/PaginaWeb_Automoviles/Chatbot_Cars/Suzuki/ficha-tecnica_suzuki-pe_jimny.pdf\n",
      "🔍 Procesando: /home/pibezx/Documents/Proyectos/PaginaWeb_Automoviles/Chatbot_Cars/Suzuki/suzuki-pe_ficha-tecnica-2024_jimny-5-puertas_v2.pdf\n",
      "🔍 Procesando: /home/pibezx/Documents/Proyectos/PaginaWeb_Automoviles/Chatbot_Cars/Suzuki/ficha-tecnica_suzuki-pe_all-new-s-cross.pdf\n",
      "🔍 Procesando: /home/pibezx/Documents/Proyectos/PaginaWeb_Automoviles/Chatbot_Cars/Suzuki/ficha-tecnica_suzuki-pe_all-new-baleno.pdf\n",
      "🔍 Procesando: /home/pibezx/Documents/Proyectos/PaginaWeb_Automoviles/Chatbot_Cars/Geely/FT_EMGRAND_2024_SIN-PRECIO-CAMBIO.pdf\n",
      "🔍 Procesando: /home/pibezx/Documents/Proyectos/PaginaWeb_Automoviles/Chatbot_Cars/Geely/FT_STARRAY_2024_SIN-PRECIO-1.pdf\n",
      "🔍 Procesando: /home/pibezx/Documents/Proyectos/PaginaWeb_Automoviles/Chatbot_Cars/Geely/FT_GX3-PRO_2024-SIN-PRECIO-1.pdf\n",
      "🔍 Procesando: /home/pibezx/Documents/Proyectos/PaginaWeb_Automoviles/Chatbot_Cars/Geely/FT_NEW-COOLRAY_2024-SIN-PRECIO-1.pdf\n",
      "🔍 Procesando: /home/pibezx/Documents/Proyectos/PaginaWeb_Automoviles/Chatbot_Cars/Geely/FT-OKAVANGO-2024-1-1.pdf\n",
      "🔍 Procesando: /home/pibezx/Documents/Proyectos/PaginaWeb_Automoviles/Chatbot_Cars/Geely/FT_CITYRAY_2025.pdf\n",
      "🔍 Procesando: /home/pibezx/Documents/Proyectos/PaginaWeb_Automoviles/Chatbot_Cars/Geely/FICHA-TECNICA-OKAVANGO-1.5T-SIGNATURE-MHEV.pdf\n",
      "🔍 Procesando: /home/pibezx/Documents/Proyectos/PaginaWeb_Automoviles/Chatbot_Cars/Gwm/ficha-tecnica-poer-mt_v1.pdf\n",
      "🔍 Procesando: /home/pibezx/Documents/Proyectos/PaginaWeb_Automoviles/Chatbot_Cars/Gwm/ficha-tecnica-tank-300.pdf\n",
      "🔍 Procesando: /home/pibezx/Documents/Proyectos/PaginaWeb_Automoviles/Chatbot_Cars/Gwm/ficha-tecnica-wingle-5-diesel.pdf\n",
      "🔍 Procesando: /home/pibezx/Documents/Proyectos/PaginaWeb_Automoviles/Chatbot_Cars/Gwm/ficha-tecnica-wingl5-gasolina_compressed.pdf\n",
      "🔍 Procesando: /home/pibezx/Documents/Proyectos/PaginaWeb_Automoviles/Chatbot_Cars/Gwm/ficha-tecnica-h6-hev.pdf\n",
      "🔍 Procesando: /home/pibezx/Documents/Proyectos/PaginaWeb_Automoviles/Chatbot_Cars/Gwm/ficha-tecnica-new-jolion_actualizado.pdf\n",
      "🔍 Procesando: /home/pibezx/Documents/Proyectos/PaginaWeb_Automoviles/Chatbot_Cars/Gwm/dargo-ppt.pdf\n",
      "🔍 Procesando: /home/pibezx/Documents/Proyectos/PaginaWeb_Automoviles/Chatbot_Cars/Gwm/ficha-tecnica-jolion-hev_v1.pdf\n",
      "🔍 Procesando: /home/pibezx/Documents/Proyectos/PaginaWeb_Automoviles/Chatbot_Cars/Gwm/ficha-tecnica-poer-at_compressed.pdf\n",
      "🔍 Procesando: /home/pibezx/Documents/Proyectos/PaginaWeb_Automoviles/Chatbot_Cars/Gwm/ficha-tecnica-jolion-pr_actua.pdf\n",
      "🔍 Procesando: /home/pibezx/Documents/Proyectos/PaginaWeb_Automoviles/Chatbot_Cars/Gwm/ficha-tecnica-h6.pdf\n",
      "🔍 Procesando: /home/pibezx/Documents/Proyectos/PaginaWeb_Automoviles/Chatbot_Cars/Gwm/ficha-tecnica-h6-gt_v1.pdf\n",
      "🔍 Procesando: /home/pibezx/Documents/Proyectos/PaginaWeb_Automoviles/Chatbot_Cars/Dongfeng/ficha-Shine-Gs-E2-web.pdf\n",
      "🔍 Procesando: /home/pibezx/Documents/Proyectos/PaginaWeb_Automoviles/Chatbot_Cars/Dongfeng/ficha-Rich6-web.pdf\n",
      "🔍 Procesando: /home/pibezx/Documents/Proyectos/PaginaWeb_Automoviles/Chatbot_Cars/Dongfeng/ficha-web-sx5.pdf\n",
      "🔍 Procesando: /home/pibezx/Documents/Proyectos/PaginaWeb_Automoviles/Chatbot_Cars/Dongfeng/ficha-Sx6-Pro-1.5L-AT-2025.pdf\n",
      "🔍 Procesando: /home/pibezx/Documents/Proyectos/PaginaWeb_Automoviles/Chatbot_Cars/Dongfeng/ficha-T5EVO-HEV-Exclusive.pdf\n",
      "🔍 Procesando: /home/pibezx/Documents/Proyectos/PaginaWeb_Automoviles/Chatbot_Cars/Dongfeng/ficha-T5EVO-Exclusive.pdf\n",
      "🔍 Procesando: /home/pibezx/Documents/Proyectos/PaginaWeb_Automoviles/Chatbot_Cars/Dongfeng/ficha-Mage-1.pdf\n",
      "🔍 Procesando: /home/pibezx/Documents/Proyectos/PaginaWeb_Automoviles/Chatbot_Cars/Dongfeng/ficha-T5-EV-2.pdf\n",
      "🔍 Procesando: /home/pibezx/Documents/Proyectos/PaginaWeb_Automoviles/Chatbot_Cars/Dongfeng/ficha-s500-web.pdf\n",
      "🔍 Procesando: /home/pibezx/Documents/Proyectos/PaginaWeb_Automoviles/Chatbot_Cars/Dongfeng/ficha-M3L-2022.pdf\n",
      "🔍 Procesando: /home/pibezx/Documents/Proyectos/PaginaWeb_Automoviles/Chatbot_Cars/Dongfeng/ficha-nami-box-1.pdf\n",
      "🔍 Procesando: /home/pibezx/Documents/Proyectos/PaginaWeb_Automoviles/Chatbot_Cars/Dongfeng/ficha-Web-SX6-7asientos.pdf\n",
      "🔍 Procesando: /home/pibezx/Documents/Proyectos/PaginaWeb_Automoviles/Chatbot_Cars/Dongfeng/ficha-M4.pdf\n",
      "🔍 Procesando: /home/pibezx/Documents/Proyectos/PaginaWeb_Automoviles/Chatbot_Cars/Dongfeng/ficha-Web-HUGE-E2-HEV.pdf\n",
      "🔍 Procesando: /home/pibezx/Documents/Proyectos/PaginaWeb_Automoviles/Chatbot_Cars/Dongfeng/ficha-Sx6-Pro-1.8L.pdf\n",
      "🔍 Procesando: /home/pibezx/Documents/Proyectos/PaginaWeb_Automoviles/Chatbot_Cars/Hyundai/FT-ACCENT-1.pdf\n",
      "🔍 Procesando: /home/pibezx/Documents/Proyectos/PaginaWeb_Automoviles/Chatbot_Cars/Hyundai/FT-STARGAZER-Nov2024.pdf\n",
      "🔍 Procesando: /home/pibezx/Documents/Proyectos/PaginaWeb_Automoviles/Chatbot_Cars/Hyundai/FT-CRETA-FL-2024.pdf\n",
      "🔍 Procesando: /home/pibezx/Documents/Proyectos/PaginaWeb_Automoviles/Chatbot_Cars/Hyundai/FT-KONA-HEV-2.pdf\n",
      "🔍 Procesando: /home/pibezx/Documents/Proyectos/PaginaWeb_Automoviles/Chatbot_Cars/Hyundai/FT-SANTA-FE-HEV.pdf\n",
      "🔍 Procesando: /home/pibezx/Documents/Proyectos/PaginaWeb_Automoviles/Chatbot_Cars/Hyundai/FT-TUCSON-HEV-2023v5.pdf\n",
      "🔍 Procesando: /home/pibezx/Documents/Proyectos/PaginaWeb_Automoviles/Chatbot_Cars/Hyundai/FT-ELANTRA.pdf\n",
      "🔍 Procesando: /home/pibezx/Documents/Proyectos/PaginaWeb_Automoviles/Chatbot_Cars/Hyundai/FT-Kona-ICE-2024_Nov2024.pdf\n",
      "🔍 Procesando: /home/pibezx/Documents/Proyectos/PaginaWeb_Automoviles/Chatbot_Cars/Hyundai/FT-Palisade-PE-2022v4.pdf\n",
      "🔍 Procesando: /home/pibezx/Documents/Proyectos/PaginaWeb_Automoviles/Chatbot_Cars/Hyundai/FT-Grand-Creta-2022-Dic2024.pdf\n",
      "🔍 Procesando: /home/pibezx/Documents/Proyectos/PaginaWeb_Automoviles/Chatbot_Cars/Hyundai/FT-Grand-i10-sedan.pdf\n",
      "🔍 Procesando: /home/pibezx/Documents/Proyectos/PaginaWeb_Automoviles/Chatbot_Cars/Hyundai/FT-VENUE-FL-2024-OCT.pdf\n",
      "🔍 Procesando: /home/pibezx/Documents/Proyectos/PaginaWeb_Automoviles/Chatbot_Cars/Hyundai/FT-IONIQ5-2023-Mayo2024.pdf\n",
      "🔍 Procesando: /home/pibezx/Documents/Proyectos/PaginaWeb_Automoviles/Chatbot_Cars/Hyundai/FT-Grand-i10Hatch-FL-2023_v8.pdf\n",
      "🔍 Procesando: /home/pibezx/Documents/Proyectos/PaginaWeb_Automoviles/Chatbot_Cars/Hyundai/FT-Staria-Van.pdf\n",
      "🔍 Procesando: /home/pibezx/Documents/Proyectos/PaginaWeb_Automoviles/Chatbot_Cars/Hyundai/FT-new-TUCSON.pdf\n",
      "🔍 Procesando: /home/pibezx/Documents/Proyectos/PaginaWeb_Automoviles/Chatbot_Cars/Hyundai/FT_H-100.pdf\n",
      "🔍 Procesando: /home/pibezx/Documents/Proyectos/PaginaWeb_Automoviles/Chatbot_Cars/Hyundai/FT-SANTA-FE-MX5.pdf\n",
      "🔍 Procesando: /home/pibezx/Documents/Proyectos/PaginaWeb_Automoviles/Chatbot_Cars/Hyundai/FT-Staria-Minibus.pdf\n",
      "🔍 Procesando: /home/pibezx/Documents/Proyectos/PaginaWeb_Automoviles/Chatbot_Cars/Hyundai/FT-KONA-EV.pdf\n",
      "🔍 Procesando: /home/pibezx/Documents/Proyectos/PaginaWeb_Automoviles/Chatbot_Cars/Hyundai/FT-i20HB-2024_v6.pdf\n",
      "🔍 Procesando: /home/pibezx/Documents/Proyectos/PaginaWeb_Automoviles/Chatbot_Cars/Changan/2022-05-25-ficha_tecnica_unit-curvas.pdf\n",
      "🔍 Procesando: /home/pibezx/Documents/Proyectos/PaginaWeb_Automoviles/Chatbot_Cars/Changan/honor-s-octubre-1.pdf\n",
      "🔍 Procesando: /home/pibezx/Documents/Proyectos/PaginaWeb_Automoviles/Chatbot_Cars/Changan/2022-02-15-ficha_changan_grandturismo_feb2022_vf.pdf\n",
      "🔍 Procesando: /home/pibezx/Documents/Proyectos/PaginaWeb_Automoviles/Chatbot_Cars/Changan/ficha-tecnica_f70.pdf\n",
      "🔍 Procesando: /home/pibezx/Documents/Proyectos/PaginaWeb_Automoviles/Chatbot_Cars/Changan/2024-07-22-ficha_tecnica_-cs35_compressed.pdf\n",
      "🔍 Procesando: /home/pibezx/Documents/Proyectos/PaginaWeb_Automoviles/Chatbot_Cars/Changan/2020-09-14-ficha_tecnica_changan_new_van.pdf\n",
      "🔍 Procesando: /home/pibezx/Documents/Proyectos/PaginaWeb_Automoviles/Chatbot_Cars/Changan/2022-02-15-ficha_changan_supervan_feb2022_vf.pdf\n",
      "🔍 Procesando: /home/pibezx/Documents/Proyectos/PaginaWeb_Automoviles/Chatbot_Cars/Changan/2022-02-11-ficha_changan_cs15_feb2022_.pdf\n",
      "🔍 Procesando: /home/pibezx/Documents/Proyectos/PaginaWeb_Automoviles/Chatbot_Cars/Changan/2024-09-13-ficha_x7plussetiembre2024.pdf\n",
      "🔍 Procesando: /home/pibezx/Documents/Proyectos/PaginaWeb_Automoviles/Chatbot_Cars/Changan/2023-11-13-ficha_uni-k.pdf\n",
      "🔍 Procesando: /home/pibezx/Documents/Proyectos/PaginaWeb_Automoviles/Chatbot_Cars/Changan/2024-08-13-alsvin-ajuste-agosto-2024.pdf\n",
      "🔍 Procesando: /home/pibezx/Documents/Proyectos/PaginaWeb_Automoviles/Chatbot_Cars/Volkswagen/FichaTécnica - Nivus 2024.pdf\n",
      "🔍 Procesando: /home/pibezx/Documents/Proyectos/PaginaWeb_Automoviles/Chatbot_Cars/Volkswagen/FichaTécnica - Taos 2024.pdf\n",
      "🔍 Procesando: /home/pibezx/Documents/Proyectos/PaginaWeb_Automoviles/Chatbot_Cars/Volkswagen/FichaTecnica-Tiguan-2024-comp.pdf\n",
      "🔍 Procesando: /home/pibezx/Documents/Proyectos/PaginaWeb_Automoviles/Chatbot_Cars/Volkswagen/FichaTecnica-T-Cross-2025-comp.pdf\n",
      "🔍 Procesando: /home/pibezx/Documents/Proyectos/PaginaWeb_Automoviles/Chatbot_Cars/Volkswagen/Ficha-Polo-Track-05.pdf\n",
      "🔍 Procesando: /home/pibezx/Documents/Proyectos/PaginaWeb_Automoviles/Chatbot_Cars/Volkswagen/FichaTecnica-Teramont-2024.pdf\n",
      "🔍 Procesando: /home/pibezx/Documents/Proyectos/PaginaWeb_Automoviles/Chatbot_Cars/Volkswagen/Ficha Tecnica - Saveiro 2025.pdf\n",
      "🔍 Procesando: /home/pibezx/Documents/Proyectos/PaginaWeb_Automoviles/Chatbot_Cars/Volkswagen/Ficha-Tecnica-Jetta-2025.pdf\n",
      "🔍 Procesando: /home/pibezx/Documents/Proyectos/PaginaWeb_Automoviles/Chatbot_Cars/Volkswagen/Ficha Tecnica - Amarok V6 2024.pdf\n",
      "🔍 Procesando: /home/pibezx/Documents/Proyectos/PaginaWeb_Automoviles/Chatbot_Cars/Volkswagen/FichaTecnica - Virtus 2025 .pdf\n",
      "🔍 Procesando: /home/pibezx/Documents/Proyectos/PaginaWeb_Automoviles/Chatbot_Cars/Renault/kwid-ft.pdf\n",
      "🔍 Procesando: /home/pibezx/Documents/Proyectos/PaginaWeb_Automoviles/Chatbot_Cars/Renault/ficha-tecnica_kardian_editable-0411.pdf\n",
      "🔍 Procesando: /home/pibezx/Documents/Proyectos/PaginaWeb_Automoviles/Chatbot_Cars/Renault/2023-12-28-ficha-tecnica_stepway.pdf\n",
      "🔍 Procesando: /home/pibezx/Documents/Proyectos/PaginaWeb_Automoviles/Chatbot_Cars/Renault/2023-07-28-ficha-tecnica_master.pdf\n",
      "🔍 Procesando: /home/pibezx/Documents/Proyectos/PaginaWeb_Automoviles/Chatbot_Cars/Renault/kwid-e-tech-ft.pdf\n"
     ]
    },
    {
     "name": "stderr",
     "output_type": "stream",
     "text": [
      "/home/pibezx/miniconda3/envs/chatbot_ml/lib/python3.10/site-packages/PIL/Image.py:3402: DecompressionBombWarning: Image size (103937500 pixels) exceeds limit of 89478485 pixels, could be decompression bomb DOS attack.\n",
      "  warnings.warn(\n",
      "/home/pibezx/miniconda3/envs/chatbot_ml/lib/python3.10/site-packages/PIL/Image.py:3402: DecompressionBombWarning: Image size (125887500 pixels) exceeds limit of 89478485 pixels, could be decompression bomb DOS attack.\n",
      "  warnings.warn(\n",
      "/home/pibezx/miniconda3/envs/chatbot_ml/lib/python3.10/site-packages/PIL/Image.py:3402: DecompressionBombWarning: Image size (150887500 pixels) exceeds limit of 89478485 pixels, could be decompression bomb DOS attack.\n",
      "  warnings.warn(\n",
      "/home/pibezx/miniconda3/envs/chatbot_ml/lib/python3.10/site-packages/PIL/Image.py:3402: DecompressionBombWarning: Image size (106893750 pixels) exceeds limit of 89478485 pixels, could be decompression bomb DOS attack.\n",
      "  warnings.warn(\n",
      "/home/pibezx/miniconda3/envs/chatbot_ml/lib/python3.10/site-packages/PIL/Image.py:3402: DecompressionBombWarning: Image size (102068750 pixels) exceeds limit of 89478485 pixels, could be decompression bomb DOS attack.\n",
      "  warnings.warn(\n",
      "/home/pibezx/miniconda3/envs/chatbot_ml/lib/python3.10/site-packages/PIL/Image.py:3402: DecompressionBombWarning: Image size (92425000 pixels) exceeds limit of 89478485 pixels, could be decompression bomb DOS attack.\n",
      "  warnings.warn(\n",
      "/home/pibezx/miniconda3/envs/chatbot_ml/lib/python3.10/site-packages/PIL/Image.py:3402: DecompressionBombWarning: Image size (103250000 pixels) exceeds limit of 89478485 pixels, could be decompression bomb DOS attack.\n",
      "  warnings.warn(\n",
      "/home/pibezx/miniconda3/envs/chatbot_ml/lib/python3.10/site-packages/PIL/Image.py:3402: DecompressionBombWarning: Image size (89568750 pixels) exceeds limit of 89478485 pixels, could be decompression bomb DOS attack.\n",
      "  warnings.warn(\n"
     ]
    },
    {
     "name": "stdout",
     "output_type": "stream",
     "text": [
      "🔍 Procesando: /home/pibezx/Documents/Proyectos/PaginaWeb_Automoviles/Chatbot_Cars/Renault/oroch-ft.pdf\n",
      "🔍 Procesando: /home/pibezx/Documents/Proyectos/PaginaWeb_Automoviles/Chatbot_Cars/Renault/ficha-tecnica_duster_compressed.pdf\n",
      "🔍 Procesando: /home/pibezx/Documents/Proyectos/PaginaWeb_Automoviles/Chatbot_Cars/Renault/koleos-ft-1.pdf\n",
      "🔍 Procesando: /home/pibezx/Documents/Proyectos/PaginaWeb_Automoviles/Chatbot_Cars/Chevrolet/202411-03-onix-turbo-my25.pdf\n",
      "🔍 Procesando: /home/pibezx/Documents/Proyectos/PaginaWeb_Automoviles/Chatbot_Cars/Chevrolet/202411-12-colorado-brutal-my25.pdf\n",
      "🔍 Procesando: /home/pibezx/Documents/Proyectos/PaginaWeb_Automoviles/Chatbot_Cars/Chevrolet/202411-13-silverado.pdf\n",
      "🔍 Procesando: /home/pibezx/Documents/Proyectos/PaginaWeb_Automoviles/Chatbot_Cars/Chevrolet/202411-07-traverse.pdf\n",
      "🔍 Procesando: /home/pibezx/Documents/Proyectos/PaginaWeb_Automoviles/Chatbot_Cars/Chevrolet/202411-06-captiva-xl.pdf\n",
      "🔍 Procesando: /home/pibezx/Documents/Proyectos/PaginaWeb_Automoviles/Chatbot_Cars/Chevrolet/202411-09-suburban.pdf\n",
      "🔍 Procesando: /home/pibezx/Documents/Proyectos/PaginaWeb_Automoviles/Chatbot_Cars/Chevrolet/202411-15-n400-move-my25.pdf\n",
      "🔍 Procesando: /home/pibezx/Documents/Proyectos/PaginaWeb_Automoviles/Chatbot_Cars/Chevrolet/202411-05-tracker-my25.pdf\n",
      "🔍 Procesando: /home/pibezx/Documents/Proyectos/PaginaWeb_Automoviles/Chatbot_Cars/Chevrolet/202411-04-groove-my25.pdf\n",
      "🔍 Procesando: /home/pibezx/Documents/Proyectos/PaginaWeb_Automoviles/Chatbot_Cars/Chevrolet/202411-11-colorado-my24.pdf\n",
      "🔍 Procesando: /home/pibezx/Documents/Proyectos/PaginaWeb_Automoviles/Chatbot_Cars/Chevrolet/202411-01-sail-my25.pdf\n",
      "🔍 Procesando: /home/pibezx/Documents/Proyectos/PaginaWeb_Automoviles/Chatbot_Cars/Chevrolet/202411-14-n400-max-my25.pdf\n",
      "🔍 Procesando: /home/pibezx/Documents/Proyectos/PaginaWeb_Automoviles/Chatbot_Cars/Chevrolet/202411-10-montana.pdf\n",
      "🔍 Procesando: /home/pibezx/Documents/Proyectos/PaginaWeb_Automoviles/Chatbot_Cars/Chevrolet/202411-02-onix-sedan-turbo-my25.pdf\n",
      "🔍 Procesando: /home/pibezx/Documents/Proyectos/PaginaWeb_Automoviles/Chatbot_Cars/Chevrolet/202411-08-tahoe.pdf\n",
      "🔍 Procesando: /home/pibezx/Documents/Proyectos/PaginaWeb_Automoviles/Chatbot_Cars/images_pdf/FT-Grand-i10-sedan/original/FT-Grand-i10-sedan.pdf\n"
     ]
    },
    {
     "name": "stderr",
     "output_type": "stream",
     "text": [
      "cp: '/home/pibezx/Documents/Proyectos/PaginaWeb_Automoviles/Chatbot_Cars/images_pdf/FT-Grand-i10-sedan/original/FT-Grand-i10-sedan.pdf' and 'images_pdf/FT-Grand-i10-sedan/original/FT-Grand-i10-sedan.pdf' are the same file\n"
     ]
    },
    {
     "name": "stdout",
     "output_type": "stream",
     "text": [
      "🔍 Procesando: /home/pibezx/Documents/Proyectos/PaginaWeb_Automoviles/Chatbot_Cars/images_pdf/FT-CRETA-FL-2024/original/FT-CRETA-FL-2024.pdf\n"
     ]
    },
    {
     "name": "stderr",
     "output_type": "stream",
     "text": [
      "cp: '/home/pibezx/Documents/Proyectos/PaginaWeb_Automoviles/Chatbot_Cars/images_pdf/FT-CRETA-FL-2024/original/FT-CRETA-FL-2024.pdf' and 'images_pdf/FT-CRETA-FL-2024/original/FT-CRETA-FL-2024.pdf' are the same file\n"
     ]
    },
    {
     "name": "stdout",
     "output_type": "stream",
     "text": [
      "🔍 Procesando: /home/pibezx/Documents/Proyectos/PaginaWeb_Automoviles/Chatbot_Cars/images_pdf/FT_CITYRAY_2025/original/FT_CITYRAY_2025.pdf\n"
     ]
    },
    {
     "name": "stderr",
     "output_type": "stream",
     "text": [
      "cp: '/home/pibezx/Documents/Proyectos/PaginaWeb_Automoviles/Chatbot_Cars/images_pdf/FT_CITYRAY_2025/original/FT_CITYRAY_2025.pdf' and 'images_pdf/FT_CITYRAY_2025/original/FT_CITYRAY_2025.pdf' are the same file\n"
     ]
    },
    {
     "name": "stdout",
     "output_type": "stream",
     "text": [
      "🔍 Procesando: /home/pibezx/Documents/Proyectos/PaginaWeb_Automoviles/Chatbot_Cars/images_pdf/ficha-tecnica_duster_compressed/original/ficha-tecnica_duster_compressed.pdf\n"
     ]
    },
    {
     "name": "stderr",
     "output_type": "stream",
     "text": [
      "cp: '/home/pibezx/Documents/Proyectos/PaginaWeb_Automoviles/Chatbot_Cars/images_pdf/ficha-tecnica_duster_compressed/original/ficha-tecnica_duster_compressed.pdf' and 'images_pdf/ficha-tecnica_duster_compressed/original/ficha-tecnica_duster_compressed.pdf' are the same file\n"
     ]
    },
    {
     "name": "stdout",
     "output_type": "stream",
     "text": [
      "🔍 Procesando: /home/pibezx/Documents/Proyectos/PaginaWeb_Automoviles/Chatbot_Cars/images_pdf/2022-02-15-ficha_changan_supervan_feb2022_vf/original/2022-02-15-ficha_changan_supervan_feb2022_vf.pdf\n"
     ]
    },
    {
     "name": "stderr",
     "output_type": "stream",
     "text": [
      "cp: '/home/pibezx/Documents/Proyectos/PaginaWeb_Automoviles/Chatbot_Cars/images_pdf/2022-02-15-ficha_changan_supervan_feb2022_vf/original/2022-02-15-ficha_changan_supervan_feb2022_vf.pdf' and 'images_pdf/2022-02-15-ficha_changan_supervan_feb2022_vf/original/2022-02-15-ficha_changan_supervan_feb2022_vf.pdf' are the same file\n"
     ]
    },
    {
     "name": "stdout",
     "output_type": "stream",
     "text": [
      "🔍 Procesando: /home/pibezx/Documents/Proyectos/PaginaWeb_Automoviles/Chatbot_Cars/images_pdf/2024-08-13-alsvin-ajuste-agosto-2024/original/2024-08-13-alsvin-ajuste-agosto-2024.pdf\n"
     ]
    },
    {
     "name": "stderr",
     "output_type": "stream",
     "text": [
      "cp: '/home/pibezx/Documents/Proyectos/PaginaWeb_Automoviles/Chatbot_Cars/images_pdf/2024-08-13-alsvin-ajuste-agosto-2024/original/2024-08-13-alsvin-ajuste-agosto-2024.pdf' and 'images_pdf/2024-08-13-alsvin-ajuste-agosto-2024/original/2024-08-13-alsvin-ajuste-agosto-2024.pdf' are the same file\n"
     ]
    },
    {
     "name": "stdout",
     "output_type": "stream",
     "text": [
      "🔍 Procesando: /home/pibezx/Documents/Proyectos/PaginaWeb_Automoviles/Chatbot_Cars/images_pdf/FT-Grand-i10Hatch-FL-2023_v8/original/FT-Grand-i10Hatch-FL-2023_v8.pdf\n"
     ]
    },
    {
     "name": "stderr",
     "output_type": "stream",
     "text": [
      "cp: '/home/pibezx/Documents/Proyectos/PaginaWeb_Automoviles/Chatbot_Cars/images_pdf/FT-Grand-i10Hatch-FL-2023_v8/original/FT-Grand-i10Hatch-FL-2023_v8.pdf' and 'images_pdf/FT-Grand-i10Hatch-FL-2023_v8/original/FT-Grand-i10Hatch-FL-2023_v8.pdf' are the same file\n"
     ]
    },
    {
     "name": "stdout",
     "output_type": "stream",
     "text": [
      "🔍 Procesando: /home/pibezx/Documents/Proyectos/PaginaWeb_Automoviles/Chatbot_Cars/images_pdf/Ficha Tecnica - Amarok V6 2024/original/Ficha Tecnica - Amarok V6 2024.pdf\n"
     ]
    },
    {
     "name": "stderr",
     "output_type": "stream",
     "text": [
      "cp: '/home/pibezx/Documents/Proyectos/PaginaWeb_Automoviles/Chatbot_Cars/images_pdf/Ficha Tecnica - Amarok V6 2024/original/Ficha Tecnica - Amarok V6 2024.pdf' and 'images_pdf/Ficha Tecnica - Amarok V6 2024/original/Ficha Tecnica - Amarok V6 2024.pdf' are the same file\n"
     ]
    },
    {
     "name": "stdout",
     "output_type": "stream",
     "text": [
      "🔍 Procesando: /home/pibezx/Documents/Proyectos/PaginaWeb_Automoviles/Chatbot_Cars/images_pdf/FT-i20HB-2024_v6/original/FT-i20HB-2024_v6.pdf\n"
     ]
    },
    {
     "name": "stderr",
     "output_type": "stream",
     "text": [
      "cp: '/home/pibezx/Documents/Proyectos/PaginaWeb_Automoviles/Chatbot_Cars/images_pdf/FT-i20HB-2024_v6/original/FT-i20HB-2024_v6.pdf' and 'images_pdf/FT-i20HB-2024_v6/original/FT-i20HB-2024_v6.pdf' are the same file\n"
     ]
    },
    {
     "name": "stdout",
     "output_type": "stream",
     "text": [
      "🔍 Procesando: /home/pibezx/Documents/Proyectos/PaginaWeb_Automoviles/Chatbot_Cars/images_pdf/ficha-M3L-2022/original/ficha-M3L-2022.pdf\n"
     ]
    },
    {
     "name": "stderr",
     "output_type": "stream",
     "text": [
      "cp: '/home/pibezx/Documents/Proyectos/PaginaWeb_Automoviles/Chatbot_Cars/images_pdf/ficha-M3L-2022/original/ficha-M3L-2022.pdf' and 'images_pdf/ficha-M3L-2022/original/ficha-M3L-2022.pdf' are the same file\n"
     ]
    },
    {
     "name": "stdout",
     "output_type": "stream",
     "text": [
      "🔍 Procesando: /home/pibezx/Documents/Proyectos/PaginaWeb_Automoviles/Chatbot_Cars/images_pdf/Ficha-Tecnica-Jetta-2025/original/Ficha-Tecnica-Jetta-2025.pdf\n"
     ]
    },
    {
     "name": "stderr",
     "output_type": "stream",
     "text": [
      "cp: '/home/pibezx/Documents/Proyectos/PaginaWeb_Automoviles/Chatbot_Cars/images_pdf/Ficha-Tecnica-Jetta-2025/original/Ficha-Tecnica-Jetta-2025.pdf' and 'images_pdf/Ficha-Tecnica-Jetta-2025/original/Ficha-Tecnica-Jetta-2025.pdf' are the same file\n"
     ]
    },
    {
     "name": "stdout",
     "output_type": "stream",
     "text": [
      "🔍 Procesando: /home/pibezx/Documents/Proyectos/PaginaWeb_Automoviles/Chatbot_Cars/images_pdf/202411-04-groove-my25/original/202411-04-groove-my25.pdf\n"
     ]
    },
    {
     "name": "stderr",
     "output_type": "stream",
     "text": [
      "cp: '/home/pibezx/Documents/Proyectos/PaginaWeb_Automoviles/Chatbot_Cars/images_pdf/202411-04-groove-my25/original/202411-04-groove-my25.pdf' and 'images_pdf/202411-04-groove-my25/original/202411-04-groove-my25.pdf' are the same file\n"
     ]
    },
    {
     "name": "stdout",
     "output_type": "stream",
     "text": [
      "🔍 Procesando: /home/pibezx/Documents/Proyectos/PaginaWeb_Automoviles/Chatbot_Cars/images_pdf/ficha-tecnica_suzuki-pe_swift/original/ficha-tecnica_suzuki-pe_swift.pdf\n"
     ]
    },
    {
     "name": "stderr",
     "output_type": "stream",
     "text": [
      "cp: '/home/pibezx/Documents/Proyectos/PaginaWeb_Automoviles/Chatbot_Cars/images_pdf/ficha-tecnica_suzuki-pe_swift/original/ficha-tecnica_suzuki-pe_swift.pdf' and 'images_pdf/ficha-tecnica_suzuki-pe_swift/original/ficha-tecnica_suzuki-pe_swift.pdf' are the same file\n"
     ]
    },
    {
     "name": "stdout",
     "output_type": "stream",
     "text": [
      "🔍 Procesando: /home/pibezx/Documents/Proyectos/PaginaWeb_Automoviles/Chatbot_Cars/images_pdf/ficha-tecnica_kardian_editable-0411/original/ficha-tecnica_kardian_editable-0411.pdf\n"
     ]
    },
    {
     "name": "stderr",
     "output_type": "stream",
     "text": [
      "cp: '/home/pibezx/Documents/Proyectos/PaginaWeb_Automoviles/Chatbot_Cars/images_pdf/ficha-tecnica_kardian_editable-0411/original/ficha-tecnica_kardian_editable-0411.pdf' and 'images_pdf/ficha-tecnica_kardian_editable-0411/original/ficha-tecnica_kardian_editable-0411.pdf' are the same file\n"
     ]
    },
    {
     "name": "stdout",
     "output_type": "stream",
     "text": [
      "🔍 Procesando: /home/pibezx/Documents/Proyectos/PaginaWeb_Automoviles/Chatbot_Cars/images_pdf/ficha-Sx6-Pro-1.8L/original/ficha-Sx6-Pro-1.8L.pdf\n"
     ]
    },
    {
     "name": "stderr",
     "output_type": "stream",
     "text": [
      "cp: '/home/pibezx/Documents/Proyectos/PaginaWeb_Automoviles/Chatbot_Cars/images_pdf/ficha-Sx6-Pro-1.8L/original/ficha-Sx6-Pro-1.8L.pdf' and 'images_pdf/ficha-Sx6-Pro-1.8L/original/ficha-Sx6-Pro-1.8L.pdf' are the same file\n"
     ]
    },
    {
     "name": "stdout",
     "output_type": "stream",
     "text": [
      "🔍 Procesando: /home/pibezx/Documents/Proyectos/PaginaWeb_Automoviles/Chatbot_Cars/images_pdf/24270-tiggo7prohybrid_26112024/original/24270-tiggo7prohybrid_26112024.pdf\n"
     ]
    },
    {
     "name": "stderr",
     "output_type": "stream",
     "text": [
      "cp: '/home/pibezx/Documents/Proyectos/PaginaWeb_Automoviles/Chatbot_Cars/images_pdf/24270-tiggo7prohybrid_26112024/original/24270-tiggo7prohybrid_26112024.pdf' and 'images_pdf/24270-tiggo7prohybrid_26112024/original/24270-tiggo7prohybrid_26112024.pdf' are the same file\n"
     ]
    },
    {
     "name": "stdout",
     "output_type": "stream",
     "text": [
      "🔍 Procesando: /home/pibezx/Documents/Proyectos/PaginaWeb_Automoviles/Chatbot_Cars/images_pdf/ficha-Rich6-web/original/ficha-Rich6-web.pdf\n"
     ]
    },
    {
     "name": "stderr",
     "output_type": "stream",
     "text": [
      "cp: '/home/pibezx/Documents/Proyectos/PaginaWeb_Automoviles/Chatbot_Cars/images_pdf/ficha-Rich6-web/original/ficha-Rich6-web.pdf' and 'images_pdf/ficha-Rich6-web/original/ficha-Rich6-web.pdf' are the same file\n"
     ]
    },
    {
     "name": "stdout",
     "output_type": "stream",
     "text": [
      "🔍 Procesando: /home/pibezx/Documents/Proyectos/PaginaWeb_Automoviles/Chatbot_Cars/images_pdf/FichaTecnica-T-Cross-2025-comp/original/FichaTecnica-T-Cross-2025-comp.pdf\n"
     ]
    },
    {
     "name": "stderr",
     "output_type": "stream",
     "text": [
      "cp: '/home/pibezx/Documents/Proyectos/PaginaWeb_Automoviles/Chatbot_Cars/images_pdf/FichaTecnica-T-Cross-2025-comp/original/FichaTecnica-T-Cross-2025-comp.pdf' and 'images_pdf/FichaTecnica-T-Cross-2025-comp/original/FichaTecnica-T-Cross-2025-comp.pdf' are the same file\n"
     ]
    },
    {
     "name": "stdout",
     "output_type": "stream",
     "text": [
      "🔍 Procesando: /home/pibezx/Documents/Proyectos/PaginaWeb_Automoviles/Chatbot_Cars/images_pdf/ficha-te-cnica_new-vitara/original/ficha-te-cnica_new-vitara.pdf\n"
     ]
    },
    {
     "name": "stderr",
     "output_type": "stream",
     "text": [
      "cp: '/home/pibezx/Documents/Proyectos/PaginaWeb_Automoviles/Chatbot_Cars/images_pdf/ficha-te-cnica_new-vitara/original/ficha-te-cnica_new-vitara.pdf' and 'images_pdf/ficha-te-cnica_new-vitara/original/ficha-te-cnica_new-vitara.pdf' are the same file\n"
     ]
    },
    {
     "name": "stdout",
     "output_type": "stream",
     "text": [
      "🔍 Procesando: /home/pibezx/Documents/Proyectos/PaginaWeb_Automoviles/Chatbot_Cars/images_pdf/FT-ELANTRA/original/FT-ELANTRA.pdf\n"
     ]
    },
    {
     "name": "stderr",
     "output_type": "stream",
     "text": [
      "cp: '/home/pibezx/Documents/Proyectos/PaginaWeb_Automoviles/Chatbot_Cars/images_pdf/FT-ELANTRA/original/FT-ELANTRA.pdf' and 'images_pdf/FT-ELANTRA/original/FT-ELANTRA.pdf' are the same file\n"
     ]
    },
    {
     "name": "stdout",
     "output_type": "stream",
     "text": [
      "🔍 Procesando: /home/pibezx/Documents/Proyectos/PaginaWeb_Automoviles/Chatbot_Cars/images_pdf/ficha-tecnica-wingle-5-diesel/original/ficha-tecnica-wingle-5-diesel.pdf\n"
     ]
    },
    {
     "name": "stderr",
     "output_type": "stream",
     "text": [
      "cp: '/home/pibezx/Documents/Proyectos/PaginaWeb_Automoviles/Chatbot_Cars/images_pdf/ficha-tecnica-wingle-5-diesel/original/ficha-tecnica-wingle-5-diesel.pdf' and 'images_pdf/ficha-tecnica-wingle-5-diesel/original/ficha-tecnica-wingle-5-diesel.pdf' are the same file\n"
     ]
    },
    {
     "name": "stdout",
     "output_type": "stream",
     "text": [
      "🔍 Procesando: /home/pibezx/Documents/Proyectos/PaginaWeb_Automoviles/Chatbot_Cars/images_pdf/42299-tiggo4pro_16072024/original/42299-tiggo4pro_16072024.pdf\n"
     ]
    },
    {
     "name": "stderr",
     "output_type": "stream",
     "text": [
      "cp: '/home/pibezx/Documents/Proyectos/PaginaWeb_Automoviles/Chatbot_Cars/images_pdf/42299-tiggo4pro_16072024/original/42299-tiggo4pro_16072024.pdf' and 'images_pdf/42299-tiggo4pro_16072024/original/42299-tiggo4pro_16072024.pdf' are the same file\n"
     ]
    },
    {
     "name": "stdout",
     "output_type": "stream",
     "text": [
      "🔍 Procesando: /home/pibezx/Documents/Proyectos/PaginaWeb_Automoviles/Chatbot_Cars/images_pdf/2022-02-15-ficha_changan_grandturismo_feb2022_vf/original/2022-02-15-ficha_changan_grandturismo_feb2022_vf.pdf\n"
     ]
    },
    {
     "name": "stderr",
     "output_type": "stream",
     "text": [
      "cp: '/home/pibezx/Documents/Proyectos/PaginaWeb_Automoviles/Chatbot_Cars/images_pdf/2022-02-15-ficha_changan_grandturismo_feb2022_vf/original/2022-02-15-ficha_changan_grandturismo_feb2022_vf.pdf' and 'images_pdf/2022-02-15-ficha_changan_grandturismo_feb2022_vf/original/2022-02-15-ficha_changan_grandturismo_feb2022_vf.pdf' are the same file\n"
     ]
    },
    {
     "name": "stdout",
     "output_type": "stream",
     "text": [
      "🔍 Procesando: /home/pibezx/Documents/Proyectos/PaginaWeb_Automoviles/Chatbot_Cars/images_pdf/2020-09-14-ficha_tecnica_changan_new_van/original/2020-09-14-ficha_tecnica_changan_new_van.pdf\n"
     ]
    },
    {
     "name": "stderr",
     "output_type": "stream",
     "text": [
      "cp: '/home/pibezx/Documents/Proyectos/PaginaWeb_Automoviles/Chatbot_Cars/images_pdf/2020-09-14-ficha_tecnica_changan_new_van/original/2020-09-14-ficha_tecnica_changan_new_van.pdf' and 'images_pdf/2020-09-14-ficha_tecnica_changan_new_van/original/2020-09-14-ficha_tecnica_changan_new_van.pdf' are the same file\n"
     ]
    },
    {
     "name": "stdout",
     "output_type": "stream",
     "text": [
      "🔍 Procesando: /home/pibezx/Documents/Proyectos/PaginaWeb_Automoviles/Chatbot_Cars/images_pdf/2023-07-28-ficha-tecnica_master/original/2023-07-28-ficha-tecnica_master.pdf\n"
     ]
    },
    {
     "name": "stderr",
     "output_type": "stream",
     "text": [
      "cp: '/home/pibezx/Documents/Proyectos/PaginaWeb_Automoviles/Chatbot_Cars/images_pdf/2023-07-28-ficha-tecnica_master/original/2023-07-28-ficha-tecnica_master.pdf' and 'images_pdf/2023-07-28-ficha-tecnica_master/original/2023-07-28-ficha-tecnica_master.pdf' are the same file\n"
     ]
    },
    {
     "name": "stdout",
     "output_type": "stream",
     "text": [
      "🔍 Procesando: /home/pibezx/Documents/Proyectos/PaginaWeb_Automoviles/Chatbot_Cars/images_pdf/ficha-T5EVO-Exclusive/original/ficha-T5EVO-Exclusive.pdf\n"
     ]
    },
    {
     "name": "stderr",
     "output_type": "stream",
     "text": [
      "cp: '/home/pibezx/Documents/Proyectos/PaginaWeb_Automoviles/Chatbot_Cars/images_pdf/ficha-T5EVO-Exclusive/original/ficha-T5EVO-Exclusive.pdf' and 'images_pdf/ficha-T5EVO-Exclusive/original/ficha-T5EVO-Exclusive.pdf' are the same file\n"
     ]
    },
    {
     "name": "stdout",
     "output_type": "stream",
     "text": [
      "🔍 Procesando: /home/pibezx/Documents/Proyectos/PaginaWeb_Automoviles/Chatbot_Cars/images_pdf/FT-TUCSON-HEV-2023v5/original/FT-TUCSON-HEV-2023v5.pdf\n"
     ]
    },
    {
     "name": "stderr",
     "output_type": "stream",
     "text": [
      "cp: '/home/pibezx/Documents/Proyectos/PaginaWeb_Automoviles/Chatbot_Cars/images_pdf/FT-TUCSON-HEV-2023v5/original/FT-TUCSON-HEV-2023v5.pdf' and 'images_pdf/FT-TUCSON-HEV-2023v5/original/FT-TUCSON-HEV-2023v5.pdf' are the same file\n"
     ]
    },
    {
     "name": "stdout",
     "output_type": "stream",
     "text": [
      "🔍 Procesando: /home/pibezx/Documents/Proyectos/PaginaWeb_Automoviles/Chatbot_Cars/images_pdf/FT-IONIQ5-2023-Mayo2024/original/FT-IONIQ5-2023-Mayo2024.pdf\n"
     ]
    },
    {
     "name": "stderr",
     "output_type": "stream",
     "text": [
      "cp: '/home/pibezx/Documents/Proyectos/PaginaWeb_Automoviles/Chatbot_Cars/images_pdf/FT-IONIQ5-2023-Mayo2024/original/FT-IONIQ5-2023-Mayo2024.pdf' and 'images_pdf/FT-IONIQ5-2023-Mayo2024/original/FT-IONIQ5-2023-Mayo2024.pdf' are the same file\n"
     ]
    },
    {
     "name": "stdout",
     "output_type": "stream",
     "text": [
      "🔍 Procesando: /home/pibezx/Documents/Proyectos/PaginaWeb_Automoviles/Chatbot_Cars/images_pdf/FT-KONA-EV/original/FT-KONA-EV.pdf\n"
     ]
    },
    {
     "name": "stderr",
     "output_type": "stream",
     "text": [
      "cp: '/home/pibezx/Documents/Proyectos/PaginaWeb_Automoviles/Chatbot_Cars/images_pdf/FT-KONA-EV/original/FT-KONA-EV.pdf' and 'images_pdf/FT-KONA-EV/original/FT-KONA-EV.pdf' are the same file\n"
     ]
    },
    {
     "name": "stdout",
     "output_type": "stream",
     "text": [
      "🔍 Procesando: /home/pibezx/Documents/Proyectos/PaginaWeb_Automoviles/Chatbot_Cars/images_pdf/FICHA-TECNICA-OKAVANGO-1.5T-SIGNATURE-MHEV/original/FICHA-TECNICA-OKAVANGO-1.5T-SIGNATURE-MHEV.pdf\n"
     ]
    },
    {
     "name": "stderr",
     "output_type": "stream",
     "text": [
      "cp: '/home/pibezx/Documents/Proyectos/PaginaWeb_Automoviles/Chatbot_Cars/images_pdf/FICHA-TECNICA-OKAVANGO-1.5T-SIGNATURE-MHEV/original/FICHA-TECNICA-OKAVANGO-1.5T-SIGNATURE-MHEV.pdf' and 'images_pdf/FICHA-TECNICA-OKAVANGO-1.5T-SIGNATURE-MHEV/original/FICHA-TECNICA-OKAVANGO-1.5T-SIGNATURE-MHEV.pdf' are the same file\n"
     ]
    },
    {
     "name": "stdout",
     "output_type": "stream",
     "text": [
      "🔍 Procesando: /home/pibezx/Documents/Proyectos/PaginaWeb_Automoviles/Chatbot_Cars/images_pdf/ficha-T5-EV-2/original/ficha-T5-EV-2.pdf\n"
     ]
    },
    {
     "name": "stderr",
     "output_type": "stream",
     "text": [
      "cp: '/home/pibezx/Documents/Proyectos/PaginaWeb_Automoviles/Chatbot_Cars/images_pdf/ficha-T5-EV-2/original/ficha-T5-EV-2.pdf' and 'images_pdf/ficha-T5-EV-2/original/ficha-T5-EV-2.pdf' are the same file\n"
     ]
    },
    {
     "name": "stdout",
     "output_type": "stream",
     "text": [
      "🔍 Procesando: /home/pibezx/Documents/Proyectos/PaginaWeb_Automoviles/Chatbot_Cars/images_pdf/202411-10-montana/original/202411-10-montana.pdf\n"
     ]
    },
    {
     "name": "stderr",
     "output_type": "stream",
     "text": [
      "cp: '/home/pibezx/Documents/Proyectos/PaginaWeb_Automoviles/Chatbot_Cars/images_pdf/202411-10-montana/original/202411-10-montana.pdf' and 'images_pdf/202411-10-montana/original/202411-10-montana.pdf' are the same file\n"
     ]
    },
    {
     "name": "stdout",
     "output_type": "stream",
     "text": [
      "🔍 Procesando: /home/pibezx/Documents/Proyectos/PaginaWeb_Automoviles/Chatbot_Cars/images_pdf/Ficha-Polo-Track-05/original/Ficha-Polo-Track-05.pdf\n"
     ]
    },
    {
     "name": "stderr",
     "output_type": "stream",
     "text": [
      "cp: '/home/pibezx/Documents/Proyectos/PaginaWeb_Automoviles/Chatbot_Cars/images_pdf/Ficha-Polo-Track-05/original/Ficha-Polo-Track-05.pdf' and 'images_pdf/Ficha-Polo-Track-05/original/Ficha-Polo-Track-05.pdf' are the same file\n"
     ]
    },
    {
     "name": "stdout",
     "output_type": "stream",
     "text": [
      "🔍 Procesando: /home/pibezx/Documents/Proyectos/PaginaWeb_Automoviles/Chatbot_Cars/images_pdf/202411-03-onix-turbo-my25/original/202411-03-onix-turbo-my25.pdf\n"
     ]
    },
    {
     "name": "stderr",
     "output_type": "stream",
     "text": [
      "cp: '/home/pibezx/Documents/Proyectos/PaginaWeb_Automoviles/Chatbot_Cars/images_pdf/202411-03-onix-turbo-my25/original/202411-03-onix-turbo-my25.pdf' and 'images_pdf/202411-03-onix-turbo-my25/original/202411-03-onix-turbo-my25.pdf' are the same file\n"
     ]
    },
    {
     "name": "stdout",
     "output_type": "stream",
     "text": [
      "🔍 Procesando: /home/pibezx/Documents/Proyectos/PaginaWeb_Automoviles/Chatbot_Cars/images_pdf/kwid-e-tech-ft/original/kwid-e-tech-ft.pdf\n"
     ]
    },
    {
     "name": "stderr",
     "output_type": "stream",
     "text": [
      "/home/pibezx/miniconda3/envs/chatbot_ml/lib/python3.10/site-packages/PIL/Image.py:3402: DecompressionBombWarning: Image size (103937500 pixels) exceeds limit of 89478485 pixels, could be decompression bomb DOS attack.\n",
      "  warnings.warn(\n",
      "/home/pibezx/miniconda3/envs/chatbot_ml/lib/python3.10/site-packages/PIL/Image.py:3402: DecompressionBombWarning: Image size (125887500 pixels) exceeds limit of 89478485 pixels, could be decompression bomb DOS attack.\n",
      "  warnings.warn(\n",
      "/home/pibezx/miniconda3/envs/chatbot_ml/lib/python3.10/site-packages/PIL/Image.py:3402: DecompressionBombWarning: Image size (150887500 pixels) exceeds limit of 89478485 pixels, could be decompression bomb DOS attack.\n",
      "  warnings.warn(\n",
      "/home/pibezx/miniconda3/envs/chatbot_ml/lib/python3.10/site-packages/PIL/Image.py:3402: DecompressionBombWarning: Image size (106893750 pixels) exceeds limit of 89478485 pixels, could be decompression bomb DOS attack.\n",
      "  warnings.warn(\n",
      "/home/pibezx/miniconda3/envs/chatbot_ml/lib/python3.10/site-packages/PIL/Image.py:3402: DecompressionBombWarning: Image size (102068750 pixels) exceeds limit of 89478485 pixels, could be decompression bomb DOS attack.\n",
      "  warnings.warn(\n",
      "/home/pibezx/miniconda3/envs/chatbot_ml/lib/python3.10/site-packages/PIL/Image.py:3402: DecompressionBombWarning: Image size (92425000 pixels) exceeds limit of 89478485 pixels, could be decompression bomb DOS attack.\n",
      "  warnings.warn(\n",
      "/home/pibezx/miniconda3/envs/chatbot_ml/lib/python3.10/site-packages/PIL/Image.py:3402: DecompressionBombWarning: Image size (103250000 pixels) exceeds limit of 89478485 pixels, could be decompression bomb DOS attack.\n",
      "  warnings.warn(\n",
      "/home/pibezx/miniconda3/envs/chatbot_ml/lib/python3.10/site-packages/PIL/Image.py:3402: DecompressionBombWarning: Image size (89568750 pixels) exceeds limit of 89478485 pixels, could be decompression bomb DOS attack.\n",
      "  warnings.warn(\n",
      "cp: '/home/pibezx/Documents/Proyectos/PaginaWeb_Automoviles/Chatbot_Cars/images_pdf/kwid-e-tech-ft/original/kwid-e-tech-ft.pdf' and 'images_pdf/kwid-e-tech-ft/original/kwid-e-tech-ft.pdf' are the same file\n"
     ]
    },
    {
     "name": "stdout",
     "output_type": "stream",
     "text": [
      "🔍 Procesando: /home/pibezx/Documents/Proyectos/PaginaWeb_Automoviles/Chatbot_Cars/images_pdf/FT-OKAVANGO-2024-1-1/original/FT-OKAVANGO-2024-1-1.pdf\n"
     ]
    },
    {
     "name": "stderr",
     "output_type": "stream",
     "text": [
      "cp: '/home/pibezx/Documents/Proyectos/PaginaWeb_Automoviles/Chatbot_Cars/images_pdf/FT-OKAVANGO-2024-1-1/original/FT-OKAVANGO-2024-1-1.pdf' and 'images_pdf/FT-OKAVANGO-2024-1-1/original/FT-OKAVANGO-2024-1-1.pdf' are the same file\n"
     ]
    },
    {
     "name": "stdout",
     "output_type": "stream",
     "text": [
      "🔍 Procesando: /home/pibezx/Documents/Proyectos/PaginaWeb_Automoviles/Chatbot_Cars/images_pdf/FT-Staria-Minibus/original/FT-Staria-Minibus.pdf\n"
     ]
    },
    {
     "name": "stderr",
     "output_type": "stream",
     "text": [
      "cp: '/home/pibezx/Documents/Proyectos/PaginaWeb_Automoviles/Chatbot_Cars/images_pdf/FT-Staria-Minibus/original/FT-Staria-Minibus.pdf' and 'images_pdf/FT-Staria-Minibus/original/FT-Staria-Minibus.pdf' are the same file\n"
     ]
    },
    {
     "name": "stdout",
     "output_type": "stream",
     "text": [
      "🔍 Procesando: /home/pibezx/Documents/Proyectos/PaginaWeb_Automoviles/Chatbot_Cars/images_pdf/FT-Kona-ICE-2024_Nov2024/original/FT-Kona-ICE-2024_Nov2024.pdf\n"
     ]
    },
    {
     "name": "stderr",
     "output_type": "stream",
     "text": [
      "cp: '/home/pibezx/Documents/Proyectos/PaginaWeb_Automoviles/Chatbot_Cars/images_pdf/FT-Kona-ICE-2024_Nov2024/original/FT-Kona-ICE-2024_Nov2024.pdf' and 'images_pdf/FT-Kona-ICE-2024_Nov2024/original/FT-Kona-ICE-2024_Nov2024.pdf' are the same file\n"
     ]
    },
    {
     "name": "stdout",
     "output_type": "stream",
     "text": [
      "🔍 Procesando: /home/pibezx/Documents/Proyectos/PaginaWeb_Automoviles/Chatbot_Cars/images_pdf/ficha-tecnica-h6-gt_v1/original/ficha-tecnica-h6-gt_v1.pdf\n"
     ]
    },
    {
     "name": "stderr",
     "output_type": "stream",
     "text": [
      "cp: '/home/pibezx/Documents/Proyectos/PaginaWeb_Automoviles/Chatbot_Cars/images_pdf/ficha-tecnica-h6-gt_v1/original/ficha-tecnica-h6-gt_v1.pdf' and 'images_pdf/ficha-tecnica-h6-gt_v1/original/ficha-tecnica-h6-gt_v1.pdf' are the same file\n"
     ]
    },
    {
     "name": "stdout",
     "output_type": "stream",
     "text": [
      "🔍 Procesando: /home/pibezx/Documents/Proyectos/PaginaWeb_Automoviles/Chatbot_Cars/images_pdf/FT_EMGRAND_2024_SIN-PRECIO-CAMBIO/original/FT_EMGRAND_2024_SIN-PRECIO-CAMBIO.pdf\n"
     ]
    },
    {
     "name": "stderr",
     "output_type": "stream",
     "text": [
      "cp: '/home/pibezx/Documents/Proyectos/PaginaWeb_Automoviles/Chatbot_Cars/images_pdf/FT_EMGRAND_2024_SIN-PRECIO-CAMBIO/original/FT_EMGRAND_2024_SIN-PRECIO-CAMBIO.pdf' and 'images_pdf/FT_EMGRAND_2024_SIN-PRECIO-CAMBIO/original/FT_EMGRAND_2024_SIN-PRECIO-CAMBIO.pdf' are the same file\n"
     ]
    },
    {
     "name": "stdout",
     "output_type": "stream",
     "text": [
      "🔍 Procesando: /home/pibezx/Documents/Proyectos/PaginaWeb_Automoviles/Chatbot_Cars/images_pdf/202411-01-sail-my25/original/202411-01-sail-my25.pdf\n"
     ]
    },
    {
     "name": "stderr",
     "output_type": "stream",
     "text": [
      "cp: '/home/pibezx/Documents/Proyectos/PaginaWeb_Automoviles/Chatbot_Cars/images_pdf/202411-01-sail-my25/original/202411-01-sail-my25.pdf' and 'images_pdf/202411-01-sail-my25/original/202411-01-sail-my25.pdf' are the same file\n"
     ]
    },
    {
     "name": "stdout",
     "output_type": "stream",
     "text": [
      "🔍 Procesando: /home/pibezx/Documents/Proyectos/PaginaWeb_Automoviles/Chatbot_Cars/images_pdf/FT-new-TUCSON/original/FT-new-TUCSON.pdf\n"
     ]
    },
    {
     "name": "stderr",
     "output_type": "stream",
     "text": [
      "cp: '/home/pibezx/Documents/Proyectos/PaginaWeb_Automoviles/Chatbot_Cars/images_pdf/FT-new-TUCSON/original/FT-new-TUCSON.pdf' and 'images_pdf/FT-new-TUCSON/original/FT-new-TUCSON.pdf' are the same file\n"
     ]
    },
    {
     "name": "stdout",
     "output_type": "stream",
     "text": [
      "🔍 Procesando: /home/pibezx/Documents/Proyectos/PaginaWeb_Automoviles/Chatbot_Cars/images_pdf/ficha-tecnica_suzuki-pe_all-new-baleno/original/ficha-tecnica_suzuki-pe_all-new-baleno.pdf\n"
     ]
    },
    {
     "name": "stderr",
     "output_type": "stream",
     "text": [
      "cp: '/home/pibezx/Documents/Proyectos/PaginaWeb_Automoviles/Chatbot_Cars/images_pdf/ficha-tecnica_suzuki-pe_all-new-baleno/original/ficha-tecnica_suzuki-pe_all-new-baleno.pdf' and 'images_pdf/ficha-tecnica_suzuki-pe_all-new-baleno/original/ficha-tecnica_suzuki-pe_all-new-baleno.pdf' are the same file\n"
     ]
    },
    {
     "name": "stdout",
     "output_type": "stream",
     "text": [
      "🔍 Procesando: /home/pibezx/Documents/Proyectos/PaginaWeb_Automoviles/Chatbot_Cars/images_pdf/ficha-tecnica-tank-300/original/ficha-tecnica-tank-300.pdf\n"
     ]
    },
    {
     "name": "stderr",
     "output_type": "stream",
     "text": [
      "cp: '/home/pibezx/Documents/Proyectos/PaginaWeb_Automoviles/Chatbot_Cars/images_pdf/ficha-tecnica-tank-300/original/ficha-tecnica-tank-300.pdf' and 'images_pdf/ficha-tecnica-tank-300/original/ficha-tecnica-tank-300.pdf' are the same file\n"
     ]
    },
    {
     "name": "stdout",
     "output_type": "stream",
     "text": [
      "🔍 Procesando: /home/pibezx/Documents/Proyectos/PaginaWeb_Automoviles/Chatbot_Cars/images_pdf/ficha-tecnica_suzuki-pe_apv-furgon/original/ficha-tecnica_suzuki-pe_apv-furgon.pdf\n"
     ]
    },
    {
     "name": "stderr",
     "output_type": "stream",
     "text": [
      "cp: '/home/pibezx/Documents/Proyectos/PaginaWeb_Automoviles/Chatbot_Cars/images_pdf/ficha-tecnica_suzuki-pe_apv-furgon/original/ficha-tecnica_suzuki-pe_apv-furgon.pdf' and 'images_pdf/ficha-tecnica_suzuki-pe_apv-furgon/original/ficha-tecnica_suzuki-pe_apv-furgon.pdf' are the same file\n"
     ]
    },
    {
     "name": "stdout",
     "output_type": "stream",
     "text": [
      "🔍 Procesando: /home/pibezx/Documents/Proyectos/PaginaWeb_Automoviles/Chatbot_Cars/images_pdf/17717-arrizo5pro_02012024/original/17717-arrizo5pro_02012024.pdf\n"
     ]
    },
    {
     "name": "stderr",
     "output_type": "stream",
     "text": [
      "cp: '/home/pibezx/Documents/Proyectos/PaginaWeb_Automoviles/Chatbot_Cars/images_pdf/17717-arrizo5pro_02012024/original/17717-arrizo5pro_02012024.pdf' and 'images_pdf/17717-arrizo5pro_02012024/original/17717-arrizo5pro_02012024.pdf' are the same file\n"
     ]
    },
    {
     "name": "stdout",
     "output_type": "stream",
     "text": [
      "🔍 Procesando: /home/pibezx/Documents/Proyectos/PaginaWeb_Automoviles/Chatbot_Cars/images_pdf/ficha-tecnica_suzuki-pe_fronx-smart-hybrid/original/ficha-tecnica_suzuki-pe_fronx-smart-hybrid.pdf\n"
     ]
    },
    {
     "name": "stderr",
     "output_type": "stream",
     "text": [
      "cp: '/home/pibezx/Documents/Proyectos/PaginaWeb_Automoviles/Chatbot_Cars/images_pdf/ficha-tecnica_suzuki-pe_fronx-smart-hybrid/original/ficha-tecnica_suzuki-pe_fronx-smart-hybrid.pdf' and 'images_pdf/ficha-tecnica_suzuki-pe_fronx-smart-hybrid/original/ficha-tecnica_suzuki-pe_fronx-smart-hybrid.pdf' are the same file\n"
     ]
    },
    {
     "name": "stdout",
     "output_type": "stream",
     "text": [
      "🔍 Procesando: /home/pibezx/Documents/Proyectos/PaginaWeb_Automoviles/Chatbot_Cars/images_pdf/FT-KONA-HEV-2/original/FT-KONA-HEV-2.pdf\n"
     ]
    },
    {
     "name": "stderr",
     "output_type": "stream",
     "text": [
      "cp: '/home/pibezx/Documents/Proyectos/PaginaWeb_Automoviles/Chatbot_Cars/images_pdf/FT-KONA-HEV-2/original/FT-KONA-HEV-2.pdf' and 'images_pdf/FT-KONA-HEV-2/original/FT-KONA-HEV-2.pdf' are the same file\n"
     ]
    },
    {
     "name": "stdout",
     "output_type": "stream",
     "text": [
      "🔍 Procesando: /home/pibezx/Documents/Proyectos/PaginaWeb_Automoviles/Chatbot_Cars/images_pdf/ficha-tecnica_suzuki-pe_jimny/original/ficha-tecnica_suzuki-pe_jimny.pdf\n"
     ]
    },
    {
     "name": "stderr",
     "output_type": "stream",
     "text": [
      "cp: '/home/pibezx/Documents/Proyectos/PaginaWeb_Automoviles/Chatbot_Cars/images_pdf/ficha-tecnica_suzuki-pe_jimny/original/ficha-tecnica_suzuki-pe_jimny.pdf' and 'images_pdf/ficha-tecnica_suzuki-pe_jimny/original/ficha-tecnica_suzuki-pe_jimny.pdf' are the same file\n"
     ]
    },
    {
     "name": "stdout",
     "output_type": "stream",
     "text": [
      "🔍 Procesando: /home/pibezx/Documents/Proyectos/PaginaWeb_Automoviles/Chatbot_Cars/images_pdf/FT-Palisade-PE-2022v4/original/FT-Palisade-PE-2022v4.pdf\n"
     ]
    },
    {
     "name": "stderr",
     "output_type": "stream",
     "text": [
      "cp: '/home/pibezx/Documents/Proyectos/PaginaWeb_Automoviles/Chatbot_Cars/images_pdf/FT-Palisade-PE-2022v4/original/FT-Palisade-PE-2022v4.pdf' and 'images_pdf/FT-Palisade-PE-2022v4/original/FT-Palisade-PE-2022v4.pdf' are the same file\n"
     ]
    },
    {
     "name": "stdout",
     "output_type": "stream",
     "text": [
      "🔍 Procesando: /home/pibezx/Documents/Proyectos/PaginaWeb_Automoviles/Chatbot_Cars/images_pdf/FichaTécnica - Taos 2024/original/FichaTécnica - Taos 2024.pdf\n"
     ]
    },
    {
     "name": "stderr",
     "output_type": "stream",
     "text": [
      "cp: '/home/pibezx/Documents/Proyectos/PaginaWeb_Automoviles/Chatbot_Cars/images_pdf/FichaTécnica - Taos 2024/original/FichaTécnica - Taos 2024.pdf' and 'images_pdf/FichaTécnica - Taos 2024/original/FichaTécnica - Taos 2024.pdf' are the same file\n"
     ]
    },
    {
     "name": "stdout",
     "output_type": "stream",
     "text": [
      "🔍 Procesando: /home/pibezx/Documents/Proyectos/PaginaWeb_Automoviles/Chatbot_Cars/images_pdf/202411-15-n400-move-my25/original/202411-15-n400-move-my25.pdf\n"
     ]
    },
    {
     "name": "stderr",
     "output_type": "stream",
     "text": [
      "cp: '/home/pibezx/Documents/Proyectos/PaginaWeb_Automoviles/Chatbot_Cars/images_pdf/202411-15-n400-move-my25/original/202411-15-n400-move-my25.pdf' and 'images_pdf/202411-15-n400-move-my25/original/202411-15-n400-move-my25.pdf' are the same file\n"
     ]
    },
    {
     "name": "stdout",
     "output_type": "stream",
     "text": [
      "🔍 Procesando: /home/pibezx/Documents/Proyectos/PaginaWeb_Automoviles/Chatbot_Cars/images_pdf/FT-Grand-Creta-2022-Dic2024/original/FT-Grand-Creta-2022-Dic2024.pdf\n"
     ]
    },
    {
     "name": "stderr",
     "output_type": "stream",
     "text": [
      "cp: '/home/pibezx/Documents/Proyectos/PaginaWeb_Automoviles/Chatbot_Cars/images_pdf/FT-Grand-Creta-2022-Dic2024/original/FT-Grand-Creta-2022-Dic2024.pdf' and 'images_pdf/FT-Grand-Creta-2022-Dic2024/original/FT-Grand-Creta-2022-Dic2024.pdf' are the same file\n"
     ]
    },
    {
     "name": "stdout",
     "output_type": "stream",
     "text": [
      "🔍 Procesando: /home/pibezx/Documents/Proyectos/PaginaWeb_Automoviles/Chatbot_Cars/images_pdf/2023-11-13-ficha_uni-k/original/2023-11-13-ficha_uni-k.pdf\n"
     ]
    },
    {
     "name": "stderr",
     "output_type": "stream",
     "text": [
      "cp: '/home/pibezx/Documents/Proyectos/PaginaWeb_Automoviles/Chatbot_Cars/images_pdf/2023-11-13-ficha_uni-k/original/2023-11-13-ficha_uni-k.pdf' and 'images_pdf/2023-11-13-ficha_uni-k/original/2023-11-13-ficha_uni-k.pdf' are the same file\n"
     ]
    },
    {
     "name": "stdout",
     "output_type": "stream",
     "text": [
      "🔍 Procesando: /home/pibezx/Documents/Proyectos/PaginaWeb_Automoviles/Chatbot_Cars/images_pdf/202411-02-onix-sedan-turbo-my25/original/202411-02-onix-sedan-turbo-my25.pdf\n"
     ]
    },
    {
     "name": "stderr",
     "output_type": "stream",
     "text": [
      "cp: '/home/pibezx/Documents/Proyectos/PaginaWeb_Automoviles/Chatbot_Cars/images_pdf/202411-02-onix-sedan-turbo-my25/original/202411-02-onix-sedan-turbo-my25.pdf' and 'images_pdf/202411-02-onix-sedan-turbo-my25/original/202411-02-onix-sedan-turbo-my25.pdf' are the same file\n"
     ]
    },
    {
     "name": "stdout",
     "output_type": "stream",
     "text": [
      "🔍 Procesando: /home/pibezx/Documents/Proyectos/PaginaWeb_Automoviles/Chatbot_Cars/images_pdf/ficha-tecnica-wingl5-gasolina_compressed/original/ficha-tecnica-wingl5-gasolina_compressed.pdf\n"
     ]
    },
    {
     "name": "stderr",
     "output_type": "stream",
     "text": [
      "cp: '/home/pibezx/Documents/Proyectos/PaginaWeb_Automoviles/Chatbot_Cars/images_pdf/ficha-tecnica-wingl5-gasolina_compressed/original/ficha-tecnica-wingl5-gasolina_compressed.pdf' and 'images_pdf/ficha-tecnica-wingl5-gasolina_compressed/original/ficha-tecnica-wingl5-gasolina_compressed.pdf' are the same file\n"
     ]
    },
    {
     "name": "stdout",
     "output_type": "stream",
     "text": [
      "🔍 Procesando: /home/pibezx/Documents/Proyectos/PaginaWeb_Automoviles/Chatbot_Cars/images_pdf/ft_alto_comprimido/original/ft_alto_comprimido.pdf\n"
     ]
    },
    {
     "name": "stderr",
     "output_type": "stream",
     "text": [
      "cp: '/home/pibezx/Documents/Proyectos/PaginaWeb_Automoviles/Chatbot_Cars/images_pdf/ft_alto_comprimido/original/ft_alto_comprimido.pdf' and 'images_pdf/ft_alto_comprimido/original/ft_alto_comprimido.pdf' are the same file\n"
     ]
    },
    {
     "name": "stdout",
     "output_type": "stream",
     "text": [
      "🔍 Procesando: /home/pibezx/Documents/Proyectos/PaginaWeb_Automoviles/Chatbot_Cars/images_pdf/202411-13-silverado/original/202411-13-silverado.pdf\n"
     ]
    },
    {
     "name": "stderr",
     "output_type": "stream",
     "text": [
      "cp: '/home/pibezx/Documents/Proyectos/PaginaWeb_Automoviles/Chatbot_Cars/images_pdf/202411-13-silverado/original/202411-13-silverado.pdf' and 'images_pdf/202411-13-silverado/original/202411-13-silverado.pdf' are the same file\n"
     ]
    },
    {
     "name": "stdout",
     "output_type": "stream",
     "text": [
      "🔍 Procesando: /home/pibezx/Documents/Proyectos/PaginaWeb_Automoviles/Chatbot_Cars/images_pdf/honor-s-octubre-1/original/honor-s-octubre-1.pdf\n"
     ]
    },
    {
     "name": "stderr",
     "output_type": "stream",
     "text": [
      "cp: '/home/pibezx/Documents/Proyectos/PaginaWeb_Automoviles/Chatbot_Cars/images_pdf/honor-s-octubre-1/original/honor-s-octubre-1.pdf' and 'images_pdf/honor-s-octubre-1/original/honor-s-octubre-1.pdf' are the same file\n"
     ]
    },
    {
     "name": "stdout",
     "output_type": "stream",
     "text": [
      "🔍 Procesando: /home/pibezx/Documents/Proyectos/PaginaWeb_Automoviles/Chatbot_Cars/images_pdf/suzuki-pe_ficha-tecnica-2024_jimny-5-puertas_v2/original/suzuki-pe_ficha-tecnica-2024_jimny-5-puertas_v2.pdf\n"
     ]
    },
    {
     "name": "stderr",
     "output_type": "stream",
     "text": [
      "cp: '/home/pibezx/Documents/Proyectos/PaginaWeb_Automoviles/Chatbot_Cars/images_pdf/suzuki-pe_ficha-tecnica-2024_jimny-5-puertas_v2/original/suzuki-pe_ficha-tecnica-2024_jimny-5-puertas_v2.pdf' and 'images_pdf/suzuki-pe_ficha-tecnica-2024_jimny-5-puertas_v2/original/suzuki-pe_ficha-tecnica-2024_jimny-5-puertas_v2.pdf' are the same file\n"
     ]
    },
    {
     "name": "stdout",
     "output_type": "stream",
     "text": [
      "🔍 Procesando: /home/pibezx/Documents/Proyectos/PaginaWeb_Automoviles/Chatbot_Cars/images_pdf/29068-ficha_tiggo2pro_23012025/original/29068-ficha_tiggo2pro_23012025.pdf\n"
     ]
    },
    {
     "name": "stderr",
     "output_type": "stream",
     "text": [
      "cp: '/home/pibezx/Documents/Proyectos/PaginaWeb_Automoviles/Chatbot_Cars/images_pdf/29068-ficha_tiggo2pro_23012025/original/29068-ficha_tiggo2pro_23012025.pdf' and 'images_pdf/29068-ficha_tiggo2pro_23012025/original/29068-ficha_tiggo2pro_23012025.pdf' are the same file\n"
     ]
    },
    {
     "name": "stdout",
     "output_type": "stream",
     "text": [
      "🔍 Procesando: /home/pibezx/Documents/Proyectos/PaginaWeb_Automoviles/Chatbot_Cars/images_pdf/FT-SANTA-FE-MX5/original/FT-SANTA-FE-MX5.pdf\n"
     ]
    },
    {
     "name": "stderr",
     "output_type": "stream",
     "text": [
      "cp: '/home/pibezx/Documents/Proyectos/PaginaWeb_Automoviles/Chatbot_Cars/images_pdf/FT-SANTA-FE-MX5/original/FT-SANTA-FE-MX5.pdf' and 'images_pdf/FT-SANTA-FE-MX5/original/FT-SANTA-FE-MX5.pdf' are the same file\n"
     ]
    },
    {
     "name": "stdout",
     "output_type": "stream",
     "text": [
      "🔍 Procesando: /home/pibezx/Documents/Proyectos/PaginaWeb_Automoviles/Chatbot_Cars/images_pdf/FT-VENUE-FL-2024-OCT/original/FT-VENUE-FL-2024-OCT.pdf\n"
     ]
    },
    {
     "name": "stderr",
     "output_type": "stream",
     "text": [
      "cp: '/home/pibezx/Documents/Proyectos/PaginaWeb_Automoviles/Chatbot_Cars/images_pdf/FT-VENUE-FL-2024-OCT/original/FT-VENUE-FL-2024-OCT.pdf' and 'images_pdf/FT-VENUE-FL-2024-OCT/original/FT-VENUE-FL-2024-OCT.pdf' are the same file\n"
     ]
    },
    {
     "name": "stdout",
     "output_type": "stream",
     "text": [
      "🔍 Procesando: /home/pibezx/Documents/Proyectos/PaginaWeb_Automoviles/Chatbot_Cars/images_pdf/202411-07-traverse/original/202411-07-traverse.pdf\n"
     ]
    },
    {
     "name": "stderr",
     "output_type": "stream",
     "text": [
      "cp: '/home/pibezx/Documents/Proyectos/PaginaWeb_Automoviles/Chatbot_Cars/images_pdf/202411-07-traverse/original/202411-07-traverse.pdf' and 'images_pdf/202411-07-traverse/original/202411-07-traverse.pdf' are the same file\n"
     ]
    },
    {
     "name": "stdout",
     "output_type": "stream",
     "text": [
      "🔍 Procesando: /home/pibezx/Documents/Proyectos/PaginaWeb_Automoviles/Chatbot_Cars/images_pdf/ficha-tecnica_suzuki-pe_all-new-grand-vitara-smart-hybrid/original/ficha-tecnica_suzuki-pe_all-new-grand-vitara-smart-hybrid.pdf\n"
     ]
    },
    {
     "name": "stderr",
     "output_type": "stream",
     "text": [
      "cp: '/home/pibezx/Documents/Proyectos/PaginaWeb_Automoviles/Chatbot_Cars/images_pdf/ficha-tecnica_suzuki-pe_all-new-grand-vitara-smart-hybrid/original/ficha-tecnica_suzuki-pe_all-new-grand-vitara-smart-hybrid.pdf' and 'images_pdf/ficha-tecnica_suzuki-pe_all-new-grand-vitara-smart-hybrid/original/ficha-tecnica_suzuki-pe_all-new-grand-vitara-smart-hybrid.pdf' are the same file\n"
     ]
    },
    {
     "name": "stdout",
     "output_type": "stream",
     "text": [
      "🔍 Procesando: /home/pibezx/Documents/Proyectos/PaginaWeb_Automoviles/Chatbot_Cars/images_pdf/FT_H-100/original/FT_H-100.pdf\n"
     ]
    },
    {
     "name": "stderr",
     "output_type": "stream",
     "text": [
      "cp: '/home/pibezx/Documents/Proyectos/PaginaWeb_Automoviles/Chatbot_Cars/images_pdf/FT_H-100/original/FT_H-100.pdf' and 'images_pdf/FT_H-100/original/FT_H-100.pdf' are the same file\n"
     ]
    },
    {
     "name": "stdout",
     "output_type": "stream",
     "text": [
      "🔍 Procesando: /home/pibezx/Documents/Proyectos/PaginaWeb_Automoviles/Chatbot_Cars/images_pdf/FT-STARGAZER-Nov2024/original/FT-STARGAZER-Nov2024.pdf\n"
     ]
    },
    {
     "name": "stderr",
     "output_type": "stream",
     "text": [
      "cp: '/home/pibezx/Documents/Proyectos/PaginaWeb_Automoviles/Chatbot_Cars/images_pdf/FT-STARGAZER-Nov2024/original/FT-STARGAZER-Nov2024.pdf' and 'images_pdf/FT-STARGAZER-Nov2024/original/FT-STARGAZER-Nov2024.pdf' are the same file\n"
     ]
    },
    {
     "name": "stdout",
     "output_type": "stream",
     "text": [
      "🔍 Procesando: /home/pibezx/Documents/Proyectos/PaginaWeb_Automoviles/Chatbot_Cars/images_pdf/ficha-tecnica-new-jolion_actualizado/original/ficha-tecnica-new-jolion_actualizado.pdf\n"
     ]
    },
    {
     "name": "stderr",
     "output_type": "stream",
     "text": [
      "cp: '/home/pibezx/Documents/Proyectos/PaginaWeb_Automoviles/Chatbot_Cars/images_pdf/ficha-tecnica-new-jolion_actualizado/original/ficha-tecnica-new-jolion_actualizado.pdf' and 'images_pdf/ficha-tecnica-new-jolion_actualizado/original/ficha-tecnica-new-jolion_actualizado.pdf' are the same file\n"
     ]
    },
    {
     "name": "stdout",
     "output_type": "stream",
     "text": [
      "🔍 Procesando: /home/pibezx/Documents/Proyectos/PaginaWeb_Automoviles/Chatbot_Cars/images_pdf/202411-11-colorado-my24/original/202411-11-colorado-my24.pdf\n"
     ]
    },
    {
     "name": "stderr",
     "output_type": "stream",
     "text": [
      "cp: '/home/pibezx/Documents/Proyectos/PaginaWeb_Automoviles/Chatbot_Cars/images_pdf/202411-11-colorado-my24/original/202411-11-colorado-my24.pdf' and 'images_pdf/202411-11-colorado-my24/original/202411-11-colorado-my24.pdf' are the same file\n"
     ]
    },
    {
     "name": "stdout",
     "output_type": "stream",
     "text": [
      "🔍 Procesando: /home/pibezx/Documents/Proyectos/PaginaWeb_Automoviles/Chatbot_Cars/images_pdf/ficha-Shine-Gs-E2-web/original/ficha-Shine-Gs-E2-web.pdf\n"
     ]
    },
    {
     "name": "stderr",
     "output_type": "stream",
     "text": [
      "cp: '/home/pibezx/Documents/Proyectos/PaginaWeb_Automoviles/Chatbot_Cars/images_pdf/ficha-Shine-Gs-E2-web/original/ficha-Shine-Gs-E2-web.pdf' and 'images_pdf/ficha-Shine-Gs-E2-web/original/ficha-Shine-Gs-E2-web.pdf' are the same file\n"
     ]
    },
    {
     "name": "stdout",
     "output_type": "stream",
     "text": [
      "🔍 Procesando: /home/pibezx/Documents/Proyectos/PaginaWeb_Automoviles/Chatbot_Cars/images_pdf/2024-07-22-ficha_tecnica_-cs35_compressed/original/2024-07-22-ficha_tecnica_-cs35_compressed.pdf\n"
     ]
    },
    {
     "name": "stderr",
     "output_type": "stream",
     "text": [
      "cp: '/home/pibezx/Documents/Proyectos/PaginaWeb_Automoviles/Chatbot_Cars/images_pdf/2024-07-22-ficha_tecnica_-cs35_compressed/original/2024-07-22-ficha_tecnica_-cs35_compressed.pdf' and 'images_pdf/2024-07-22-ficha_tecnica_-cs35_compressed/original/2024-07-22-ficha_tecnica_-cs35_compressed.pdf' are the same file\n"
     ]
    },
    {
     "name": "stdout",
     "output_type": "stream",
     "text": [
      "🔍 Procesando: /home/pibezx/Documents/Proyectos/PaginaWeb_Automoviles/Chatbot_Cars/images_pdf/ficha-tecnica_suzuki-pe_dzire/original/ficha-tecnica_suzuki-pe_dzire.pdf\n"
     ]
    },
    {
     "name": "stderr",
     "output_type": "stream",
     "text": [
      "cp: '/home/pibezx/Documents/Proyectos/PaginaWeb_Automoviles/Chatbot_Cars/images_pdf/ficha-tecnica_suzuki-pe_dzire/original/ficha-tecnica_suzuki-pe_dzire.pdf' and 'images_pdf/ficha-tecnica_suzuki-pe_dzire/original/ficha-tecnica_suzuki-pe_dzire.pdf' are the same file\n"
     ]
    },
    {
     "name": "stdout",
     "output_type": "stream",
     "text": [
      "🔍 Procesando: /home/pibezx/Documents/Proyectos/PaginaWeb_Automoviles/Chatbot_Cars/images_pdf/202411-05-tracker-my25/original/202411-05-tracker-my25.pdf\n"
     ]
    },
    {
     "name": "stderr",
     "output_type": "stream",
     "text": [
      "cp: '/home/pibezx/Documents/Proyectos/PaginaWeb_Automoviles/Chatbot_Cars/images_pdf/202411-05-tracker-my25/original/202411-05-tracker-my25.pdf' and 'images_pdf/202411-05-tracker-my25/original/202411-05-tracker-my25.pdf' are the same file\n"
     ]
    },
    {
     "name": "stdout",
     "output_type": "stream",
     "text": [
      "🔍 Procesando: /home/pibezx/Documents/Proyectos/PaginaWeb_Automoviles/Chatbot_Cars/images_pdf/93159-tiggo8promax_16072024/original/93159-tiggo8promax_16072024.pdf\n"
     ]
    },
    {
     "name": "stderr",
     "output_type": "stream",
     "text": [
      "cp: '/home/pibezx/Documents/Proyectos/PaginaWeb_Automoviles/Chatbot_Cars/images_pdf/93159-tiggo8promax_16072024/original/93159-tiggo8promax_16072024.pdf' and 'images_pdf/93159-tiggo8promax_16072024/original/93159-tiggo8promax_16072024.pdf' are the same file\n"
     ]
    },
    {
     "name": "stdout",
     "output_type": "stream",
     "text": [
      "🔍 Procesando: /home/pibezx/Documents/Proyectos/PaginaWeb_Automoviles/Chatbot_Cars/images_pdf/ficha-web-sx5/original/ficha-web-sx5.pdf\n"
     ]
    },
    {
     "name": "stderr",
     "output_type": "stream",
     "text": [
      "cp: '/home/pibezx/Documents/Proyectos/PaginaWeb_Automoviles/Chatbot_Cars/images_pdf/ficha-web-sx5/original/ficha-web-sx5.pdf' and 'images_pdf/ficha-web-sx5/original/ficha-web-sx5.pdf' are the same file\n"
     ]
    },
    {
     "name": "stdout",
     "output_type": "stream",
     "text": [
      "🔍 Procesando: /home/pibezx/Documents/Proyectos/PaginaWeb_Automoviles/Chatbot_Cars/images_pdf/FT-SANTA-FE-HEV/original/FT-SANTA-FE-HEV.pdf\n"
     ]
    },
    {
     "name": "stderr",
     "output_type": "stream",
     "text": [
      "cp: '/home/pibezx/Documents/Proyectos/PaginaWeb_Automoviles/Chatbot_Cars/images_pdf/FT-SANTA-FE-HEV/original/FT-SANTA-FE-HEV.pdf' and 'images_pdf/FT-SANTA-FE-HEV/original/FT-SANTA-FE-HEV.pdf' are the same file\n"
     ]
    },
    {
     "name": "stdout",
     "output_type": "stream",
     "text": [
      "🔍 Procesando: /home/pibezx/Documents/Proyectos/PaginaWeb_Automoviles/Chatbot_Cars/images_pdf/ft_xl7_opc2_cv_comprimido/original/ft_xl7_opc2_cv_comprimido.pdf\n"
     ]
    },
    {
     "name": "stderr",
     "output_type": "stream",
     "text": [
      "cp: '/home/pibezx/Documents/Proyectos/PaginaWeb_Automoviles/Chatbot_Cars/images_pdf/ft_xl7_opc2_cv_comprimido/original/ft_xl7_opc2_cv_comprimido.pdf' and 'images_pdf/ft_xl7_opc2_cv_comprimido/original/ft_xl7_opc2_cv_comprimido.pdf' are the same file\n"
     ]
    },
    {
     "name": "stdout",
     "output_type": "stream",
     "text": [
      "🔍 Procesando: /home/pibezx/Documents/Proyectos/PaginaWeb_Automoviles/Chatbot_Cars/images_pdf/2022-02-11-ficha_changan_cs15_feb2022_/original/2022-02-11-ficha_changan_cs15_feb2022_.pdf\n"
     ]
    },
    {
     "name": "stderr",
     "output_type": "stream",
     "text": [
      "cp: '/home/pibezx/Documents/Proyectos/PaginaWeb_Automoviles/Chatbot_Cars/images_pdf/2022-02-11-ficha_changan_cs15_feb2022_/original/2022-02-11-ficha_changan_cs15_feb2022_.pdf' and 'images_pdf/2022-02-11-ficha_changan_cs15_feb2022_/original/2022-02-11-ficha_changan_cs15_feb2022_.pdf' are the same file\n"
     ]
    },
    {
     "name": "stdout",
     "output_type": "stream",
     "text": [
      "🔍 Procesando: /home/pibezx/Documents/Proyectos/PaginaWeb_Automoviles/Chatbot_Cars/images_pdf/kwid-ft/original/kwid-ft.pdf\n"
     ]
    },
    {
     "name": "stderr",
     "output_type": "stream",
     "text": [
      "cp: '/home/pibezx/Documents/Proyectos/PaginaWeb_Automoviles/Chatbot_Cars/images_pdf/kwid-ft/original/kwid-ft.pdf' and 'images_pdf/kwid-ft/original/kwid-ft.pdf' are the same file\n"
     ]
    },
    {
     "name": "stdout",
     "output_type": "stream",
     "text": [
      "🔍 Procesando: /home/pibezx/Documents/Proyectos/PaginaWeb_Automoviles/Chatbot_Cars/images_pdf/ficha-tecnica_suzuki-pe_all-new-s-cross/original/ficha-tecnica_suzuki-pe_all-new-s-cross.pdf\n"
     ]
    },
    {
     "name": "stderr",
     "output_type": "stream",
     "text": [
      "cp: '/home/pibezx/Documents/Proyectos/PaginaWeb_Automoviles/Chatbot_Cars/images_pdf/ficha-tecnica_suzuki-pe_all-new-s-cross/original/ficha-tecnica_suzuki-pe_all-new-s-cross.pdf' and 'images_pdf/ficha-tecnica_suzuki-pe_all-new-s-cross/original/ficha-tecnica_suzuki-pe_all-new-s-cross.pdf' are the same file\n"
     ]
    },
    {
     "name": "stdout",
     "output_type": "stream",
     "text": [
      "🔍 Procesando: /home/pibezx/Documents/Proyectos/PaginaWeb_Automoviles/Chatbot_Cars/images_pdf/202411-14-n400-max-my25/original/202411-14-n400-max-my25.pdf\n"
     ]
    },
    {
     "name": "stderr",
     "output_type": "stream",
     "text": [
      "cp: '/home/pibezx/Documents/Proyectos/PaginaWeb_Automoviles/Chatbot_Cars/images_pdf/202411-14-n400-max-my25/original/202411-14-n400-max-my25.pdf' and 'images_pdf/202411-14-n400-max-my25/original/202411-14-n400-max-my25.pdf' are the same file\n"
     ]
    },
    {
     "name": "stdout",
     "output_type": "stream",
     "text": [
      "🔍 Procesando: /home/pibezx/Documents/Proyectos/PaginaWeb_Automoviles/Chatbot_Cars/images_pdf/ficha-tecnica-h6/original/ficha-tecnica-h6.pdf\n"
     ]
    },
    {
     "name": "stderr",
     "output_type": "stream",
     "text": [
      "cp: '/home/pibezx/Documents/Proyectos/PaginaWeb_Automoviles/Chatbot_Cars/images_pdf/ficha-tecnica-h6/original/ficha-tecnica-h6.pdf' and 'images_pdf/ficha-tecnica-h6/original/ficha-tecnica-h6.pdf' are the same file\n"
     ]
    },
    {
     "name": "stdout",
     "output_type": "stream",
     "text": [
      "🔍 Procesando: /home/pibezx/Documents/Proyectos/PaginaWeb_Automoviles/Chatbot_Cars/images_pdf/FT-Staria-Van/original/FT-Staria-Van.pdf\n"
     ]
    },
    {
     "name": "stderr",
     "output_type": "stream",
     "text": [
      "cp: '/home/pibezx/Documents/Proyectos/PaginaWeb_Automoviles/Chatbot_Cars/images_pdf/FT-Staria-Van/original/FT-Staria-Van.pdf' and 'images_pdf/FT-Staria-Van/original/FT-Staria-Van.pdf' are the same file\n"
     ]
    },
    {
     "name": "stdout",
     "output_type": "stream",
     "text": [
      "🔍 Procesando: /home/pibezx/Documents/Proyectos/PaginaWeb_Automoviles/Chatbot_Cars/images_pdf/67227-tiggo7pro_16072024/original/67227-tiggo7pro_16072024.pdf\n"
     ]
    },
    {
     "name": "stderr",
     "output_type": "stream",
     "text": [
      "cp: '/home/pibezx/Documents/Proyectos/PaginaWeb_Automoviles/Chatbot_Cars/images_pdf/67227-tiggo7pro_16072024/original/67227-tiggo7pro_16072024.pdf' and 'images_pdf/67227-tiggo7pro_16072024/original/67227-tiggo7pro_16072024.pdf' are the same file\n"
     ]
    },
    {
     "name": "stdout",
     "output_type": "stream",
     "text": [
      "🔍 Procesando: /home/pibezx/Documents/Proyectos/PaginaWeb_Automoviles/Chatbot_Cars/images_pdf/koleos-ft-1/original/koleos-ft-1.pdf\n"
     ]
    },
    {
     "name": "stderr",
     "output_type": "stream",
     "text": [
      "cp: '/home/pibezx/Documents/Proyectos/PaginaWeb_Automoviles/Chatbot_Cars/images_pdf/koleos-ft-1/original/koleos-ft-1.pdf' and 'images_pdf/koleos-ft-1/original/koleos-ft-1.pdf' are the same file\n"
     ]
    },
    {
     "name": "stdout",
     "output_type": "stream",
     "text": [
      "🔍 Procesando: /home/pibezx/Documents/Proyectos/PaginaWeb_Automoviles/Chatbot_Cars/images_pdf/FT_STARRAY_2024_SIN-PRECIO-1/original/FT_STARRAY_2024_SIN-PRECIO-1.pdf\n"
     ]
    },
    {
     "name": "stderr",
     "output_type": "stream",
     "text": [
      "cp: '/home/pibezx/Documents/Proyectos/PaginaWeb_Automoviles/Chatbot_Cars/images_pdf/FT_STARRAY_2024_SIN-PRECIO-1/original/FT_STARRAY_2024_SIN-PRECIO-1.pdf' and 'images_pdf/FT_STARRAY_2024_SIN-PRECIO-1/original/FT_STARRAY_2024_SIN-PRECIO-1.pdf' are the same file\n"
     ]
    },
    {
     "name": "stdout",
     "output_type": "stream",
     "text": [
      "🔍 Procesando: /home/pibezx/Documents/Proyectos/PaginaWeb_Automoviles/Chatbot_Cars/images_pdf/ficha-s500-web/original/ficha-s500-web.pdf\n"
     ]
    },
    {
     "name": "stderr",
     "output_type": "stream",
     "text": [
      "cp: '/home/pibezx/Documents/Proyectos/PaginaWeb_Automoviles/Chatbot_Cars/images_pdf/ficha-s500-web/original/ficha-s500-web.pdf' and 'images_pdf/ficha-s500-web/original/ficha-s500-web.pdf' are the same file\n"
     ]
    },
    {
     "name": "stdout",
     "output_type": "stream",
     "text": [
      "🔍 Procesando: /home/pibezx/Documents/Proyectos/PaginaWeb_Automoviles/Chatbot_Cars/images_pdf/ficha-Mage-1/original/ficha-Mage-1.pdf\n"
     ]
    },
    {
     "name": "stderr",
     "output_type": "stream",
     "text": [
      "cp: '/home/pibezx/Documents/Proyectos/PaginaWeb_Automoviles/Chatbot_Cars/images_pdf/ficha-Mage-1/original/ficha-Mage-1.pdf' and 'images_pdf/ficha-Mage-1/original/ficha-Mage-1.pdf' are the same file\n"
     ]
    },
    {
     "name": "stdout",
     "output_type": "stream",
     "text": [
      "🔍 Procesando: /home/pibezx/Documents/Proyectos/PaginaWeb_Automoviles/Chatbot_Cars/images_pdf/FichaTecnica-Tiguan-2024-comp/original/FichaTecnica-Tiguan-2024-comp.pdf\n"
     ]
    },
    {
     "name": "stderr",
     "output_type": "stream",
     "text": [
      "cp: '/home/pibezx/Documents/Proyectos/PaginaWeb_Automoviles/Chatbot_Cars/images_pdf/FichaTecnica-Tiguan-2024-comp/original/FichaTecnica-Tiguan-2024-comp.pdf' and 'images_pdf/FichaTecnica-Tiguan-2024-comp/original/FichaTecnica-Tiguan-2024-comp.pdf' are the same file\n"
     ]
    },
    {
     "name": "stdout",
     "output_type": "stream",
     "text": [
      "🔍 Procesando: /home/pibezx/Documents/Proyectos/PaginaWeb_Automoviles/Chatbot_Cars/images_pdf/FichaTecnica-Teramont-2024/original/FichaTecnica-Teramont-2024.pdf\n"
     ]
    },
    {
     "name": "stderr",
     "output_type": "stream",
     "text": [
      "cp: '/home/pibezx/Documents/Proyectos/PaginaWeb_Automoviles/Chatbot_Cars/images_pdf/FichaTecnica-Teramont-2024/original/FichaTecnica-Teramont-2024.pdf' and 'images_pdf/FichaTecnica-Teramont-2024/original/FichaTecnica-Teramont-2024.pdf' are the same file\n"
     ]
    },
    {
     "name": "stdout",
     "output_type": "stream",
     "text": [
      "🔍 Procesando: /home/pibezx/Documents/Proyectos/PaginaWeb_Automoviles/Chatbot_Cars/images_pdf/202411-09-suburban/original/202411-09-suburban.pdf\n"
     ]
    },
    {
     "name": "stderr",
     "output_type": "stream",
     "text": [
      "cp: '/home/pibezx/Documents/Proyectos/PaginaWeb_Automoviles/Chatbot_Cars/images_pdf/202411-09-suburban/original/202411-09-suburban.pdf' and 'images_pdf/202411-09-suburban/original/202411-09-suburban.pdf' are the same file\n"
     ]
    },
    {
     "name": "stdout",
     "output_type": "stream",
     "text": [
      "🔍 Procesando: /home/pibezx/Documents/Proyectos/PaginaWeb_Automoviles/Chatbot_Cars/images_pdf/202411-12-colorado-brutal-my25/original/202411-12-colorado-brutal-my25.pdf\n"
     ]
    },
    {
     "name": "stderr",
     "output_type": "stream",
     "text": [
      "cp: '/home/pibezx/Documents/Proyectos/PaginaWeb_Automoviles/Chatbot_Cars/images_pdf/202411-12-colorado-brutal-my25/original/202411-12-colorado-brutal-my25.pdf' and 'images_pdf/202411-12-colorado-brutal-my25/original/202411-12-colorado-brutal-my25.pdf' are the same file\n"
     ]
    },
    {
     "name": "stdout",
     "output_type": "stream",
     "text": [
      "🔍 Procesando: /home/pibezx/Documents/Proyectos/PaginaWeb_Automoviles/Chatbot_Cars/images_pdf/2023-12-28-ficha-tecnica_stepway/original/2023-12-28-ficha-tecnica_stepway.pdf\n"
     ]
    },
    {
     "name": "stderr",
     "output_type": "stream",
     "text": [
      "cp: '/home/pibezx/Documents/Proyectos/PaginaWeb_Automoviles/Chatbot_Cars/images_pdf/2023-12-28-ficha-tecnica_stepway/original/2023-12-28-ficha-tecnica_stepway.pdf' and 'images_pdf/2023-12-28-ficha-tecnica_stepway/original/2023-12-28-ficha-tecnica_stepway.pdf' are the same file\n"
     ]
    },
    {
     "name": "stdout",
     "output_type": "stream",
     "text": [
      "🔍 Procesando: /home/pibezx/Documents/Proyectos/PaginaWeb_Automoviles/Chatbot_Cars/images_pdf/ficha-tecnica_suzuki-pe_s-presso/original/ficha-tecnica_suzuki-pe_s-presso.pdf\n"
     ]
    },
    {
     "name": "stderr",
     "output_type": "stream",
     "text": [
      "cp: '/home/pibezx/Documents/Proyectos/PaginaWeb_Automoviles/Chatbot_Cars/images_pdf/ficha-tecnica_suzuki-pe_s-presso/original/ficha-tecnica_suzuki-pe_s-presso.pdf' and 'images_pdf/ficha-tecnica_suzuki-pe_s-presso/original/ficha-tecnica_suzuki-pe_s-presso.pdf' are the same file\n"
     ]
    },
    {
     "name": "stdout",
     "output_type": "stream",
     "text": [
      "🔍 Procesando: /home/pibezx/Documents/Proyectos/PaginaWeb_Automoviles/Chatbot_Cars/images_pdf/ficha-M4/original/ficha-M4.pdf\n"
     ]
    },
    {
     "name": "stderr",
     "output_type": "stream",
     "text": [
      "cp: '/home/pibezx/Documents/Proyectos/PaginaWeb_Automoviles/Chatbot_Cars/images_pdf/ficha-M4/original/ficha-M4.pdf' and 'images_pdf/ficha-M4/original/ficha-M4.pdf' are the same file\n"
     ]
    },
    {
     "name": "stdout",
     "output_type": "stream",
     "text": [
      "🔍 Procesando: /home/pibezx/Documents/Proyectos/PaginaWeb_Automoviles/Chatbot_Cars/images_pdf/35617-new_tiggo8pro_02012024/original/35617-new_tiggo8pro_02012024.pdf\n"
     ]
    },
    {
     "name": "stderr",
     "output_type": "stream",
     "text": [
      "cp: '/home/pibezx/Documents/Proyectos/PaginaWeb_Automoviles/Chatbot_Cars/images_pdf/35617-new_tiggo8pro_02012024/original/35617-new_tiggo8pro_02012024.pdf' and 'images_pdf/35617-new_tiggo8pro_02012024/original/35617-new_tiggo8pro_02012024.pdf' are the same file\n"
     ]
    },
    {
     "name": "stdout",
     "output_type": "stream",
     "text": [
      "🔍 Procesando: /home/pibezx/Documents/Proyectos/PaginaWeb_Automoviles/Chatbot_Cars/images_pdf/FT_GX3-PRO_2024-SIN-PRECIO-1/original/FT_GX3-PRO_2024-SIN-PRECIO-1.pdf\n"
     ]
    },
    {
     "name": "stderr",
     "output_type": "stream",
     "text": [
      "cp: '/home/pibezx/Documents/Proyectos/PaginaWeb_Automoviles/Chatbot_Cars/images_pdf/FT_GX3-PRO_2024-SIN-PRECIO-1/original/FT_GX3-PRO_2024-SIN-PRECIO-1.pdf' and 'images_pdf/FT_GX3-PRO_2024-SIN-PRECIO-1/original/FT_GX3-PRO_2024-SIN-PRECIO-1.pdf' are the same file\n"
     ]
    },
    {
     "name": "stdout",
     "output_type": "stream",
     "text": [
      "🔍 Procesando: /home/pibezx/Documents/Proyectos/PaginaWeb_Automoviles/Chatbot_Cars/images_pdf/ficha-nami-box-1/original/ficha-nami-box-1.pdf\n"
     ]
    },
    {
     "name": "stderr",
     "output_type": "stream",
     "text": [
      "cp: '/home/pibezx/Documents/Proyectos/PaginaWeb_Automoviles/Chatbot_Cars/images_pdf/ficha-nami-box-1/original/ficha-nami-box-1.pdf' and 'images_pdf/ficha-nami-box-1/original/ficha-nami-box-1.pdf' are the same file\n"
     ]
    },
    {
     "name": "stdout",
     "output_type": "stream",
     "text": [
      "🔍 Procesando: /home/pibezx/Documents/Proyectos/PaginaWeb_Automoviles/Chatbot_Cars/images_pdf/ficha-tecnica_f70/original/ficha-tecnica_f70.pdf\n"
     ]
    },
    {
     "name": "stderr",
     "output_type": "stream",
     "text": [
      "cp: '/home/pibezx/Documents/Proyectos/PaginaWeb_Automoviles/Chatbot_Cars/images_pdf/ficha-tecnica_f70/original/ficha-tecnica_f70.pdf' and 'images_pdf/ficha-tecnica_f70/original/ficha-tecnica_f70.pdf' are the same file\n"
     ]
    },
    {
     "name": "stdout",
     "output_type": "stream",
     "text": [
      "🔍 Procesando: /home/pibezx/Documents/Proyectos/PaginaWeb_Automoviles/Chatbot_Cars/images_pdf/Ficha Tecnica - Saveiro 2025/original/Ficha Tecnica - Saveiro 2025.pdf\n"
     ]
    },
    {
     "name": "stderr",
     "output_type": "stream",
     "text": [
      "cp: '/home/pibezx/Documents/Proyectos/PaginaWeb_Automoviles/Chatbot_Cars/images_pdf/Ficha Tecnica - Saveiro 2025/original/Ficha Tecnica - Saveiro 2025.pdf' and 'images_pdf/Ficha Tecnica - Saveiro 2025/original/Ficha Tecnica - Saveiro 2025.pdf' are the same file\n"
     ]
    },
    {
     "name": "stdout",
     "output_type": "stream",
     "text": [
      "🔍 Procesando: /home/pibezx/Documents/Proyectos/PaginaWeb_Automoviles/Chatbot_Cars/images_pdf/dargo-ppt/original/dargo-ppt.pdf\n"
     ]
    },
    {
     "name": "stderr",
     "output_type": "stream",
     "text": [
      "cp: '/home/pibezx/Documents/Proyectos/PaginaWeb_Automoviles/Chatbot_Cars/images_pdf/dargo-ppt/original/dargo-ppt.pdf' and 'images_pdf/dargo-ppt/original/dargo-ppt.pdf' are the same file\n"
     ]
    },
    {
     "name": "stdout",
     "output_type": "stream",
     "text": [
      "🔍 Procesando: /home/pibezx/Documents/Proyectos/PaginaWeb_Automoviles/Chatbot_Cars/images_pdf/202411-06-captiva-xl/original/202411-06-captiva-xl.pdf\n"
     ]
    },
    {
     "name": "stderr",
     "output_type": "stream",
     "text": [
      "cp: '/home/pibezx/Documents/Proyectos/PaginaWeb_Automoviles/Chatbot_Cars/images_pdf/202411-06-captiva-xl/original/202411-06-captiva-xl.pdf' and 'images_pdf/202411-06-captiva-xl/original/202411-06-captiva-xl.pdf' are the same file\n"
     ]
    },
    {
     "name": "stdout",
     "output_type": "stream",
     "text": [
      "🔍 Procesando: /home/pibezx/Documents/Proyectos/PaginaWeb_Automoviles/Chatbot_Cars/images_pdf/ficha-tecnica-jolion-pr_actua/original/ficha-tecnica-jolion-pr_actua.pdf\n"
     ]
    },
    {
     "name": "stderr",
     "output_type": "stream",
     "text": [
      "cp: '/home/pibezx/Documents/Proyectos/PaginaWeb_Automoviles/Chatbot_Cars/images_pdf/ficha-tecnica-jolion-pr_actua/original/ficha-tecnica-jolion-pr_actua.pdf' and 'images_pdf/ficha-tecnica-jolion-pr_actua/original/ficha-tecnica-jolion-pr_actua.pdf' are the same file\n"
     ]
    },
    {
     "name": "stdout",
     "output_type": "stream",
     "text": [
      "🔍 Procesando: /home/pibezx/Documents/Proyectos/PaginaWeb_Automoviles/Chatbot_Cars/images_pdf/ficha-tecnica-jolion-hev_v1/original/ficha-tecnica-jolion-hev_v1.pdf\n"
     ]
    },
    {
     "name": "stderr",
     "output_type": "stream",
     "text": [
      "cp: '/home/pibezx/Documents/Proyectos/PaginaWeb_Automoviles/Chatbot_Cars/images_pdf/ficha-tecnica-jolion-hev_v1/original/ficha-tecnica-jolion-hev_v1.pdf' and 'images_pdf/ficha-tecnica-jolion-hev_v1/original/ficha-tecnica-jolion-hev_v1.pdf' are the same file\n"
     ]
    },
    {
     "name": "stdout",
     "output_type": "stream",
     "text": [
      "🔍 Procesando: /home/pibezx/Documents/Proyectos/PaginaWeb_Automoviles/Chatbot_Cars/images_pdf/80544-tiggo8pro_hybrid/original/80544-tiggo8pro_hybrid.pdf\n"
     ]
    },
    {
     "name": "stderr",
     "output_type": "stream",
     "text": [
      "cp: '/home/pibezx/Documents/Proyectos/PaginaWeb_Automoviles/Chatbot_Cars/images_pdf/80544-tiggo8pro_hybrid/original/80544-tiggo8pro_hybrid.pdf' and 'images_pdf/80544-tiggo8pro_hybrid/original/80544-tiggo8pro_hybrid.pdf' are the same file\n"
     ]
    },
    {
     "name": "stdout",
     "output_type": "stream",
     "text": [
      "🔍 Procesando: /home/pibezx/Documents/Proyectos/PaginaWeb_Automoviles/Chatbot_Cars/images_pdf/FichaTécnica - Nivus 2024/original/FichaTécnica - Nivus 2024.pdf\n"
     ]
    },
    {
     "name": "stderr",
     "output_type": "stream",
     "text": [
      "cp: '/home/pibezx/Documents/Proyectos/PaginaWeb_Automoviles/Chatbot_Cars/images_pdf/FichaTécnica - Nivus 2024/original/FichaTécnica - Nivus 2024.pdf' and 'images_pdf/FichaTécnica - Nivus 2024/original/FichaTécnica - Nivus 2024.pdf' are the same file\n"
     ]
    },
    {
     "name": "stdout",
     "output_type": "stream",
     "text": [
      "🔍 Procesando: /home/pibezx/Documents/Proyectos/PaginaWeb_Automoviles/Chatbot_Cars/images_pdf/ficha-Web-SX6-7asientos/original/ficha-Web-SX6-7asientos.pdf\n"
     ]
    },
    {
     "name": "stderr",
     "output_type": "stream",
     "text": [
      "cp: '/home/pibezx/Documents/Proyectos/PaginaWeb_Automoviles/Chatbot_Cars/images_pdf/ficha-Web-SX6-7asientos/original/ficha-Web-SX6-7asientos.pdf' and 'images_pdf/ficha-Web-SX6-7asientos/original/ficha-Web-SX6-7asientos.pdf' are the same file\n"
     ]
    },
    {
     "name": "stdout",
     "output_type": "stream",
     "text": [
      "🔍 Procesando: /home/pibezx/Documents/Proyectos/PaginaWeb_Automoviles/Chatbot_Cars/images_pdf/ficha-Sx6-Pro-1.5L-AT-2025/original/ficha-Sx6-Pro-1.5L-AT-2025.pdf\n"
     ]
    },
    {
     "name": "stderr",
     "output_type": "stream",
     "text": [
      "cp: '/home/pibezx/Documents/Proyectos/PaginaWeb_Automoviles/Chatbot_Cars/images_pdf/ficha-Sx6-Pro-1.5L-AT-2025/original/ficha-Sx6-Pro-1.5L-AT-2025.pdf' and 'images_pdf/ficha-Sx6-Pro-1.5L-AT-2025/original/ficha-Sx6-Pro-1.5L-AT-2025.pdf' are the same file\n"
     ]
    },
    {
     "name": "stdout",
     "output_type": "stream",
     "text": [
      "🔍 Procesando: /home/pibezx/Documents/Proyectos/PaginaWeb_Automoviles/Chatbot_Cars/images_pdf/ficha-tecnica-h6-hev/original/ficha-tecnica-h6-hev.pdf\n"
     ]
    },
    {
     "name": "stderr",
     "output_type": "stream",
     "text": [
      "cp: '/home/pibezx/Documents/Proyectos/PaginaWeb_Automoviles/Chatbot_Cars/images_pdf/ficha-tecnica-h6-hev/original/ficha-tecnica-h6-hev.pdf' and 'images_pdf/ficha-tecnica-h6-hev/original/ficha-tecnica-h6-hev.pdf' are the same file\n"
     ]
    },
    {
     "name": "stdout",
     "output_type": "stream",
     "text": [
      "🔍 Procesando: /home/pibezx/Documents/Proyectos/PaginaWeb_Automoviles/Chatbot_Cars/images_pdf/FichaTecnica - Virtus 2025 /original/FichaTecnica - Virtus 2025 .pdf\n"
     ]
    },
    {
     "name": "stderr",
     "output_type": "stream",
     "text": [
      "cp: '/home/pibezx/Documents/Proyectos/PaginaWeb_Automoviles/Chatbot_Cars/images_pdf/FichaTecnica - Virtus 2025 /original/FichaTecnica - Virtus 2025 .pdf' and 'images_pdf/FichaTecnica - Virtus 2025 /original/FichaTecnica - Virtus 2025 .pdf' are the same file\n"
     ]
    },
    {
     "name": "stdout",
     "output_type": "stream",
     "text": [
      "🔍 Procesando: /home/pibezx/Documents/Proyectos/PaginaWeb_Automoviles/Chatbot_Cars/images_pdf/ficha-Web-HUGE-E2-HEV/original/ficha-Web-HUGE-E2-HEV.pdf\n"
     ]
    },
    {
     "name": "stderr",
     "output_type": "stream",
     "text": [
      "cp: '/home/pibezx/Documents/Proyectos/PaginaWeb_Automoviles/Chatbot_Cars/images_pdf/ficha-Web-HUGE-E2-HEV/original/ficha-Web-HUGE-E2-HEV.pdf' and 'images_pdf/ficha-Web-HUGE-E2-HEV/original/ficha-Web-HUGE-E2-HEV.pdf' are the same file\n"
     ]
    },
    {
     "name": "stdout",
     "output_type": "stream",
     "text": [
      "🔍 Procesando: /home/pibezx/Documents/Proyectos/PaginaWeb_Automoviles/Chatbot_Cars/images_pdf/ficha-tecnica-poer-mt_v1/original/ficha-tecnica-poer-mt_v1.pdf\n"
     ]
    },
    {
     "name": "stderr",
     "output_type": "stream",
     "text": [
      "cp: '/home/pibezx/Documents/Proyectos/PaginaWeb_Automoviles/Chatbot_Cars/images_pdf/ficha-tecnica-poer-mt_v1/original/ficha-tecnica-poer-mt_v1.pdf' and 'images_pdf/ficha-tecnica-poer-mt_v1/original/ficha-tecnica-poer-mt_v1.pdf' are the same file\n"
     ]
    },
    {
     "name": "stdout",
     "output_type": "stream",
     "text": [
      "🔍 Procesando: /home/pibezx/Documents/Proyectos/PaginaWeb_Automoviles/Chatbot_Cars/images_pdf/FT-ACCENT-1/original/FT-ACCENT-1.pdf\n"
     ]
    },
    {
     "name": "stderr",
     "output_type": "stream",
     "text": [
      "cp: '/home/pibezx/Documents/Proyectos/PaginaWeb_Automoviles/Chatbot_Cars/images_pdf/FT-ACCENT-1/original/FT-ACCENT-1.pdf' and 'images_pdf/FT-ACCENT-1/original/FT-ACCENT-1.pdf' are the same file\n"
     ]
    },
    {
     "name": "stdout",
     "output_type": "stream",
     "text": [
      "🔍 Procesando: /home/pibezx/Documents/Proyectos/PaginaWeb_Automoviles/Chatbot_Cars/images_pdf/FT_NEW-COOLRAY_2024-SIN-PRECIO-1/original/FT_NEW-COOLRAY_2024-SIN-PRECIO-1.pdf\n"
     ]
    },
    {
     "name": "stderr",
     "output_type": "stream",
     "text": [
      "cp: '/home/pibezx/Documents/Proyectos/PaginaWeb_Automoviles/Chatbot_Cars/images_pdf/FT_NEW-COOLRAY_2024-SIN-PRECIO-1/original/FT_NEW-COOLRAY_2024-SIN-PRECIO-1.pdf' and 'images_pdf/FT_NEW-COOLRAY_2024-SIN-PRECIO-1/original/FT_NEW-COOLRAY_2024-SIN-PRECIO-1.pdf' are the same file\n"
     ]
    },
    {
     "name": "stdout",
     "output_type": "stream",
     "text": [
      "🔍 Procesando: /home/pibezx/Documents/Proyectos/PaginaWeb_Automoviles/Chatbot_Cars/images_pdf/ficha-T5EVO-HEV-Exclusive/original/ficha-T5EVO-HEV-Exclusive.pdf\n"
     ]
    },
    {
     "name": "stderr",
     "output_type": "stream",
     "text": [
      "cp: '/home/pibezx/Documents/Proyectos/PaginaWeb_Automoviles/Chatbot_Cars/images_pdf/ficha-T5EVO-HEV-Exclusive/original/ficha-T5EVO-HEV-Exclusive.pdf' and 'images_pdf/ficha-T5EVO-HEV-Exclusive/original/ficha-T5EVO-HEV-Exclusive.pdf' are the same file\n"
     ]
    },
    {
     "name": "stdout",
     "output_type": "stream",
     "text": [
      "🔍 Procesando: /home/pibezx/Documents/Proyectos/PaginaWeb_Automoviles/Chatbot_Cars/images_pdf/ficha-tecnica-poer-at_compressed/original/ficha-tecnica-poer-at_compressed.pdf\n"
     ]
    },
    {
     "name": "stderr",
     "output_type": "stream",
     "text": [
      "cp: '/home/pibezx/Documents/Proyectos/PaginaWeb_Automoviles/Chatbot_Cars/images_pdf/ficha-tecnica-poer-at_compressed/original/ficha-tecnica-poer-at_compressed.pdf' and 'images_pdf/ficha-tecnica-poer-at_compressed/original/ficha-tecnica-poer-at_compressed.pdf' are the same file\n"
     ]
    },
    {
     "name": "stdout",
     "output_type": "stream",
     "text": [
      "🔍 Procesando: /home/pibezx/Documents/Proyectos/PaginaWeb_Automoviles/Chatbot_Cars/images_pdf/202411-08-tahoe/original/202411-08-tahoe.pdf\n"
     ]
    },
    {
     "name": "stderr",
     "output_type": "stream",
     "text": [
      "cp: '/home/pibezx/Documents/Proyectos/PaginaWeb_Automoviles/Chatbot_Cars/images_pdf/202411-08-tahoe/original/202411-08-tahoe.pdf' and 'images_pdf/202411-08-tahoe/original/202411-08-tahoe.pdf' are the same file\n"
     ]
    },
    {
     "name": "stdout",
     "output_type": "stream",
     "text": [
      "🔍 Procesando: /home/pibezx/Documents/Proyectos/PaginaWeb_Automoviles/Chatbot_Cars/images_pdf/af-ficha-te-cnica-celerio-agosto-2024-peso-ajustado/original/af-ficha-te-cnica-celerio-agosto-2024-peso-ajustado.pdf\n"
     ]
    },
    {
     "name": "stderr",
     "output_type": "stream",
     "text": [
      "cp: '/home/pibezx/Documents/Proyectos/PaginaWeb_Automoviles/Chatbot_Cars/images_pdf/af-ficha-te-cnica-celerio-agosto-2024-peso-ajustado/original/af-ficha-te-cnica-celerio-agosto-2024-peso-ajustado.pdf' and 'images_pdf/af-ficha-te-cnica-celerio-agosto-2024-peso-ajustado/original/af-ficha-te-cnica-celerio-agosto-2024-peso-ajustado.pdf' are the same file\n"
     ]
    },
    {
     "name": "stdout",
     "output_type": "stream",
     "text": [
      "🔍 Procesando: /home/pibezx/Documents/Proyectos/PaginaWeb_Automoviles/Chatbot_Cars/images_pdf/2022-05-25-ficha_tecnica_unit-curvas/original/2022-05-25-ficha_tecnica_unit-curvas.pdf\n"
     ]
    },
    {
     "name": "stderr",
     "output_type": "stream",
     "text": [
      "cp: '/home/pibezx/Documents/Proyectos/PaginaWeb_Automoviles/Chatbot_Cars/images_pdf/2022-05-25-ficha_tecnica_unit-curvas/original/2022-05-25-ficha_tecnica_unit-curvas.pdf' and 'images_pdf/2022-05-25-ficha_tecnica_unit-curvas/original/2022-05-25-ficha_tecnica_unit-curvas.pdf' are the same file\n"
     ]
    },
    {
     "name": "stdout",
     "output_type": "stream",
     "text": [
      "🔍 Procesando: /home/pibezx/Documents/Proyectos/PaginaWeb_Automoviles/Chatbot_Cars/images_pdf/2024-09-13-ficha_x7plussetiembre2024/original/2024-09-13-ficha_x7plussetiembre2024.pdf\n"
     ]
    },
    {
     "name": "stderr",
     "output_type": "stream",
     "text": [
      "cp: '/home/pibezx/Documents/Proyectos/PaginaWeb_Automoviles/Chatbot_Cars/images_pdf/2024-09-13-ficha_x7plussetiembre2024/original/2024-09-13-ficha_x7plussetiembre2024.pdf' and 'images_pdf/2024-09-13-ficha_x7plussetiembre2024/original/2024-09-13-ficha_x7plussetiembre2024.pdf' are the same file\n"
     ]
    },
    {
     "name": "stdout",
     "output_type": "stream",
     "text": [
      "🔍 Procesando: /home/pibezx/Documents/Proyectos/PaginaWeb_Automoviles/Chatbot_Cars/images_pdf/oroch-ft/original/oroch-ft.pdf\n"
     ]
    },
    {
     "name": "stderr",
     "output_type": "stream",
     "text": [
      "cp: '/home/pibezx/Documents/Proyectos/PaginaWeb_Automoviles/Chatbot_Cars/images_pdf/oroch-ft/original/oroch-ft.pdf' and 'images_pdf/oroch-ft/original/oroch-ft.pdf' are the same file\n"
     ]
    },
    {
     "name": "stdout",
     "output_type": "stream",
     "text": [
      "🔍 Procesando: /home/pibezx/Documents/Proyectos/PaginaWeb_Automoviles/Chatbot_Cars/Nissan/FT-Nueva-Frontier-PRO-4X.pdf\n",
      "🔍 Procesando: /home/pibezx/Documents/Proyectos/PaginaWeb_Automoviles/Chatbot_Cars/Nissan/FT_X-TRAIL_E-POWER.pdf\n",
      "❌ Error procesando /home/pibezx/Documents/Proyectos/PaginaWeb_Automoviles/Chatbot_Cars/Nissan/FT_X-TRAIL_E-POWER.pdf: Image size (525970806 pixels) exceeds limit of 178956970 pixels, could be decompression bomb DOS attack.\n",
      "🔍 Procesando: /home/pibezx/Documents/Proyectos/PaginaWeb_Automoviles/Chatbot_Cars/Nissan/FT-Nueva-Frontier.pdf\n",
      "🔍 Procesando: /home/pibezx/Documents/Proyectos/PaginaWeb_Automoviles/Chatbot_Cars/Nissan/FT-Urvan.pdf\n",
      "🔍 Procesando: /home/pibezx/Documents/Proyectos/PaginaWeb_Automoviles/Chatbot_Cars/Nissan/FT-Nuevo-Sentra.pdf\n",
      "🔍 Procesando: /home/pibezx/Documents/Proyectos/PaginaWeb_Automoviles/Chatbot_Cars/Nissan/FT-Nuevo-Nissan-Versa.pdf\n",
      "❌ Error procesando /home/pibezx/Documents/Proyectos/PaginaWeb_Automoviles/Chatbot_Cars/Nissan/FT-Nuevo-Nissan-Versa.pdf: Image size (381106110 pixels) exceeds limit of 178956970 pixels, could be decompression bomb DOS attack.\n",
      "🔍 Procesando: /home/pibezx/Documents/Proyectos/PaginaWeb_Automoviles/Chatbot_Cars/Nissan/FT-Patrol.pdf\n",
      "🔍 Procesando: /home/pibezx/Documents/Proyectos/PaginaWeb_Automoviles/Chatbot_Cars/Nissan/FT-Nuevo-Kicks.pdf\n",
      "🔍 Procesando: /home/pibezx/Documents/Proyectos/PaginaWeb_Automoviles/Chatbot_Cars/Nissan/FT-NUEVA-X-TRAIL.pdf\n",
      "❌ Error procesando /home/pibezx/Documents/Proyectos/PaginaWeb_Automoviles/Chatbot_Cars/Nissan/FT-NUEVA-X-TRAIL.pdf: Image size (574065612 pixels) exceeds limit of 178956970 pixels, could be decompression bomb DOS attack.\n",
      "🔍 Procesando: /home/pibezx/Documents/Proyectos/PaginaWeb_Automoviles/Chatbot_Cars/Nissan/FT-NUEVA-QASHQAI.pdf\n",
      "🔍 Procesando: /home/pibezx/Documents/Proyectos/PaginaWeb_Automoviles/Chatbot_Cars/Nissan/FT-NUEVA-PATHFINDER.pdf\n",
      "❌ Error procesando /home/pibezx/Documents/Proyectos/PaginaWeb_Automoviles/Chatbot_Cars/Nissan/FT-NUEVA-PATHFINDER.pdf: Image size (466441110 pixels) exceeds limit of 178956970 pixels, could be decompression bomb DOS attack.\n",
      "🔍 Procesando: /home/pibezx/Documents/Proyectos/PaginaWeb_Automoviles/Chatbot_Cars/Mitsubishi/fichatecnica-outlander-sport.pdf\n",
      "🔍 Procesando: /home/pibezx/Documents/Proyectos/PaginaWeb_Automoviles/Chatbot_Cars/Mitsubishi/specs-new-montero-sport.pdf\n",
      "🔍 Procesando: /home/pibezx/Documents/Proyectos/PaginaWeb_Automoviles/Chatbot_Cars/Mitsubishi/fichatecnica-newl200.pdf\n",
      "🔍 Procesando: /home/pibezx/Documents/Proyectos/PaginaWeb_Automoviles/Chatbot_Cars/Mitsubishi/specs-new-outlander.pdf\n",
      "🔍 Procesando: /home/pibezx/Documents/Proyectos/PaginaWeb_Automoviles/Chatbot_Cars/Mitsubishi/specs-new-asx.pdf\n",
      "🔍 Procesando: /home/pibezx/Documents/Proyectos/PaginaWeb_Automoviles/Chatbot_Cars/Mitsubishi/specs-xpander.pdf\n",
      "🔍 Procesando: /home/pibezx/Documents/Proyectos/PaginaWeb_Automoviles/Chatbot_Cars/Mitsubishi/specs-eclipse-cross.pdf\n",
      "🔍 Procesando: /home/pibezx/Documents/Proyectos/PaginaWeb_Automoviles/Chatbot_Cars/Mitsubishi/specs-xpander-cross.pdf\n",
      "🔍 Procesando: /home/pibezx/Documents/Proyectos/PaginaWeb_Automoviles/Chatbot_Cars/Toyota/CATALOGO_HIACE_PERU.pdf\n",
      "🔍 Procesando: /home/pibezx/Documents/Proyectos/PaginaWeb_Automoviles/Chatbot_Cars/Toyota/Catalogo_Fortuner_Consolidado2024.pdf\n",
      "🔍 Procesando: /home/pibezx/Documents/Proyectos/PaginaWeb_Automoviles/Chatbot_Cars/Toyota/CATALOGO_RUSH_PERU_1.pdf\n",
      "🔍 Procesando: /home/pibezx/Documents/Proyectos/PaginaWeb_Automoviles/Chatbot_Cars/Toyota/CATALOGO_RAV4_PERU_0.pdf\n",
      "🔍 Procesando: /home/pibezx/Documents/Proyectos/PaginaWeb_Automoviles/Chatbot_Cars/Toyota/CATALOGO_RAIZE_PERU_1.pdf\n",
      "🔍 Procesando: /home/pibezx/Documents/Proyectos/PaginaWeb_Automoviles/Chatbot_Cars/Toyota/CATÁLOGO_YARIS_PERU.pdf\n",
      "🔍 Procesando: /home/pibezx/Documents/Proyectos/PaginaWeb_Automoviles/Chatbot_Cars/Toyota/catalogo-land-cruiser-prado-2024.pdf\n",
      "🔍 Procesando: /home/pibezx/Documents/Proyectos/PaginaWeb_Automoviles/Chatbot_Cars/Toyota/catalogo-yaris-cross-2024-consolidado.pdf\n",
      "🔍 Procesando: /home/pibezx/Documents/Proyectos/PaginaWeb_Automoviles/Chatbot_Cars/Toyota/CATALOGO_AGYA_PERU_1.pdf\n",
      "🔍 Procesando: /home/pibezx/Documents/Proyectos/PaginaWeb_Automoviles/Chatbot_Cars/Toyota/catalogo-corolla-cross-2024-consolidado.pdf\n",
      "🔍 Procesando: /home/pibezx/Documents/Proyectos/PaginaWeb_Automoviles/Chatbot_Cars/Toyota/CATALOGO_HILUX_PERU_0.pdf\n",
      "🔍 Procesando: /home/pibezx/Documents/Proyectos/PaginaWeb_Automoviles/Chatbot_Cars/Toyota/HV-Hilux-Stout.pdf\n",
      "🔍 Procesando: /home/pibezx/Documents/Proyectos/PaginaWeb_Automoviles/Chatbot_Cars/Toyota/CATALOGO_4RUNNER_PERU_0.pdf\n",
      "🔍 Procesando: /home/pibezx/Documents/Proyectos/PaginaWeb_Automoviles/Chatbot_Cars/Toyota/CATALOGO_COROLLA_PERU.pdf\n",
      "🔍 Procesando: /home/pibezx/Documents/Proyectos/PaginaWeb_Automoviles/Chatbot_Cars/Dfsk/ft_pick_up_d1__actualizada_.pdf\n",
      "🔍 Procesando: /home/pibezx/Documents/Proyectos/PaginaWeb_Automoviles/Chatbot_Cars/Dfsk/ft_560glory__actualizada_.pdf\n",
      "🔍 Procesando: /home/pibezx/Documents/Proyectos/PaginaWeb_Automoviles/Chatbot_Cars/Dfsk/ft_glory600_web.pdf\n",
      "🔍 Procesando: /home/pibezx/Documents/Proyectos/PaginaWeb_Automoviles/Chatbot_Cars/Dfsk/ft_ix5_actualizada.pdf\n",
      "🔍 Procesando: /home/pibezx/Documents/Proyectos/PaginaWeb_Automoviles/Chatbot_Cars/Dfsk/500_glory_ft___actualizada.pdf\n",
      "🔍 Procesando: /home/pibezx/Documents/Proyectos/PaginaWeb_Automoviles/Chatbot_Cars/Dfsk/ft_580_glory_actualizada_.pdf\n",
      "🔍 Procesando: /home/pibezx/Documents/Proyectos/PaginaWeb_Automoviles/Chatbot_Cars/Mazda/2024-03-19-vf-ficha_te-cnica_mazda_cx5_marzo-2024.pdf\n",
      "🔍 Procesando: /home/pibezx/Documents/Proyectos/PaginaWeb_Automoviles/Chatbot_Cars/Mazda/2022-01-18-ficha-tecnica-mazda2-sport.pdf\n",
      "🔍 Procesando: /home/pibezx/Documents/Proyectos/PaginaWeb_Automoviles/Chatbot_Cars/Mazda/2024-05-15-ficha_tecnica_mazda_cx30_17-de-abril-2024.pdf\n",
      "🔍 Procesando: /home/pibezx/Documents/Proyectos/PaginaWeb_Automoviles/Chatbot_Cars/Mazda/2022-01-18-ficha-tecnica-mazda6.pdf\n",
      "🔍 Procesando: /home/pibezx/Documents/Proyectos/PaginaWeb_Automoviles/Chatbot_Cars/Mazda/2023-12-05-ficha-cx-60-vertical.pdf\n",
      "🔍 Procesando: /home/pibezx/Documents/Proyectos/PaginaWeb_Automoviles/Chatbot_Cars/Mazda/2022-01-18-ficha-tecnica-mazda-cx-9.pdf\n",
      "🔍 Procesando: /home/pibezx/Documents/Proyectos/PaginaWeb_Automoviles/Chatbot_Cars/Mazda/2024-03-26-vf_ficha_te-cnica_mazda_cx3_25marzo24.pdf\n",
      "🔍 Procesando: /home/pibezx/Documents/Proyectos/PaginaWeb_Automoviles/Chatbot_Cars/Mazda/2022-01-18-ficha-tecnica-all-new-mazda3-sport.pdf\n",
      "🔍 Procesando: /home/pibezx/Documents/Proyectos/PaginaWeb_Automoviles/Chatbot_Cars/Mazda/2024-05-30-ficha_técnica_all_new_mazda_bt_50_201123.pdf\n",
      "🔍 Procesando: /home/pibezx/Documents/Proyectos/PaginaWeb_Automoviles/Chatbot_Cars/Mazda/2022-04-26-ficha-tecnica-mazda2-sedan.pdf\n",
      "🔍 Procesando: /home/pibezx/Documents/Proyectos/PaginaWeb_Automoviles/Chatbot_Cars/Mazda/2022-07-20-ficha-tecnica-mazda-mx-5.pdf\n",
      "🔍 Procesando: /home/pibezx/Documents/Proyectos/PaginaWeb_Automoviles/Chatbot_Cars/Mazda/2022-05-17-ficha-tecnica-all-new-mazda3-sedan.pdf\n",
      "🔍 Procesando: /home/pibezx/Documents/Proyectos/PaginaWeb_Automoviles/Chatbot_Cars/Mazda/2024-09-03-ficha-técnica-all-new-mazda-cx-90-1308_compressed-1.pdf\n",
      "🔍 Procesando: /home/pibezx/Documents/Proyectos/PaginaWeb_Automoviles/Chatbot_Cars/Ford/fpe-ficha-tecnica-Nuevo-Bronco.pdf\n",
      "🔍 Procesando: /home/pibezx/Documents/Proyectos/PaginaWeb_Automoviles/Chatbot_Cars/Ford/fpe-ficha-tecnica-F-150-hev.pdf\n",
      "🔍 Procesando: /home/pibezx/Documents/Proyectos/PaginaWeb_Automoviles/Chatbot_Cars/Ford/fpe-ficha-tecnica-Nueva-Explorer.pdf\n",
      "🔍 Procesando: /home/pibezx/Documents/Proyectos/PaginaWeb_Automoviles/Chatbot_Cars/Ford/fpe-ficha-tecnica-Maverick-hibrida.pdf\n",
      "🔍 Procesando: /home/pibezx/Documents/Proyectos/PaginaWeb_Automoviles/Chatbot_Cars/Ford/fpe-ficha-tecnica-Ranger-Raptor.pdf\n",
      "🔍 Procesando: /home/pibezx/Documents/Proyectos/PaginaWeb_Automoviles/Chatbot_Cars/Ford/fpe-ficha-tecnica-nueva-ranger.pdf\n",
      "🔍 Procesando: /home/pibezx/Documents/Proyectos/PaginaWeb_Automoviles/Chatbot_Cars/Ford/fpe-ficha-tecnica-Escape-hibrida.pdf\n",
      "🔍 Procesando: /home/pibezx/Documents/Proyectos/PaginaWeb_Automoviles/Chatbot_Cars/Ford/fpe-ficha-tecnica-Nuevo-Mustang.pdf\n",
      "🔍 Procesando: /home/pibezx/Documents/Proyectos/PaginaWeb_Automoviles/Chatbot_Cars/Ford/fpe-ficha-tecnica-Explorer-ST.pdf\n",
      "🔍 Procesando: /home/pibezx/Documents/Proyectos/PaginaWeb_Automoviles/Chatbot_Cars/Ford/fpe-ficha-tecnica-F-150-raptor.pdf\n",
      "🔍 Procesando: /home/pibezx/Documents/Proyectos/PaginaWeb_Automoviles/Chatbot_Cars/Ford/fpe-ficha-tecnica-F150.pdf\n",
      "🔍 Procesando: /home/pibezx/Documents/Proyectos/PaginaWeb_Automoviles/Chatbot_Cars/Ford/fpe-ficha-tecnica-Bronco-sport.pdf\n",
      "🔍 Procesando: /home/pibezx/Documents/Proyectos/PaginaWeb_Automoviles/Chatbot_Cars/Ford/fpe-ficha-tecnica-Maverick.pdf\n",
      "🔍 Procesando: /home/pibezx/Documents/Proyectos/PaginaWeb_Automoviles/Chatbot_Cars/Ford/fpe-ficha-tecnica-Expedition.pdf\n",
      "🔍 Procesando: /home/pibezx/Documents/Proyectos/PaginaWeb_Automoviles/Chatbot_Cars/Ford/fpe-ficha-tecnica-Territory.pdf\n",
      "🔍 Procesando: /home/pibezx/Documents/Proyectos/PaginaWeb_Automoviles/Chatbot_Cars/Kia/soluto.pdf\n",
      "🔍 Procesando: /home/pibezx/Documents/Proyectos/PaginaWeb_Automoviles/Chatbot_Cars/Kia/new-sorento.pdf\n",
      "🔍 Procesando: /home/pibezx/Documents/Proyectos/PaginaWeb_Automoviles/Chatbot_Cars/Kia/ev9.pdf\n",
      "🔍 Procesando: /home/pibezx/Documents/Proyectos/PaginaWeb_Automoviles/Chatbot_Cars/Kia/carens.pdf\n",
      "🔍 Procesando: /home/pibezx/Documents/Proyectos/PaginaWeb_Automoviles/Chatbot_Cars/Kia/new-picanto.pdf\n",
      "🔍 Procesando: /home/pibezx/Documents/Proyectos/PaginaWeb_Automoviles/Chatbot_Cars/Kia/k3-cross.pdf\n",
      "🔍 Procesando: /home/pibezx/Documents/Proyectos/PaginaWeb_Automoviles/Chatbot_Cars/Kia/new-seltos.pdf\n",
      "🔍 Procesando: /home/pibezx/Documents/Proyectos/PaginaWeb_Automoviles/Chatbot_Cars/Kia/k3.pdf\n",
      "🔍 Procesando: /home/pibezx/Documents/Proyectos/PaginaWeb_Automoviles/Chatbot_Cars/Kia/new-sonet.pdf\n",
      "🔍 Procesando: /home/pibezx/Documents/Proyectos/PaginaWeb_Automoviles/Chatbot_Cars/Kia/ev5.pdf\n",
      "🔍 Procesando: /home/pibezx/Documents/Proyectos/PaginaWeb_Automoviles/Chatbot_Cars/Kia/all-new-niro.pdf\n",
      "🔍 Procesando: /home/pibezx/Documents/Proyectos/PaginaWeb_Automoviles/Chatbot_Cars/Kia/all-new-niro-ev.pdf\n",
      "🔍 Procesando: /home/pibezx/Documents/Proyectos/PaginaWeb_Automoviles/Chatbot_Cars/Kia/all-new-sportage.pdf\n",
      "\n",
      "✅ JSON generado con 682 imágenes en: images_pdf/label_studio_import.json\n"
     ]
    }
   ],
   "source": [
    "import os\n",
    "import json\n",
    "from pdf2image import convert_from_path\n",
    "from PIL import Image\n",
    "import torch\n",
    "from transformers import AutoImageProcessor, AutoModelForObjectDetection\n",
    "\n",
    "# Configuración del modelo (igual que antes)\n",
    "model_name = \"microsoft/table-transformer-detection\"\n",
    "processor = AutoImageProcessor.from_pretrained(model_name, revision=\"no_timm\")\n",
    "model = AutoModelForObjectDetection.from_pretrained(model_name, revision=\"no_timm\")\n",
    "device = \"cuda\" if torch.cuda.is_available() else \"cpu\"\n",
    "model.to(device)\n",
    "model.eval()\n",
    "\n",
    "# Función para recolectar todas las imágenes procesadas\n",
    "def collect_processed_images(base_output_dir):\n",
    "    \"\"\"Recolecta todas las rutas de imágenes procesadas para Label Studio\"\"\"\n",
    "    image_data = []\n",
    "    \n",
    "    for root, dirs, files in os.walk(base_output_dir):\n",
    "        if \"pages\" in root:  # Solo buscamos en directorios de páginas\n",
    "            for file in files:\n",
    "                if file.lower().endswith('.png'):\n",
    "                    full_path = os.path.abspath(os.path.join(root, file))\n",
    "                    image_data.append({\n",
    "                        \"image\": full_path,\n",
    "                        \"pdf_name\": os.path.basename(os.path.dirname(os.path.dirname(root))),\n",
    "                        \"original_pdf\": os.path.join(\n",
    "                            os.path.dirname(os.path.dirname(root)),\n",
    "                            \"original\",\n",
    "                            os.path.basename(root) + \".pdf\"  # Asumiendo que guardas los PDFs originales\n",
    "                        )\n",
    "                    })\n",
    "    return image_data\n",
    "\n",
    "# Función principal modificada\n",
    "def process_all_pdfs(root_dir, base_output_dir=\"output_tables\", dpi=400):\n",
    "    all_tables = []\n",
    "    \n",
    "    # Primero procesamos todos los PDFs\n",
    "    for root, dirs, files in os.walk(root_dir):\n",
    "        for file in files:\n",
    "            if file.lower().endswith('.pdf'):\n",
    "                pdf_path = os.path.join(root, file)\n",
    "                try:\n",
    "                    print(f\"🔍 Procesando: {pdf_path}\")\n",
    "                    pdf_name = os.path.splitext(file)[0]\n",
    "                    output_pdf_dir = os.path.join(base_output_dir, pdf_name)\n",
    "                    \n",
    "                    # Convertir PDF a imágenes\n",
    "                    pages_dir = os.path.join(output_pdf_dir, \"pages\")\n",
    "                    convert_pdf_to_images(pdf_path, pages_dir, dpi)\n",
    "                    \n",
    "                    # Opcional: Guardar una copia del PDF original\n",
    "                    original_pdf_dir = os.path.join(output_pdf_dir, \"original\")\n",
    "                    os.makedirs(original_pdf_dir, exist_ok=True)\n",
    "                    os.system(f'cp \"{pdf_path}\" \"{original_pdf_dir}\"')\n",
    "\n",
    "                except Exception as e:\n",
    "                    print(f\"❌ Error procesando {pdf_path}: {str(e)}\")\n",
    "    \n",
    "    # Luego generamos el JSON para Label Studio\n",
    "    label_studio_data = []\n",
    "    images = collect_processed_images(base_output_dir)\n",
    "    \n",
    "    for img in images:\n",
    "        label_studio_data.append({\n",
    "            \"data\": {\n",
    "                \"image\": img[\"image\"],\n",
    "                \"pdf_info\": {\n",
    "                    \"name\": img[\"pdf_name\"],\n",
    "                    \"original_path\": img[\"original_pdf\"]\n",
    "                }\n",
    "            }\n",
    "        })\n",
    "    \n",
    "    # Guardar el JSON\n",
    "    json_path = os.path.join(base_output_dir, \"label_studio_import.json\")\n",
    "    with open(json_path, 'w', encoding='utf-8') as f:\n",
    "        json.dump(label_studio_data, f, indent=4, ensure_ascii=False)\n",
    "    \n",
    "    print(f\"\\n✅ JSON generado con {len(label_studio_data)} imágenes en: {json_path}\")\n",
    "    return all_tables\n",
    "\n",
    "# Funciones auxiliares (las mismas que antes)\n",
    "def convert_pdf_to_images(pdf_path, output_dir, dpi=400):\n",
    "    os.makedirs(output_dir, exist_ok=True)\n",
    "    pages = convert_from_path(pdf_path, dpi=dpi)\n",
    "    return [page.save(os.path.join(output_dir, f\"page_{i+1}.png\"), \"PNG\") for i, page in enumerate(pages)]\n",
    "\n",
    "def detect_tables_in_image(image_path, confidence_threshold=0.6):\n",
    "    # (Implementación anterior)\n",
    "    pass\n",
    "\n",
    "def crop_table_images(image_path, detections, output_dir):\n",
    "    # (Implementación anterior)\n",
    "    pass\n",
    "\n",
    "# Ejecución\n",
    "if __name__ == \"__main__\":\n",
    "    # Configuración\n",
    "    input_root = \"/home/pibezx/Documents/Proyectos/PaginaWeb_Automoviles/Chatbot_Cars\"\n",
    "    output_dir = \"images_pdf\"\n",
    "    \n",
    "    # Procesar todo y generar JSON\n",
    "    process_all_pdfs(\n",
    "        root_dir=input_root,\n",
    "        base_output_dir=output_dir,\n",
    "        dpi=400\n",
    "    )"
   ]
  },
  {
   "cell_type": "code",
   "execution_count": null,
   "metadata": {},
   "outputs": [],
   "source": []
  }
 ],
 "metadata": {
  "kernelspec": {
   "display_name": "chatbot_ml",
   "language": "python",
   "name": "python3"
  },
  "language_info": {
   "codemirror_mode": {
    "name": "ipython",
    "version": 3
   },
   "file_extension": ".py",
   "mimetype": "text/x-python",
   "name": "python",
   "nbconvert_exporter": "python",
   "pygments_lexer": "ipython3",
   "version": "3.10.16"
  }
 },
 "nbformat": 4,
 "nbformat_minor": 2
}
